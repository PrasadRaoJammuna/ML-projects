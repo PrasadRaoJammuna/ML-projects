{
 "cells": [
  {
   "cell_type": "code",
   "execution_count": 1,
   "metadata": {},
   "outputs": [],
   "source": [
    "import pyforest"
   ]
  },
  {
   "cell_type": "markdown",
   "metadata": {},
   "source": [
    "# Content"
   ]
  },
  {
   "cell_type": "markdown",
   "metadata": {},
   "source": [
    "\n",
    "This file has reviewer ID , User ID, Reviewer Name, Reviewer text, helpful, Summary(obtained from Reviewer text),Overall Rating on a scale 5, Review time\n",
    "Description of columns in the file:\n",
    "\n",
    "reviewerID - ID of the reviewer, e.g. A2SUAM1J3GNN3B<br>\n",
    "asin - ID of the product, e.g. 0000013714<br>\n",
    "reviewerName - name of the reviewer<br>\n",
    "helpful - helpfulness rating of the review, e.g. 2/3<br>\n",
    "reviewText - text of the review<br>\n",
    "overall - rating of the product<br>\n",
    "summary - summary of the review<br><br>\n",
    "unixReviewTime - time of the review (unix time)<br>\n",
    "reviewTime - time of the review (raw)<br>\n"
   ]
  },
  {
   "cell_type": "code",
   "execution_count": null,
   "metadata": {},
   "outputs": [],
   "source": []
  },
  {
   "cell_type": "markdown",
   "metadata": {},
   "source": [
    "# Task"
   ]
  },
  {
   "cell_type": "markdown",
   "metadata": {},
   "source": [
    "You have to perform Sentimental Analysis for this data. Help the organization to understand better about their customer feedback's So that they can concentrate on those issues customer's are facing. Build the model which has highest accuracy in classifying the feedback as positive,Negative and neutral.<br>\n",
    "Task :1<br>\n",
    "You have to categorize opinions expressed in feedback forums<br>\n",
    "Task :2<br>\n",
    "You have to classify individual comments/reviews and you have to determine overall rating based on individual\n",
    "comments/reviews.\n"
   ]
  },
  {
   "cell_type": "code",
   "execution_count": null,
   "metadata": {},
   "outputs": [],
   "source": []
  },
  {
   "cell_type": "markdown",
   "metadata": {},
   "source": [
    "# Inspiration  "
   ]
  },
  {
   "cell_type": "markdown",
   "metadata": {},
   "source": [
    "\n",
    "\n",
    "This is the Problem Statement given by ISRO to classify the customer comments. This would be helpful for the organization to understand Customer feedbacks."
   ]
  },
  {
   "cell_type": "code",
   "execution_count": null,
   "metadata": {},
   "outputs": [],
   "source": []
  },
  {
   "cell_type": "code",
   "execution_count": 2,
   "metadata": {},
   "outputs": [
    {
     "data": {
      "application/javascript": [
       "\n",
       "        if (window._pyforest_update_imports_cell) { window._pyforest_update_imports_cell('import pandas as pd'); }\n",
       "    "
      ],
      "text/plain": [
       "<IPython.core.display.Javascript object>"
      ]
     },
     "metadata": {},
     "output_type": "display_data"
    },
    {
     "data": {
      "text/html": [
       "<div>\n",
       "<style scoped>\n",
       "    .dataframe tbody tr th:only-of-type {\n",
       "        vertical-align: middle;\n",
       "    }\n",
       "\n",
       "    .dataframe tbody tr th {\n",
       "        vertical-align: top;\n",
       "    }\n",
       "\n",
       "    .dataframe thead th {\n",
       "        text-align: right;\n",
       "    }\n",
       "</style>\n",
       "<table border=\"1\" class=\"dataframe\">\n",
       "  <thead>\n",
       "    <tr style=\"text-align: right;\">\n",
       "      <th></th>\n",
       "      <th>reviewerID</th>\n",
       "      <th>asin</th>\n",
       "      <th>reviewerName</th>\n",
       "      <th>helpful</th>\n",
       "      <th>reviewText</th>\n",
       "      <th>overall</th>\n",
       "      <th>summary</th>\n",
       "      <th>unixReviewTime</th>\n",
       "      <th>reviewTime</th>\n",
       "    </tr>\n",
       "  </thead>\n",
       "  <tbody>\n",
       "    <tr>\n",
       "      <th>0</th>\n",
       "      <td>A2IBPI20UZIR0U</td>\n",
       "      <td>1384719342</td>\n",
       "      <td>cassandra tu \"Yeah, well, that's just like, u...</td>\n",
       "      <td>[0, 0]</td>\n",
       "      <td>Not much to write about here, but it does exac...</td>\n",
       "      <td>5.0</td>\n",
       "      <td>good</td>\n",
       "      <td>1393545600</td>\n",
       "      <td>02 28, 2014</td>\n",
       "    </tr>\n",
       "    <tr>\n",
       "      <th>1</th>\n",
       "      <td>A14VAT5EAX3D9S</td>\n",
       "      <td>1384719342</td>\n",
       "      <td>Jake</td>\n",
       "      <td>[13, 14]</td>\n",
       "      <td>The product does exactly as it should and is q...</td>\n",
       "      <td>5.0</td>\n",
       "      <td>Jake</td>\n",
       "      <td>1363392000</td>\n",
       "      <td>03 16, 2013</td>\n",
       "    </tr>\n",
       "  </tbody>\n",
       "</table>\n",
       "</div>"
      ],
      "text/plain": [
       "       reviewerID        asin  \\\n",
       "0  A2IBPI20UZIR0U  1384719342   \n",
       "1  A14VAT5EAX3D9S  1384719342   \n",
       "\n",
       "                                       reviewerName   helpful  \\\n",
       "0  cassandra tu \"Yeah, well, that's just like, u...    [0, 0]   \n",
       "1                                              Jake  [13, 14]   \n",
       "\n",
       "                                          reviewText  overall summary  \\\n",
       "0  Not much to write about here, but it does exac...      5.0    good   \n",
       "1  The product does exactly as it should and is q...      5.0    Jake   \n",
       "\n",
       "   unixReviewTime   reviewTime  \n",
       "0      1393545600  02 28, 2014  \n",
       "1      1363392000  03 16, 2013  "
      ]
     },
     "execution_count": 2,
     "metadata": {},
     "output_type": "execute_result"
    }
   ],
   "source": [
    "df = pd.read_csv('Musical_instruments_reviews.csv')\n",
    "df.head(2)"
   ]
  },
  {
   "cell_type": "code",
   "execution_count": 3,
   "metadata": {},
   "outputs": [
    {
     "data": {
      "text/plain": [
       "(10261, 9)"
      ]
     },
     "execution_count": 3,
     "metadata": {},
     "output_type": "execute_result"
    }
   ],
   "source": [
    "df.shape"
   ]
  },
  {
   "cell_type": "code",
   "execution_count": 4,
   "metadata": {},
   "outputs": [
    {
     "name": "stdout",
     "output_type": "stream",
     "text": [
      "<class 'pandas.core.frame.DataFrame'>\n",
      "RangeIndex: 10261 entries, 0 to 10260\n",
      "Data columns (total 9 columns):\n",
      "reviewerID        10261 non-null object\n",
      "asin              10261 non-null object\n",
      "reviewerName      10234 non-null object\n",
      "helpful           10261 non-null object\n",
      "reviewText        10254 non-null object\n",
      "overall           10261 non-null float64\n",
      "summary           10261 non-null object\n",
      "unixReviewTime    10261 non-null int64\n",
      "reviewTime        10261 non-null object\n",
      "dtypes: float64(1), int64(1), object(7)\n",
      "memory usage: 721.6+ KB\n"
     ]
    }
   ],
   "source": [
    "df.info()"
   ]
  },
  {
   "cell_type": "markdown",
   "metadata": {},
   "source": [
    "<a href='https://www.kaggle.com/eswarchandt/amazon-music-reviews'>Link</a>"
   ]
  },
  {
   "cell_type": "code",
   "execution_count": 5,
   "metadata": {},
   "outputs": [
    {
     "data": {
      "text/plain": [
       "reviewerID         0\n",
       "asin               0\n",
       "reviewerName      27\n",
       "helpful            0\n",
       "reviewText         7\n",
       "overall            0\n",
       "summary            0\n",
       "unixReviewTime     0\n",
       "reviewTime         0\n",
       "dtype: int64"
      ]
     },
     "execution_count": 5,
     "metadata": {},
     "output_type": "execute_result"
    }
   ],
   "source": [
    "df.isna().sum()"
   ]
  },
  {
   "cell_type": "code",
   "execution_count": 6,
   "metadata": {},
   "outputs": [],
   "source": [
    "df.dropna(inplace=True)"
   ]
  },
  {
   "cell_type": "code",
   "execution_count": 7,
   "metadata": {},
   "outputs": [
    {
     "data": {
      "text/plain": [
       "(10227, 9)"
      ]
     },
     "execution_count": 7,
     "metadata": {},
     "output_type": "execute_result"
    }
   ],
   "source": [
    "df.shape"
   ]
  },
  {
   "cell_type": "code",
   "execution_count": 10,
   "metadata": {},
   "outputs": [
    {
     "data": {
      "text/html": [
       "<div>\n",
       "<style scoped>\n",
       "    .dataframe tbody tr th:only-of-type {\n",
       "        vertical-align: middle;\n",
       "    }\n",
       "\n",
       "    .dataframe tbody tr th {\n",
       "        vertical-align: top;\n",
       "    }\n",
       "\n",
       "    .dataframe thead th {\n",
       "        text-align: right;\n",
       "    }\n",
       "</style>\n",
       "<table border=\"1\" class=\"dataframe\">\n",
       "  <thead>\n",
       "    <tr style=\"text-align: right;\">\n",
       "      <th></th>\n",
       "      <th>reviewerID</th>\n",
       "      <th>asin</th>\n",
       "      <th>reviewerName</th>\n",
       "      <th>helpful</th>\n",
       "      <th>reviewText</th>\n",
       "      <th>overall</th>\n",
       "      <th>summary</th>\n",
       "      <th>unixReviewTime</th>\n",
       "      <th>reviewTime</th>\n",
       "    </tr>\n",
       "  </thead>\n",
       "  <tbody>\n",
       "    <tr>\n",
       "      <th>0</th>\n",
       "      <td>A2IBPI20UZIR0U</td>\n",
       "      <td>1384719342</td>\n",
       "      <td>cassandra tu \"Yeah, well, that's just like, u...</td>\n",
       "      <td>[0, 0]</td>\n",
       "      <td>Not much to write about here, but it does exac...</td>\n",
       "      <td>5.0</td>\n",
       "      <td>good</td>\n",
       "      <td>1393545600</td>\n",
       "      <td>02 28, 2014</td>\n",
       "    </tr>\n",
       "    <tr>\n",
       "      <th>1</th>\n",
       "      <td>A14VAT5EAX3D9S</td>\n",
       "      <td>1384719342</td>\n",
       "      <td>Jake</td>\n",
       "      <td>[13, 14]</td>\n",
       "      <td>The product does exactly as it should and is q...</td>\n",
       "      <td>5.0</td>\n",
       "      <td>Jake</td>\n",
       "      <td>1363392000</td>\n",
       "      <td>03 16, 2013</td>\n",
       "    </tr>\n",
       "    <tr>\n",
       "      <th>2</th>\n",
       "      <td>A195EZSQDW3E21</td>\n",
       "      <td>1384719342</td>\n",
       "      <td>Rick Bennette \"Rick Bennette\"</td>\n",
       "      <td>[1, 1]</td>\n",
       "      <td>The primary job of this device is to block the...</td>\n",
       "      <td>5.0</td>\n",
       "      <td>It Does The Job Well</td>\n",
       "      <td>1377648000</td>\n",
       "      <td>08 28, 2013</td>\n",
       "    </tr>\n",
       "    <tr>\n",
       "      <th>3</th>\n",
       "      <td>A2C00NNG1ZQQG2</td>\n",
       "      <td>1384719342</td>\n",
       "      <td>RustyBill \"Sunday Rocker\"</td>\n",
       "      <td>[0, 0]</td>\n",
       "      <td>Nice windscreen protects my MXL mic and preven...</td>\n",
       "      <td>5.0</td>\n",
       "      <td>GOOD WINDSCREEN FOR THE MONEY</td>\n",
       "      <td>1392336000</td>\n",
       "      <td>02 14, 2014</td>\n",
       "    </tr>\n",
       "    <tr>\n",
       "      <th>4</th>\n",
       "      <td>A94QU4C90B1AX</td>\n",
       "      <td>1384719342</td>\n",
       "      <td>SEAN MASLANKA</td>\n",
       "      <td>[0, 0]</td>\n",
       "      <td>This pop filter is great. It looks and perform...</td>\n",
       "      <td>5.0</td>\n",
       "      <td>No more pops when I record my vocals.</td>\n",
       "      <td>1392940800</td>\n",
       "      <td>02 21, 2014</td>\n",
       "    </tr>\n",
       "  </tbody>\n",
       "</table>\n",
       "</div>"
      ],
      "text/plain": [
       "       reviewerID        asin  \\\n",
       "0  A2IBPI20UZIR0U  1384719342   \n",
       "1  A14VAT5EAX3D9S  1384719342   \n",
       "2  A195EZSQDW3E21  1384719342   \n",
       "3  A2C00NNG1ZQQG2  1384719342   \n",
       "4   A94QU4C90B1AX  1384719342   \n",
       "\n",
       "                                       reviewerName   helpful  \\\n",
       "0  cassandra tu \"Yeah, well, that's just like, u...    [0, 0]   \n",
       "1                                              Jake  [13, 14]   \n",
       "2                     Rick Bennette \"Rick Bennette\"    [1, 1]   \n",
       "3                         RustyBill \"Sunday Rocker\"    [0, 0]   \n",
       "4                                     SEAN MASLANKA    [0, 0]   \n",
       "\n",
       "                                          reviewText  overall  \\\n",
       "0  Not much to write about here, but it does exac...      5.0   \n",
       "1  The product does exactly as it should and is q...      5.0   \n",
       "2  The primary job of this device is to block the...      5.0   \n",
       "3  Nice windscreen protects my MXL mic and preven...      5.0   \n",
       "4  This pop filter is great. It looks and perform...      5.0   \n",
       "\n",
       "                                 summary  unixReviewTime   reviewTime  \n",
       "0                                   good      1393545600  02 28, 2014  \n",
       "1                                   Jake      1363392000  03 16, 2013  \n",
       "2                   It Does The Job Well      1377648000  08 28, 2013  \n",
       "3          GOOD WINDSCREEN FOR THE MONEY      1392336000  02 14, 2014  \n",
       "4  No more pops when I record my vocals.      1392940800  02 21, 2014  "
      ]
     },
     "execution_count": 10,
     "metadata": {},
     "output_type": "execute_result"
    }
   ],
   "source": [
    "df.head()"
   ]
  },
  {
   "cell_type": "code",
   "execution_count": null,
   "metadata": {},
   "outputs": [],
   "source": []
  },
  {
   "cell_type": "markdown",
   "metadata": {},
   "source": [
    "# Data Cleaning"
   ]
  },
  {
   "cell_type": "code",
   "execution_count": 12,
   "metadata": {},
   "outputs": [
    {
     "data": {
      "text/plain": [
       "(10227, 3)"
      ]
     },
     "execution_count": 12,
     "metadata": {},
     "output_type": "execute_result"
    }
   ],
   "source": [
    "df.drop(['reviewerID','asin','reviewerName','helpful','unixReviewTime','reviewTime'],inplace=True,axis=1)\n",
    "df.shape"
   ]
  },
  {
   "cell_type": "code",
   "execution_count": 13,
   "metadata": {},
   "outputs": [
    {
     "data": {
      "text/html": [
       "<div>\n",
       "<style scoped>\n",
       "    .dataframe tbody tr th:only-of-type {\n",
       "        vertical-align: middle;\n",
       "    }\n",
       "\n",
       "    .dataframe tbody tr th {\n",
       "        vertical-align: top;\n",
       "    }\n",
       "\n",
       "    .dataframe thead th {\n",
       "        text-align: right;\n",
       "    }\n",
       "</style>\n",
       "<table border=\"1\" class=\"dataframe\">\n",
       "  <thead>\n",
       "    <tr style=\"text-align: right;\">\n",
       "      <th></th>\n",
       "      <th>reviewText</th>\n",
       "      <th>overall</th>\n",
       "      <th>summary</th>\n",
       "    </tr>\n",
       "  </thead>\n",
       "  <tbody>\n",
       "    <tr>\n",
       "      <th>0</th>\n",
       "      <td>Not much to write about here, but it does exac...</td>\n",
       "      <td>5.0</td>\n",
       "      <td>good</td>\n",
       "    </tr>\n",
       "    <tr>\n",
       "      <th>1</th>\n",
       "      <td>The product does exactly as it should and is q...</td>\n",
       "      <td>5.0</td>\n",
       "      <td>Jake</td>\n",
       "    </tr>\n",
       "  </tbody>\n",
       "</table>\n",
       "</div>"
      ],
      "text/plain": [
       "                                          reviewText  overall summary\n",
       "0  Not much to write about here, but it does exac...      5.0    good\n",
       "1  The product does exactly as it should and is q...      5.0    Jake"
      ]
     },
     "execution_count": 13,
     "metadata": {},
     "output_type": "execute_result"
    }
   ],
   "source": [
    "df.head(2)"
   ]
  },
  {
   "cell_type": "code",
   "execution_count": 14,
   "metadata": {},
   "outputs": [],
   "source": [
    "df.to_csv('final_set.csv',index=False)"
   ]
  },
  {
   "cell_type": "code",
   "execution_count": 15,
   "metadata": {},
   "outputs": [
    {
     "data": {
      "application/javascript": [
       "\n",
       "        if (window._pyforest_update_imports_cell) { window._pyforest_update_imports_cell('import pandas as pd'); }\n",
       "    "
      ],
      "text/plain": [
       "<IPython.core.display.Javascript object>"
      ]
     },
     "metadata": {},
     "output_type": "display_data"
    },
    {
     "data": {
      "text/html": [
       "<div>\n",
       "<style scoped>\n",
       "    .dataframe tbody tr th:only-of-type {\n",
       "        vertical-align: middle;\n",
       "    }\n",
       "\n",
       "    .dataframe tbody tr th {\n",
       "        vertical-align: top;\n",
       "    }\n",
       "\n",
       "    .dataframe thead th {\n",
       "        text-align: right;\n",
       "    }\n",
       "</style>\n",
       "<table border=\"1\" class=\"dataframe\">\n",
       "  <thead>\n",
       "    <tr style=\"text-align: right;\">\n",
       "      <th></th>\n",
       "      <th>reviewText</th>\n",
       "      <th>overall</th>\n",
       "      <th>summary</th>\n",
       "    </tr>\n",
       "  </thead>\n",
       "  <tbody>\n",
       "    <tr>\n",
       "      <th>0</th>\n",
       "      <td>Not much to write about here, but it does exac...</td>\n",
       "      <td>5.0</td>\n",
       "      <td>good</td>\n",
       "    </tr>\n",
       "    <tr>\n",
       "      <th>1</th>\n",
       "      <td>The product does exactly as it should and is q...</td>\n",
       "      <td>5.0</td>\n",
       "      <td>Jake</td>\n",
       "    </tr>\n",
       "    <tr>\n",
       "      <th>2</th>\n",
       "      <td>The primary job of this device is to block the...</td>\n",
       "      <td>5.0</td>\n",
       "      <td>It Does The Job Well</td>\n",
       "    </tr>\n",
       "    <tr>\n",
       "      <th>3</th>\n",
       "      <td>Nice windscreen protects my MXL mic and preven...</td>\n",
       "      <td>5.0</td>\n",
       "      <td>GOOD WINDSCREEN FOR THE MONEY</td>\n",
       "    </tr>\n",
       "  </tbody>\n",
       "</table>\n",
       "</div>"
      ],
      "text/plain": [
       "                                          reviewText  overall  \\\n",
       "0  Not much to write about here, but it does exac...      5.0   \n",
       "1  The product does exactly as it should and is q...      5.0   \n",
       "2  The primary job of this device is to block the...      5.0   \n",
       "3  Nice windscreen protects my MXL mic and preven...      5.0   \n",
       "\n",
       "                         summary  \n",
       "0                           good  \n",
       "1                           Jake  \n",
       "2           It Does The Job Well  \n",
       "3  GOOD WINDSCREEN FOR THE MONEY  "
      ]
     },
     "execution_count": 15,
     "metadata": {},
     "output_type": "execute_result"
    }
   ],
   "source": [
    "df = pd.read_csv('final_set.csv')\n",
    "df.head(4)"
   ]
  },
  {
   "cell_type": "code",
   "execution_count": 23,
   "metadata": {},
   "outputs": [
    {
     "data": {
      "text/plain": [
       "'The Evans Pedal Patch will work for you great.. It will keep your mass drum head from gettingworn and nasty..  I cheap buy and it works excellent..'"
      ]
     },
     "execution_count": 23,
     "metadata": {},
     "output_type": "execute_result"
    }
   ],
   "source": [
    "df['reviewText'][1000]"
   ]
  },
  {
   "cell_type": "code",
   "execution_count": 24,
   "metadata": {},
   "outputs": [
    {
     "data": {
      "text/plain": [
       "reviewText    The Evans Pedal Patch will work for you great....\n",
       "overall                                                       5\n",
       "summary                                A Must for a Double Kick\n",
       "Name: 1000, dtype: object"
      ]
     },
     "execution_count": 24,
     "metadata": {},
     "output_type": "execute_result"
    }
   ],
   "source": [
    "df.iloc[1000]"
   ]
  },
  {
   "cell_type": "code",
   "execution_count": 25,
   "metadata": {},
   "outputs": [
    {
     "data": {
      "text/plain": [
       "5.0    6912\n",
       "4.0    2079\n",
       "3.0     771\n",
       "2.0     249\n",
       "1.0     216\n",
       "Name: overall, dtype: int64"
      ]
     },
     "execution_count": 25,
     "metadata": {},
     "output_type": "execute_result"
    }
   ],
   "source": [
    "df['overall'].value_counts()"
   ]
  },
  {
   "cell_type": "code",
   "execution_count": 33,
   "metadata": {},
   "outputs": [
    {
     "data": {
      "text/plain": [
       "(8991, 3)"
      ]
     },
     "execution_count": 33,
     "metadata": {},
     "output_type": "execute_result"
    }
   ],
   "source": [
    "df[df['overall']>3].shape"
   ]
  },
  {
   "cell_type": "code",
   "execution_count": 36,
   "metadata": {},
   "outputs": [
    {
     "data": {
      "text/plain": [
       "(1236, 3)"
      ]
     },
     "execution_count": 36,
     "metadata": {},
     "output_type": "execute_result"
    }
   ],
   "source": [
    "df[df['overall']<=3].shape"
   ]
  },
  {
   "cell_type": "code",
   "execution_count": 34,
   "metadata": {},
   "outputs": [
    {
     "data": {
      "text/plain": [
       "(10227, 3)"
      ]
     },
     "execution_count": 34,
     "metadata": {},
     "output_type": "execute_result"
    }
   ],
   "source": [
    "df.shape"
   ]
  },
  {
   "cell_type": "code",
   "execution_count": 37,
   "metadata": {},
   "outputs": [],
   "source": [
    "def sentiment(x):\n",
    "    if x>3:\n",
    "        return 1\n",
    "    else:\n",
    "        return 0"
   ]
  },
  {
   "cell_type": "code",
   "execution_count": 38,
   "metadata": {},
   "outputs": [],
   "source": [
    "df['Sentiment'] = df['overall'].apply(sentimentiment)"
   ]
  },
  {
   "cell_type": "code",
   "execution_count": 39,
   "metadata": {},
   "outputs": [
    {
     "data": {
      "text/html": [
       "<div>\n",
       "<style scoped>\n",
       "    .dataframe tbody tr th:only-of-type {\n",
       "        vertical-align: middle;\n",
       "    }\n",
       "\n",
       "    .dataframe tbody tr th {\n",
       "        vertical-align: top;\n",
       "    }\n",
       "\n",
       "    .dataframe thead th {\n",
       "        text-align: right;\n",
       "    }\n",
       "</style>\n",
       "<table border=\"1\" class=\"dataframe\">\n",
       "  <thead>\n",
       "    <tr style=\"text-align: right;\">\n",
       "      <th></th>\n",
       "      <th>reviewText</th>\n",
       "      <th>overall</th>\n",
       "      <th>summary</th>\n",
       "      <th>Sentiment</th>\n",
       "    </tr>\n",
       "  </thead>\n",
       "  <tbody>\n",
       "    <tr>\n",
       "      <th>0</th>\n",
       "      <td>Not much to write about here, but it does exac...</td>\n",
       "      <td>5.0</td>\n",
       "      <td>good</td>\n",
       "      <td>1</td>\n",
       "    </tr>\n",
       "    <tr>\n",
       "      <th>1</th>\n",
       "      <td>The product does exactly as it should and is q...</td>\n",
       "      <td>5.0</td>\n",
       "      <td>Jake</td>\n",
       "      <td>1</td>\n",
       "    </tr>\n",
       "  </tbody>\n",
       "</table>\n",
       "</div>"
      ],
      "text/plain": [
       "                                          reviewText  overall summary  \\\n",
       "0  Not much to write about here, but it does exac...      5.0    good   \n",
       "1  The product does exactly as it should and is q...      5.0    Jake   \n",
       "\n",
       "   Sentiment  \n",
       "0          1  \n",
       "1          1  "
      ]
     },
     "execution_count": 39,
     "metadata": {},
     "output_type": "execute_result"
    }
   ],
   "source": [
    "df.head(2)"
   ]
  },
  {
   "cell_type": "code",
   "execution_count": null,
   "metadata": {},
   "outputs": [],
   "source": []
  },
  {
   "cell_type": "code",
   "execution_count": 41,
   "metadata": {},
   "outputs": [],
   "source": [
    "df['Final_text']  = df['reviewText']+\" \"+df['summary']"
   ]
  },
  {
   "cell_type": "code",
   "execution_count": 42,
   "metadata": {},
   "outputs": [
    {
     "data": {
      "text/html": [
       "<div>\n",
       "<style scoped>\n",
       "    .dataframe tbody tr th:only-of-type {\n",
       "        vertical-align: middle;\n",
       "    }\n",
       "\n",
       "    .dataframe tbody tr th {\n",
       "        vertical-align: top;\n",
       "    }\n",
       "\n",
       "    .dataframe thead th {\n",
       "        text-align: right;\n",
       "    }\n",
       "</style>\n",
       "<table border=\"1\" class=\"dataframe\">\n",
       "  <thead>\n",
       "    <tr style=\"text-align: right;\">\n",
       "      <th></th>\n",
       "      <th>reviewText</th>\n",
       "      <th>overall</th>\n",
       "      <th>summary</th>\n",
       "      <th>Sentiment</th>\n",
       "      <th>Final_text</th>\n",
       "    </tr>\n",
       "  </thead>\n",
       "  <tbody>\n",
       "    <tr>\n",
       "      <th>0</th>\n",
       "      <td>Not much to write about here, but it does exac...</td>\n",
       "      <td>5.0</td>\n",
       "      <td>good</td>\n",
       "      <td>1</td>\n",
       "      <td>Not much to write about here, but it does exac...</td>\n",
       "    </tr>\n",
       "    <tr>\n",
       "      <th>1</th>\n",
       "      <td>The product does exactly as it should and is q...</td>\n",
       "      <td>5.0</td>\n",
       "      <td>Jake</td>\n",
       "      <td>1</td>\n",
       "      <td>The product does exactly as it should and is q...</td>\n",
       "    </tr>\n",
       "    <tr>\n",
       "      <th>2</th>\n",
       "      <td>The primary job of this device is to block the...</td>\n",
       "      <td>5.0</td>\n",
       "      <td>It Does The Job Well</td>\n",
       "      <td>1</td>\n",
       "      <td>The primary job of this device is to block the...</td>\n",
       "    </tr>\n",
       "  </tbody>\n",
       "</table>\n",
       "</div>"
      ],
      "text/plain": [
       "                                          reviewText  overall  \\\n",
       "0  Not much to write about here, but it does exac...      5.0   \n",
       "1  The product does exactly as it should and is q...      5.0   \n",
       "2  The primary job of this device is to block the...      5.0   \n",
       "\n",
       "                summary  Sentiment  \\\n",
       "0                  good          1   \n",
       "1                  Jake          1   \n",
       "2  It Does The Job Well          1   \n",
       "\n",
       "                                          Final_text  \n",
       "0  Not much to write about here, but it does exac...  \n",
       "1  The product does exactly as it should and is q...  \n",
       "2  The primary job of this device is to block the...  "
      ]
     },
     "execution_count": 42,
     "metadata": {},
     "output_type": "execute_result"
    }
   ],
   "source": [
    "df.head(3)"
   ]
  },
  {
   "cell_type": "code",
   "execution_count": null,
   "metadata": {},
   "outputs": [],
   "source": []
  },
  {
   "cell_type": "code",
   "execution_count": 44,
   "metadata": {},
   "outputs": [],
   "source": [
    "df.drop(['reviewText','overall','summary'],axis=1,inplace=True)"
   ]
  },
  {
   "cell_type": "code",
   "execution_count": 45,
   "metadata": {},
   "outputs": [],
   "source": [
    "df.to_csv('clean_data.csv',index=False)"
   ]
  },
  {
   "cell_type": "code",
   "execution_count": 70,
   "metadata": {},
   "outputs": [
    {
     "data": {
      "application/javascript": [
       "\n",
       "        if (window._pyforest_update_imports_cell) { window._pyforest_update_imports_cell('import pandas as pd'); }\n",
       "    "
      ],
      "text/plain": [
       "<IPython.core.display.Javascript object>"
      ]
     },
     "metadata": {},
     "output_type": "display_data"
    }
   ],
   "source": [
    "df = pd.read_csv('clean_data.csv')"
   ]
  },
  {
   "cell_type": "code",
   "execution_count": 71,
   "metadata": {},
   "outputs": [
    {
     "data": {
      "text/html": [
       "<div>\n",
       "<style scoped>\n",
       "    .dataframe tbody tr th:only-of-type {\n",
       "        vertical-align: middle;\n",
       "    }\n",
       "\n",
       "    .dataframe tbody tr th {\n",
       "        vertical-align: top;\n",
       "    }\n",
       "\n",
       "    .dataframe thead th {\n",
       "        text-align: right;\n",
       "    }\n",
       "</style>\n",
       "<table border=\"1\" class=\"dataframe\">\n",
       "  <thead>\n",
       "    <tr style=\"text-align: right;\">\n",
       "      <th></th>\n",
       "      <th>Sentiment</th>\n",
       "      <th>Final_text</th>\n",
       "    </tr>\n",
       "  </thead>\n",
       "  <tbody>\n",
       "    <tr>\n",
       "      <th>0</th>\n",
       "      <td>1</td>\n",
       "      <td>Not much to write about here, but it does exac...</td>\n",
       "    </tr>\n",
       "    <tr>\n",
       "      <th>1</th>\n",
       "      <td>1</td>\n",
       "      <td>The product does exactly as it should and is q...</td>\n",
       "    </tr>\n",
       "  </tbody>\n",
       "</table>\n",
       "</div>"
      ],
      "text/plain": [
       "   Sentiment                                         Final_text\n",
       "0          1  Not much to write about here, but it does exac...\n",
       "1          1  The product does exactly as it should and is q..."
      ]
     },
     "execution_count": 71,
     "metadata": {},
     "output_type": "execute_result"
    }
   ],
   "source": [
    "df.head(2)"
   ]
  },
  {
   "cell_type": "code",
   "execution_count": null,
   "metadata": {},
   "outputs": [],
   "source": []
  },
  {
   "cell_type": "markdown",
   "metadata": {},
   "source": [
    "# Text Preprocessing.\n",
    "Now our data requires some preprocessing before we go on further with analysis and making the prediction model.\n",
    "\n",
    "\n",
    "<li>Begin by removing the html tags<br>\n",
    "<li>Remove any punctuations or limited set of special characters like , or . or # etc.<br>\n",
    "<li>Check if the word is made up of english letters and is not alpha-numeric<br>\n",
    "<li>Check to see if the length of the word is greater than 2 (as it was researched that there is no adjective in 2-letters)<br>\n",
    "<li>Convert the word to lowercase<br>\n",
    "<li>Remove Stopwords<br>\n",
    "<li>Finally Snowball Stemming the word (it was obsereved to be better than Porter Stemming)<br>\n",
    "After which we collect the words used to describe positive and negative reviews<br>"
   ]
  },
  {
   "cell_type": "code",
   "execution_count": null,
   "metadata": {},
   "outputs": [],
   "source": []
  },
  {
   "cell_type": "code",
   "execution_count": 72,
   "metadata": {},
   "outputs": [
    {
     "name": "stdout",
     "output_type": "stream",
     "text": [
      "showing info https://raw.githubusercontent.com/nltk/nltk_data/gh-pages/index.xml\n"
     ]
    },
    {
     "data": {
      "text/plain": [
       "True"
      ]
     },
     "execution_count": 72,
     "metadata": {},
     "output_type": "execute_result"
    }
   ],
   "source": [
    "import re\n",
    "import nltk\n",
    "nltk.download()"
   ]
  },
  {
   "cell_type": "code",
   "execution_count": 73,
   "metadata": {},
   "outputs": [],
   "source": [
    "from nltk.corpus import stopwords\n",
    "from wordcloud import WordCloud,STOPWORDS\n",
    "from bs4 import BeautifulSoup\n",
    "\n",
    "\n",
    "#https://snowballstem.org/"
   ]
  },
  {
   "cell_type": "code",
   "execution_count": 94,
   "metadata": {},
   "outputs": [],
   "source": [
    " snst = nltk.stem.SnowballStemmer('english')"
   ]
  },
  {
   "cell_type": "code",
   "execution_count": 80,
   "metadata": {},
   "outputs": [
    {
     "data": {
      "text/plain": [
       "'failur'"
      ]
     },
     "execution_count": 80,
     "metadata": {},
     "output_type": "execute_result"
    }
   ],
   "source": [
    "snst.stem('failure')"
   ]
  },
  {
   "cell_type": "code",
   "execution_count": 81,
   "metadata": {},
   "outputs": [
    {
     "data": {
      "text/plain": [
       "'review'"
      ]
     },
     "execution_count": 81,
     "metadata": {},
     "output_type": "execute_result"
    }
   ],
   "source": [
    "snst.stem('reviews')"
   ]
  },
  {
   "cell_type": "code",
   "execution_count": 91,
   "metadata": {},
   "outputs": [
    {
     "data": {
      "text/plain": [
       "\"I have one of these for a Lanikai tenor, and one for a Stagg soprano. The soprano one fits great, even though it's a different brand. Perfect. Fits great\""
      ]
     },
     "execution_count": 91,
     "metadata": {},
     "output_type": "execute_result"
    }
   ],
   "source": [
    "df['Final_text'][7000]"
   ]
  },
  {
   "cell_type": "code",
   "execution_count": 92,
   "metadata": {},
   "outputs": [
    {
     "data": {
      "text/plain": [
       "\"i have one of these for a lanikai tenor, and one for a stagg soprano. the soprano one fits great, even though it's a different brand. perfect. fits great\""
      ]
     },
     "execution_count": 92,
     "metadata": {},
     "output_type": "execute_result"
    }
   ],
   "source": [
    "snst.stem(df['Final_text'][7000])"
   ]
  },
  {
   "cell_type": "code",
   "execution_count": 96,
   "metadata": {},
   "outputs": [],
   "source": [
    "def stemming(sentance):\n",
    "       return snst.stem(sentance)"
   ]
  },
  {
   "cell_type": "code",
   "execution_count": null,
   "metadata": {},
   "outputs": [],
   "source": []
  },
  {
   "cell_type": "code",
   "execution_count": 82,
   "metadata": {},
   "outputs": [],
   "source": [
    "text = df['Final_text'].values"
   ]
  },
  {
   "cell_type": "code",
   "execution_count": 75,
   "metadata": {},
   "outputs": [],
   "source": [
    "# https://stackoverflow.com/a/47091490/4084039\n",
    "import re\n",
    "\n",
    "def decontracted(phrase):\n",
    "    # specific\n",
    "    phrase = re.sub(r\"won't\", \"will not\", phrase)\n",
    "    phrase = re.sub(r\"can\\'t\", \"can not\", phrase)\n",
    "\n",
    "    # general\n",
    "    phrase = re.sub(r\"n\\'t\", \" not\", phrase)\n",
    "    phrase = re.sub(r\"\\'re\", \" are\", phrase)\n",
    "    phrase = re.sub(r\"\\'s\", \" is\", phrase)\n",
    "    phrase = re.sub(r\"\\'d\", \" would\", phrase)\n",
    "    phrase = re.sub(r\"\\'ll\", \" will\", phrase)\n",
    "    phrase = re.sub(r\"\\'t\", \" not\", phrase)\n",
    "    phrase = re.sub(r\"\\'ve\", \" have\", phrase)\n",
    "    phrase = re.sub(r\"\\'m\", \" am\", phrase)\n",
    "    phrase =  re.sub(r\"http\\S+\", \"\", phrase)\n",
    "    return phrase"
   ]
  },
  {
   "cell_type": "code",
   "execution_count": 76,
   "metadata": {},
   "outputs": [],
   "source": [
    "# https://gist.github.com/sebleier/554280\n",
    "\n",
    "\n",
    "# we are removing the words from the stop words list: 'no', 'nor', 'not'\n",
    "# <br /><br /> ==> after the above steps, we are getting \"br br\"\n",
    "# we are including them into stop words list\n",
    "# instead of <br /> if we have <br/> these tags would have revmoved in the 1st step\n",
    "\n",
    "\n",
    "stopwords= set(['br', 'the', 'i', 'me', 'my', 'myself', 'we', 'our', 'ours', 'ourselves', 'you', \"you're\", \"you've\",\\\n",
    "            \"you'll\", \"you'd\", 'your', 'yours', 'yourself', 'yourselves', 'he', 'him', 'his', 'himself', \\\n",
    "            'she', \"she's\", 'her', 'hers', 'herself', 'it', \"it's\", 'its', 'itself', 'they', 'them', 'their',\\\n",
    "            'theirs', 'themselves', 'what', 'which', 'who', 'whom', 'this', 'that', \"that'll\", 'these', 'those', \\\n",
    "            'am', 'is', 'are', 'was', 'were', 'be', 'been', 'being', 'have', 'has', 'had', 'having', 'do', 'does', \\\n",
    "            'did', 'doing', 'a', 'an', 'the', 'and', 'but', 'if', 'or', 'because', 'as', 'until', 'while', 'of', \\\n",
    "            'at', 'by', 'for', 'with', 'about', 'against', 'between', 'into', 'through', 'during', 'before', 'after',\\\n",
    "            'above', 'below', 'to', 'from', 'up', 'down', 'in', 'out', 'on', 'off', 'over', 'under', 'again', 'further',\\\n",
    "            'then', 'once', 'here', 'there', 'when', 'where', 'why', 'how', 'all', 'any', 'both', 'each', 'few', 'more',\\\n",
    "            'most', 'other', 'some', 'such', 'only', 'own', 'same', 'so', 'than', 'too', 'very', \\\n",
    "            's', 't', 'can', 'will', 'just', 'don', \"don't\", 'should', \"should've\", 'now', 'd', 'll', 'm', 'o', 're', \\\n",
    "            've', 'y', 'ain', 'aren', \"aren't\", 'couldn', \"couldn't\", 'didn', \"didn't\", 'doesn', \"doesn't\", 'hadn',\\\n",
    "            \"hadn't\", 'hasn', \"hasn't\", 'haven', \"haven't\", 'isn', \"isn't\", 'ma', 'mightn', \"mightn't\", 'mustn',\\\n",
    "            \"mustn't\", 'needn', \"needn't\", 'shan', \"shan't\", 'shouldn', \"shouldn't\", 'wasn', \"wasn't\", 'weren', \"weren't\", \\\n",
    "            'won', \"won't\", 'wouldn', \"wouldn't\"])"
   ]
  },
  {
   "cell_type": "code",
   "execution_count": 99,
   "metadata": {},
   "outputs": [],
   "source": [
    "# Combining all the above functions\n",
    "\n",
    " # https://gist.github.com/sebleier/554280\n",
    "    \n",
    "from tqdm import tqdm\n",
    "\n",
    "preprocessed_reviews = []\n",
    "\n",
    "def preprocess_text(text):\n",
    "        # tqdm is for printing the status bar\n",
    "        for sentance in tqdm(text):\n",
    "            sentance = re.sub(r\"http\\S+\", \"\", sentance)\n",
    "            sentance = BeautifulSoup(sentance, 'lxml').get_text()\n",
    "            sentance = decontracted(sentance)\n",
    "            sentance = re.sub(\"\\S*\\d\\S*\", \"\", sentance).strip()\n",
    "            sentance = re.sub('[^A-Za-z]+', ' ', sentance)\n",
    "            sentance = ' '.join(e.lower() for e in sentance.split() if e.lower() not in stopwords) \n",
    "            sentance = stemming(sentance)\n",
    "            \n",
    "            preprocessed_reviews.append(sentance.strip())\n",
    "\n",
    "        return preprocessed_reviews"
   ]
  },
  {
   "cell_type": "code",
   "execution_count": 100,
   "metadata": {},
   "outputs": [
    {
     "name": "stderr",
     "output_type": "stream",
     "text": [
      "100%|███████████████████████████████████████████████████████| 10227/10227 [00:11<00:00, 924.95it/s]\n"
     ]
    },
    {
     "data": {
      "text/plain": [
       "['not much write exactly supposed filters pop sounds recordings much crisp one lowest prices pop filters amazon might well buy honestly work despite pricing good',\n",
       " 'product exactly quite affordable not realized double screened arrived even better expected added bonus one screens carries small hint smell old grape candy used buy reminiscent sake cannot stop putting pop filter next nose smelling recording dif needed pop filter work well expensive ones may even come pleasing aroma like mine buy product jak',\n",
       " 'primary job device block breath would otherwise produce popping sound allowing voice pass no noticeable reduction volume high frequencies double cloth filter blocks pops lets voice no coloration metal clamp mount attaches mike stand secure enough keep attached goose neck needs little coaxing stay put job wel',\n",
       " 'nice windscreen protects mxl mic prevents pops thing gooseneck marginally able hold screen position requires careful positioning clamp avoid sagging good windscreen money',\n",
       " 'pop filter great looks performs like studio filter recording vocals eliminate pops gets recorded sing no pops record voc',\n",
       " 'good bought another one love heavy cord gold connectors bass sounds great learned last night coil guess read instructions carefully no harm done still works great best c',\n",
       " 'used monster cables years good reason lifetime warranty worth price alone simple fact cables break getting replace no cost monster standard instrument c',\n",
       " 'use cable run output pedal chain input fender amp bought monster cable hook pedal board thought would try another one update guitar using high end planet waves cable bought found input jacks new monster cable not fit fender strat jack little disappointed not return stated use output pedal board save money went back planet waves cable payed back eighties planet waves comes around getting get pay thought waves lot money back day not bought guitar cable since plus years still working planet waves wins not fit fender strat',\n",
       " 'perfect epiphone sheraton ii monster cables well constructed several never problems years got one wanted degree plug great c',\n",
       " 'monster makes best cables lifetime warranty doesnt hurt either isnt top line series works great bass guitar rig time cant go wrong monster cables best instrument cables market',\n",
       " 'monster makes wide array cables including high end initially purchased pair ofmonster rock instrument cable feet angled straight plugto use keyboards came time purchase cables bass guitar thought would pinch pennies glad compared cable model expensive models previously purchased aside looks could not detect difference sound swapped back forth guitars keyboards ensuring model used instrument still no difference expensive model going looks not sure higher priced model even sturdy molded stress relief ends model seem make reliable pricier sibling bottom line carefully compare cables using instrument amp possible making purchase decision may find higher price not necessarily equal higher value even manufacturer one best instrument cables within brand',\n",
       " 'got needed found not really need often rarely use really good see need keyboard not organ works great hardly us',\n",
       " 'not use using large sustaining pedal playing piano may appear little awkward get use s',\n",
       " 'love used yamaha works great would recommend anyone awesom',\n",
       " 'bought use home studio control midi keyboard wanted work',\n",
       " 'bought use keyboard not really aware options keyboard pedals not work smoothly pedals acoustic piano would always used not feel either nowhere close opinion sustain pedal like audio sustain pedal piano style action similar pedal much better choice price difference dollars feel action much better thing found yamaha sustain pedal good taking space drawer keep electric guitar pedals definitely not seasoned piano play',\n",
       " 'fender cable perfect length sometimes find bit long not mind build quality great know last gripe cable metal sleeve gets unscrewed way easily requiring tighten often sound quality not affected color cool definitely try cable durable instrument c',\n",
       " 'wanted looks alone nice looking cord know perform sam ash cord packed mailer inside another box roc n soc shipping team great work never complaints love sam ash thanks amazon fender ft cali clear',\n",
       " 'using cables months holding pretty well years used seemingly indestructable guitar cables made electrician friend finally gave got habit using no name cables always display near register guitar center really impulse buy something put thought third fourth guitar center cable failed light use decided try cables not cheaper seem holding better not terribly hard gear cables tend get twisted move around cheaper ones eventually fail mid cable not mind spending extra dollars cable little durable cable actually cheaper shipped holding pretty well actually reasonably priced cables kind limited life warantee product not needed five stars nicely made foot guitar cable costs shipped incidentally cables shielded meant connect instrument amp input not use connect amplifier speaker cab want use unshielded cables purpose edit months passed cable functioning without issues price things gone significantly although cable highly recommended probably better values hosa monster planet waves far good revisit month mark',\n",
       " 'fender cords look great work well adding word california description sure sound like beach boys add california name jump',\n",
       " 'cool looking cheap cable works well bent one connectors pretty badly fault one thing consider cable tighten connectors awhile able hear rattle seems aretro look screw connectors black rubber cable looks cool works well also shorter red cable goes one guitars perfectly bought theses use practicing others use black cables easier plug different amps without cutting someone accident green cable good cheap cool looking good length',\n",
       " 'fender feet california clear instrument cable lake placid blue good extra cord good price fender feet california clear instrument cable lake placid blu',\n",
       " 'good cable well made looks great candy apple red tele reason gave stars tends not lay flat floor guitar c',\n",
       " 'got cable run rockband keyboard controller audio profire control midi pro tools works great firm fit solidly molded ends reputable branded cable bit thin side not seen issue due anything could not go wrong time purchase prime eligibility quality c',\n",
       " 'searching midi cables art foot controller came across hosa ones dollars realize would still happy price well high quality plastic metal connectors work flawlessly must realize feet overestimated wish longer connection racked sound modules perfect got great pricing still really good product',\n",
       " 'cant go wrong great quality budget price hosa go need hook things hosa',\n",
       " 'ends midi cable look feel like quality connection secure no worries uneven connections also detaches without hitch highly recommended quality secur',\n",
       " 'trying find midi midi task make sure pin config correct one good product works fine midi midi',\n",
       " 'hosa xlr cables affordable heavily made large mixer rack cables everywhere decided purchase shorter cables hosa cables measurement worked perfectly really not disappointed heavy cables affordable pric',\n",
       " 'bought go board amp use mobile church take beating still going strong still go',\n",
       " 'sturdy cord plugs inexpensive good value not require professional level equipment cord serves purposes well satisfied purchase suppos',\n",
       " 'use every week gigs solid no problems solder joints good quality cable good price good c',\n",
       " 'hosa products good bang buck not looked specifications guessing wire awg since long good enough good enough',\n",
       " 'exactly voice touch needed small cord connect mic voice touch perfect used foot cord go inches highly recommend keep mic stand voice touch stand connected device vocals great little cord',\n",
       " 'bought really long mike cords solo live show really nice cords home portastudio recording studio like needs spaghetti trip place bought two use digitech live harmony processor two xlr mike cords required make operational good price hard find mike cords usually longer ones obtainable job ne',\n",
       " 'cable seems like last used connect di box not get abused much vocal mics always decent mic c',\n",
       " 'not greatest cheap get fast need one fail bought many use broadcast studio amazon first place go need cables audio video computers concert lighting good music decent inexpensive c',\n",
       " 'fine cable decent price point nothing exceptional mind gets job done well enough fine c',\n",
       " 'used lot cables always come back hosa indeed best audio cables price range market hosa best',\n",
       " 'bought cord returning cheap one known better buy son experience musician recommended hosa brand seeking proper replacement bought small home recording setup includes behringer condenser microphone behringer xenyx mixer ends make reliable connection board mic sound quality excellent excellent value money excellent quality exactly need',\n",
       " 'nice solid cables excellent support ends last lifetime usage no problem needed connect tube preamp great valu',\n",
       " 'zero issues cable far feels fairly cheap light weight survived months plugging unplugging packing practice spaces update review breaks pretty cheap cable lasted far',\n",
       " 'realtively inexpensive patch cable electric guitar months far held pretty well nice c',\n",
       " 'bought wanted cheap replacement cable one short pleasantly surprised cable decent sound decent build quality good price nice guitar cable even better pric',\n",
       " 'nice cable price already bent one end though fortunately still works fine inside phono connector wires covered white shrink plastic not noticed hum crackles sure good buy w',\n",
       " 'cheap good texture rubber not get stiff time tell well soldering sounds fine flexible soft rubber great',\n",
       " 'seems sturdy enough no noise issues pretty much satified not leave house not asking handle lot reasonable care last works wonderfully no nois',\n",
       " 'not professional playing many many years best cord ever though sure eric clapton something better excel',\n",
       " 'hosa cable well made good quality connectors nice long length son expanding collection amps effects pedals needed additional cables get everything connected cable gives flexibility move around sturdy enough take stepped pulled around cable works well good value decent quality cable highly recommended cfh great guitar cable good value highly recommend',\n",
       " 'not expect cable thin easily thickness guitar cable used not sure long term durability signal loss interference foresight would spend couple extra bucks thicker cable still works inexpensive edit months later dead already wire frayed right angle jack get pay cannot recommend',\n",
       " 'bought daughter along new guitar seems work well no issues first couple weeks cable works describ',\n",
       " 'hums crackles think problems equipment soon use cords problem gone hosa makes products good value based experience not recommend one bought many cables one one gives problem',\n",
       " 'not hard cables typically plug guitar dont move around much play hour two day one seem perform fine no buzz noises noted several performed well gets job don',\n",
       " 'found hosa cables excellent value expensive cables may rugged price happy hosa purchased nice cable pric',\n",
       " 'good cable excellent plugs lugs solder joints covered heat shrink material hold everything place years grade cable affordable price definitely going back ft cable couple dollars ft well made audio c',\n",
       " 'pretty crappy cable works gets job done purchasing product using shell extra bucks better quality eh',\n",
       " 'use cord church run pedalboard amp soundproof box cord reliable clean sounding like used hosa products past confidence excellent cord hopefully review usefull great affordable cord',\n",
       " 'second hosa guitar cable one shorter like first hosa cable high quality item would definitely buy cables brand nice c',\n",
       " 'works practice guitar instrument cable say maybe not best serves purpose maybe not best serves purpos',\n",
       " 'cables taken beating last months served well no problems real metal ends not molded high quality silicone jackets strain reliefs connectors high quality low cost',\n",
       " 'opinion not hurt extra guitar cables around experience tend die without notice feeling one last long time built sturdy sounds really good recommend product works advertis',\n",
       " 'hosa guitar cables work great never problems several different lengths sound perfect good c',\n",
       " 'product exactly supposed decent price absolutely no complaints first experience brand not disappointed no complaint',\n",
       " 'good quality guitar cord low noise repairable effective strain releaf thick rubber cover great buy bucks quality cord course got might not durable looks durable change mind anything update review would say buy one joe good qu',\n",
       " 'good solid cable no problems stage like longer cable practice not need extra length tangleing everything perfect practic',\n",
       " 'guitar cable nice looks high quality white ends fantastic deal cable nice high quality guitar c',\n",
       " 'good product good price used multiple times works well guitar speaker great friends come jam works wel',\n",
       " 'item well built like terminal ends spring built not going durable road cables home light road use work well well built c',\n",
       " 'amp plug great price ft long perfect size jammin home quality look aesthetically totally worth price pperfect amp chord home us',\n",
       " 'hosa cable guitar instrument cable high quality instrument cable low cost not break bank satisfied purchase hosa cable guitar instrument c',\n",
       " 'unbalanced guitar cable notoriously noisy especially around florescent lights no different would prefer use cables better shielding cannot justify expense considering rarely things get used standard guitar c',\n",
       " 'basic black electric guitar cable works great far connections ends solid sound amp great nice rubbery feet long enough problems arise later cable update review no problems whatsoever cable hosa electric guitar c',\n",
       " 'hosa cable quality place products good sound good reliable long lasting products not good affect sound negatively break prematurely short useful life span guitar cords actually quite nice feel good gooey soft rubber jacket like mogami sound good far working reliably rubber jacket diameter eye short heat shrink overwrap add strength wire enters plug bought needed cables fast internet concert lots pedals signal splits connect cables arrived good working condition using continuously since dozen tube amps particular sound degradation far cables not disappointed anyone would buy needed far good',\n",
       " 'cable no frills tangles pretty easy due design might rattle little move around works like average c',\n",
       " 'never really considered cheaper cable always taught get best could afford showed cable search amazon jumped figured nothing lose surprise excellent cable good build quality strong thick jacket inspires confidence sound identical monster cables cost one quarter price hmmmm guess tried figure instead listening snobs many years never worth money twice try kiss overpriced cables goodbye good quality low pric',\n",
       " 'one end loose tightened keeps coming loose put dab crazy glue threads hope not ever open end repair good pric',\n",
       " 'price fantastic feel light not trust build quality key stress points cable meets connector not going push set guitar accident plugged knows seven bucks gets job done recommended beginner thing testing waters otherwise spend bucks something higher chances lasting feel little flimsy see easily breaking work',\n",
       " 'hosa makes good stuff no exception trusted years not think single hosa cable owned failed excel',\n",
       " 'complaint size fault buy least foot plan use stage complaint size fault',\n",
       " 'hard day much works great no issues speak job perfectly well worth',\n",
       " 'price works really well see no faults unscrew pretty easily hardly problem right work',\n",
       " 'cable disproves notion get pay quality outweighs price let face cable cable cable quality cables vary greatly replaced lighter cable one surprised difference quality sound amp ibanez art series guitar ibanez watt amp set home nothing changed cable significant difference quality volume much checked guitar teacher said not surprised quality appears good ends heavy duty little bit hum due proximity everything attenuated point inconsequential seen expensive cables one far great hosa guitar cable ft good quality great pric',\n",
       " 'looking long cable perform live band glad hosa quality feels reliable without adding noise good quality excellent pric',\n",
       " 'good cables good price not sure would hold heavy use practicing home really great good cables good pric',\n",
       " 'sturdy high quality little no feedback use performing friends love works well great qu',\n",
       " 'unless going go top line expensive professional chords medium sized venue great valu',\n",
       " 'many lengths hosa cables neverhad problem not active musician not put throughthe riggers happens stage cannot comment thistype usage years stage come realize thatyou always extra cables like strings aseven expensive cables sometimes let good c',\n",
       " 'using weeks strong flexible not seem develop kinks bending habits roll proper way seen used better cables not price point certainly seen quite worse pretty good sweet spot opinion solid c',\n",
       " 'pro cheapo hated thing noisy cables feel really cheap gummy like drop bucks get something else crap',\n",
       " 'works great watt amp almost compares monster cable length plenty room guitar amp good product works good no complaint',\n",
       " 'good cable good expensive brand thick bit stiff seems shielded no complaints good guitar c',\n",
       " 'lots hosa cables cheap quality recieved one bad cable around use lot guys work get hav not failed yet hosa rock',\n",
       " 'decent cable job leaves much desired far structural integrity concerned mating part connector jiggles back forth switch also loose connector move around microphone without switch pressed would not recommend using cable critical applications would suited home hobby use job',\n",
       " 'cable great connecting directly computer microphone record live without console mixer great recomended good direct connect comput',\n",
       " 'bought hook beta panasonic dslr kodak interviews works way supposed degree trs nice touch good price intend',\n",
       " 'received cord seems work expected say adapter cord well made good construction sound dslr mic superb works expect',\n",
       " 'like probably bought hook xlr microphone digital recorder pc works fine handy type recorders forget hooking directly pc way much noise good us',\n",
       " 'bought canon vixia hf video camera shotgun mic recently purchased needed wire perfect fit mic mounted mini advanced shoe microphone plug video camera wire thing not foot long actual wire long would returned thing cheap enough not worth hassle would rated star tried nikon shoe mounted shotgun mike worked ok still tight fit though since wire would recommend anyone looking short cable go adapter worst case scenario zip tie loop instead getting angry not fit also not sure wire not affect stars hear hiss recording unsure way wires stretched max dslr not shotgun mic measure damned wires send',\n",
       " 'well made xlr pin adaptor mini needed get real xlr mic computer job recommend',\n",
       " 'listing item confusing not sure stereo xlr stereo xlr meant similar stereo headphones left right separate unbalanced wires cable configured stereo unbalanced xlr stereo unbalanced trs cable item not mono balanced xlr stereo unbalanced mic cable little bit soldering fix connector moving red wire ping pin white wire pin ties pin ground wire product shipd expected listing item confus',\n",
       " 'first reasons awarded five stars construction uniformly excellent ends strain reliefs connecter perfectly mates plug insert xlr end quality component purchased specifically transform third channels mypowerwerks watt personal p systeminto something useable greatly expands functionality versatility portable pa allowing plug another mic since three units daisychained able significantly enhance entire system simple adapter another reason love noise free environments play sources electromagnetic interference cheap cables pick transmit not problem one another plus overall pleased adapter actually purchased spare case damage lose primary one bit pricier others considered feel quality peace mind worth premium solved big issu',\n",
       " 'use cable run extra line microphone podiums zoom adapter never failed instrumental capturing quality audio live events several love highly recommend adapter visual audio professional also check hosa sinlge xlr double xlr splitter good adapter c',\n",
       " 'adapter cable stereo mics work small dv cameras function caveats first construction pretty light weight means gentle using something none us broadcast production field want worry since gear gets pretty beat second adapter one foot length cable pretty short may not reach wherever mic input jack camera means would need another short xlr mic cable extend mic adapter aware may work fine not work others went sam ash music found similar adapter cable heavy duty longer cable price pays shop around light weight cable stereo mics limit',\n",
       " 'well made works however seem getting little bit noise shotgun mic straight usual expected see mic cable adapter tested going straight zoom recorder seems little noise going adapter cable straight xlr input no big surprises minor clean post good construct',\n",
       " 'not used yet like cables company work fine nice c',\n",
       " 'great stereo sound keyboards keys single stereo cable needed get convert true channel stereo could eq properly worked like charm highly recommend cable perfect',\n",
       " 'another quality product hosa needed insert patch mixer eq always like slightly longer length always zip tie back hard stretch no noise cable good insert c',\n",
       " 'ordered not expecting whole lot since price two dollars nearly cable turns quality quite excellent cables not flimsy plugged mixer waited hear static interference buzz explain low price got nice clean signal highly recommend anyone mixer needs insert cable excellent insert c',\n",
       " 'solid cables tight fit receptacles no introduction noise no discernible loss signal especially considering price brilliant like reviewers wondering economical cable could good trusted judgment gave try count among not sure become convinced hosa knows make great cable without need charge monster prices work great',\n",
       " 'mixer send returns plug using wire trs send tip return ring common ground effects boxes like separate tr ins outs perfect cable hookup things like behringer sharkbehringer shark automatic feedback destroyerto send returnsmackie compact recording sr mixeri probably order second cable seen well first one worked send return needed return',\n",
       " 'still operate analog environment quite often end using lots inserts channels compression limiter gate expander plus various eqs effects processors need routed applied specific channels insert snake use well individual insert cables differing lengths carry lifesavers make efficient soundman setup flexible soundman show soundman must insert c',\n",
       " 'use home studio inserts work great no complaints side note always clean cables caig deoxit gold spray contact conditioner oz hightly recommend musicians hear differnce also spray q tip clean jacks guitars instruments good price vs value works great home studio',\n",
       " 'need audio insert cable need audio insert cable custom manufacture insert cables custom sound reinforcement fixed installations mobile rigs mixer cases processing gear simply not cost effective hosa go brand reliability durability brands reputation stake hosa allows us maintain good reputation lowering labor costs thanks dependable product hosa thanks great price amazon right product right pric',\n",
       " 'play pod small guitar amp great way wake kids works perfectly purpose keep mind small end pod stereo large end goes amp mono needing stereo jack ends get something else use plug pod guitar amp',\n",
       " 'plugged works connect mono line stereo input lepai amp not much else tell plugged work',\n",
       " 'bought hook ipods iphones live stage sound systems not stereo anyway use stereo mono adapters separate channels not needed perfect solution seems durable sound engineer solut',\n",
       " 'carry bass gig bag plug phone mono aux input back genz benz bass head handy rehearsals band needs listen track working arrangement bass cab full range fearful picking used couple cables adapters go stereo mono often seemed never quite needed hand exact cable need appl',\n",
       " 'super cheap mono cable sufficient many needs cheap enough thin wire gauge forgiven aware cheap unshielded etc price intent almost gave stars not cable fair quality ultra cheap cable stars seems right yes almost exactly wrote hosa cable reviewed almost pric',\n",
       " 'hard not love cord carries electrons way end not sure complete failure would take stars away work',\n",
       " 'cables cables usually work amazon always find best deals quality works good good pric',\n",
       " 'picked cable test new pedalboard could not happier not suck tone cables sturdy sound great replaced normal straight inch cable saves much space board inexpensive not cheap',\n",
       " 'l jack good enough make connections guitar pedals works fine flexible enough not like fact made plastic looks cheap price paid not really care good',\n",
       " 'little patch cables work nicely no change tone sound connect one pedal another fine going make one small complaint explain got stars instead product description says inches right jump planet waves patch cables listed feet inches right hosa cables seem like maybe inches whereas planet waves cables gave plenty room one pedal another used hosa cable emergency back conclude would recommend yes one two pedals need affordable small effective patch cable go first recommendation always planet waves cables anything else job',\n",
       " 'need cables connect pedals look no farther cables perfect deliver good sound small cheap could ask great pedal cable connector',\n",
       " 'bought hosa pedal cable son interconnect guitar pedal works well seems durable not given problems far not appear change sound quality tone great product great durable pedal c',\n",
       " 'good little connector cable well constructed durable built last would recommend cable connect stomp boxes worth works great',\n",
       " 'great cables con could give go bad no opening ends fix experience durable people using pedal board not lot movement wear good c',\n",
       " 'works fine great little spaces one pedal another distance better use another type bue generally works fine good quality product clean signal no problems works fin',\n",
       " 'exactly needed connect distortion paddles amp favor always order threw amazon dealers placed order threw onlinecarstereo com report scam operation credit card co customer reviews terrible yet made mistake placing n order right eyes changed bad reviews add good ones good product still use hassle free ord',\n",
       " 'great patch cables especially price not suck tone reliable mine years really great players budget good budget c',\n",
       " 'cable came super fast mail deliver level performance would expect form low cost cables work pay',\n",
       " 'good cable not forsee problems right hooking pedals together eithout mesws long cables need get price right shipping right time right',\n",
       " 'not fanciest cable buy fits low budget works perfectly not feel like going break anytime soon pedals perfectly connected decent connector decent pric',\n",
       " 'typically use planet waves cables tried great never issue no loss tone never breaks fails quality product good price reliable great',\n",
       " 'really inexpensive yet durable cables link stompboxes together yet havent one go crackly considering get frequent use pretty good often cheap cords die within year every electric guitarist keeps stock things one particular cheap accessible probably around twelve enjoy no frill cordag',\n",
       " 'hosa patch cables best buck great sound flexible firm hosa cable fan love little guys great',\n",
       " 'lower profile fit bend places ones thick metal ends not possibly better metal ended on',\n",
       " 'bought xlr adapters hoping connect microphones old funky mixer owned inputs not end working discovered needed convert microphone level line level not however convert xlr balanced quite well not needed particular situation nice tool although not transformer balancing devic',\n",
       " 'use adapter interface mix board end channel xlr cable snake change channel monitor return plug xlr female stereo adapter end create headphone jack musician end setup record channels monitor channel xlr snake go ask channel xlr snake instead buying another snake not adapt snake hence word adapter p love great tool add versatility setup no matter definately recommend product anyone would happen need change xlr balanced stereo high quality solid definately expect last long time versatil',\n",
       " 'purchased work ion system shure mic arrived expected solid great fit works no problem',\n",
       " 'come handy many times studio love around good quality affordable price quality adapt',\n",
       " 'title says works reason took star sometimes gets little stuck use force get xlr no issues besides work',\n",
       " 'converts xlr signal shure mic male run guitar pedalboard amp no issues performance converter little bulky especially clip mic onto could tight fitting certain places pedalboard works great overall gets job don',\n",
       " 'got plug xlr cables jacks board got board channels xlr inputs none work perhaps got wrong thing not thought',\n",
       " 'affordable works nice little adapter low impedance cable high impedance input affordable work',\n",
       " 'price not beat works well one would bought local guitar stores ca not beat',\n",
       " 'basic female xlr inch male adapter use plug regular mic cables keyboard practice one pa works intend',\n",
       " 'bought xlr splitter split lead vocal foh monitor rack used way worked great never problems signal loss power issues began using transformer isolated xlr splitter started playing bigger venues no longer use splitter issue hosa splitter cable length female connector male connectors short short would cause microphone cables stick mic stand plugged lead singer microphone would great guitar mic something close ground horizontally placed looks little funny coming vertical microphone stand nice utility wish little length split c',\n",
       " 'expected hosa another great product solid construction great sound reproduced would recomed product everyone great c',\n",
       " 'use run single mono xlr shotgun mic line two audio channels tascam saves step post production quality fine supposed good price good product ne',\n",
       " 'not think purchasing items amazon would not plus important worked purchasing coordinator years know save money purchasing great believe not find even cables not find radioshack best buys no else done lot purchasing not business ladies gentlemen know know take care business right way would like apply position regards ffsalsa great c',\n",
       " 'solid product ended not needing returned however worked fine gets job done nic',\n",
       " 'dual splitter works perfect live event video company shoot lot weddings important part video audio make anything look good long get good clean audio signal always say half video audio years used run line directly dj mixer get audio issue way introdustions get music dj playing words speaking often though signal hot music crap dj says something stupid dj voice edit way want compress time product improved productions beyond price sold use run separate clean audio line dj wireless systems audio recorder work perfectly not failed great product running clean separate line audio',\n",
       " 'recommended top engineer genz benz bass amplification company andy said product far superior right fixed scratchy potentiometer shuttle amp also fixed effects loop jacks become oxidized causing amp intermittently lose power gigs not good several gigs worth testing problems resolved andy said product actually works better time applied since lubricating cleaning coating effect components wow no andy not stock affiliation represent way manufacturers de oxit nor product works great worth extra money',\n",
       " 'thing like magic spray hah seriously used noisy hinges car doors etc really bought clean pots volume controls knobs guitars pedals equipment really work gets rid static noise get turn volume control radio guitar example magic spray',\n",
       " 'bought product use amp pots restored sound power clearity amps not evaporate right away couple minutes good go works wel',\n",
       " 'back bought deoxit not right name not remember worked much better cost much less made military spray levels low still way high work stuff used much better not see much else may stick wasteful cost good luck flammable would call average used better stuff',\n",
       " 'pay tech fix knobs switches guitar stomp box amp try time take care problem amp cuts also try spraying effects loop pushing jack socket dozen times first bought probably paid hundred times good stuff five ounce mag',\n",
       " 'deal quite bit electronic musical instrument gear guitars basses amps fx midi gear etc time starts suffering scratchy noisy pots knobs input output jacks crackly etc past tried locktite electronics cleaner provided similar would rarely work contrast cleaned every piece gear used saving physically replace pots jacks really like magic mag',\n",
       " 'getting errors printer cartridge not recognized sprayed contacts wiped excess paper towel working used printer cartridg',\n",
       " 'stuff works great well worth price used clean pots several guitars bass amp along various effect pedals no scratchiness no jarring volume spikes knobs glide better day new always keep around nothing say great stuff need',\n",
       " 'fantastic stuff sprayed bass guitar pot like new wish found stuff sooner scratchy bass guitar pot scratchy no',\n",
       " 'brillcream dab ya something like need contact cleaning worth coin stuff great',\n",
       " 'got old mesa boogie developed scratchy controls years stuff cleaned pretty well midrange pot starting crackle hate tear chassis would gotta happen kinda worked kinda not',\n",
       " 'used guitar tone volume pots clears crackle feels little oily gets job done not replacethe potentiometers works potentiomet',\n",
       " 'use alot kinds electronics gets crackling knobs going use years recommend good stuff',\n",
       " 'pots bass become scratchy sprayed bit turn pots back forth times no noise great needed cleaned pots bass fin',\n",
       " 'money karaoke mic decent job vocal use good keep spare gig box good usable m',\n",
       " 'truly surprised saw nice weight good sound looks nicely made good deal money not go wrong not cheep made microphone much better thought would nice good microphon',\n",
       " 'reason give stars ordered chord one missing chord ordered time good hot mics satisfi',\n",
       " 'bought mic spare son guitar amp set mixer seems work fine comes mic cord decided go model switch based reviews not yet disappointed excellent purpose m',\n",
       " 'freelancer occasionally work band plays midwest performing near weekly basis seasoned veterans no interest gear per se even less interest brand cachet money could not believe first saw group using nady mics even lower priced several years ago insisting good shure still not believe quality workmanship compares casual empirical test build quality prove much nady handle announcing vocals needed softer sounding instruments flute harmonica none broken quit watch keyboardist mic power fidelity not affect trifle mortified musicians audience catch cheap comes important gear component time embarrassment confess not unmixed bit demonic glee playing getting paid good enough professional us',\n",
       " 'bought mic seeing grandson handling mic came karaoke machine thinking mic would not last long hope nady impressive mic price using roland cube plan use roland micro cube also would given stars cord connection mic not little loose nice surpris',\n",
       " 'bought cable band live show setup bought almost year ago still currently use application not best quality cable length price make good value money especially buying several time not use cables studio live fine would recommend cable budget looking buy several time going buy one would look canare mogami little bit expensive easy get worth price good value not best qu',\n",
       " 'used live performances not last long good price need resolder ends concert though cables good studio us',\n",
       " 'nothing complicated purchase cable works not cost lot great deal get use every week still sounds perfect never mistreat equipment great deal money paid',\n",
       " 'bought cable order able run longer cable runs stage works narrower gauge wire cables makes little cagy durability tend use cable runs not expect lot movement e g running cable mic stand save better cables belt pack mics jacket cable pronounced butyl rubber smell really activated allergies first stored mic cables open cardboard box months using seemed help lot rubber smell not everyone allergies might not issue folks could not use cables anything near face first months cheap work fine not noticed sound issues cheap works strong butyl rubber smell thin c',\n",
       " 'cable awhile not impressed quality plug jack look cheap cable thin use home practice mic not much workout not think would hold long stage venue fair qu',\n",
       " 'cables little thin compared hosa gls picked little interference equipment well guessing lacking shielding thin c',\n",
       " 'gain mic not greatest speeches soft recordings guy handle well microphone great beginn',\n",
       " 'shure cost like open sound vocals seem break higher volumes like mic ok worth extra money think especially expect push capability good pric',\n",
       " 'test recording digitally get better idea learning process side gives clean crisp reproduction every flaw good quality would expect shur',\n",
       " 'use video exchanges guitar instruction website perfect vocals podcasting video recording forth shure makes excellent stuff also great save money xlr cable included happy purchase great mic great d',\n",
       " 'stars instead thing not tune guitar carry amp use solo duo bass player trio drums bass regular gig medium sized club basically one large room use pyle pro self contained pa also plug martin grp elec acoustic sound quality excellent volume seems limited bny pyle pro put would no hesitation using bigger rooms full band pa not heard hint feedback switch plus price might seem good true think things paying less used bought toshiba flat screen around bucks think would cost even five years ago less true lot audio gear lot companies bringing high quality elctronics music market great company like shure make something good affordable always made high quality product one almost anyone afford cannot recommend strongly enough buy',\n",
       " 'far happy microphone tone quality fine everything need backup vocals band although longer cable would nice great cable included package good mic pric',\n",
       " 'hard get honest review mike not shure considered gold standard others measured course least part reputation deserved perhaps durability sound couple couple considering slightly better specs almost identical price first thing noticed box slightly bigger slightly heavier also different switch metal screens protecting not interchangeable plugged one microphone cable settings would identical tried mikes one first speaking singing playing guitar changed settings specifically effects eq pa repeated experiment speaking singing changing mikes noticed slightly flatter mid range slightly brighter touch presence equal volume slight differences tone easily manipulated eq ordinary tone controls neither susceptible much feedback vocal pop not tried side side comparison live situation even practice time consuming interferes playing difficulty judge situations least awkward used combination two practice no one seems able tell difference except one person actually expressed preference could settings looked specs two mikes side side little flatter response especially high end hz picks db pg somewhere hz however since human vocal range generally around hz neither seems likely much effect although might tad responsive bass singer also tried two different behringer mikes radio shack mike behringer totally outclassed shures sounding tinny thin little presence volume tried behringer impressed similarity mikes sound almost identical b shure sm behringer seems discontinued though replaced inferior mike offered bundles three plugged radio shack mike spare backup not even taken practice model number probably also discontinued excellent sounding mike good volume presence tone not mikes test side side experiment reach conclusions quite bit snobbery choosing microphones shure held unreachable standard sturdy good mikes price not unreasonable around however microphones sound nearly identical also sturdy reliable lower prices including shure likely though not test wish people would give unbiased reviews based actual performance instead condescension toward either budget looking alternatives standard bearer giving stars not enough time give evaluation holds comparison unbiased review',\n",
       " 'microphone great singing pa electric guitar sing worship praise songs southern gospel smooth mid range get close enhances bass nicely not think exactly need built last shure good lead vocal microphon',\n",
       " 'got used recording rehearsal works well far revise review somehow changes next years right though would say great product great far',\n",
       " 'bought one replace shure big step one pleased old one lot handling noise one little good money paid next one awhile happy handling noise definitely something consider would keep buying another one mics not problem degree good m',\n",
       " 'started shure recently acquired shure would probably ready agree argue neumann telefunken mic costing g simply not much better nady mic costing bucks respect shure less sure not worth perhaps sufficiently high powered clean amplifier tweaked eq settings favor frequencies human voice two mics could mistaken one another attempts occasionally use instrument amplifier emergency p led realize sounded somewhat muted dull compared switching common admittedly expensive mic gave extra gain needed along added crispness clarity voice least announcements p notice head larger since rise digital audio workstation not computer free included garage band large even gold plated expensive looking cheap mics display place despite appearances comes mics size not matter except appearances directors high school show bands dispense headsets wrap half way around face knowing girls front line think cool look like madonna janet headgear best mics tiny opening size pin hole shure quality construction not quite equ',\n",
       " 'good mic simple live stuff not expensive gets good clear sound switch helps kinds things good m',\n",
       " 'proven classic using mic mesa boogie mark v cabinet sounds fantastic solidly built classic deliv',\n",
       " 'mic get recording live instruments voice always come great sound seems almost indestructible looking forward work future projects not believe took long get one best f mic ev',\n",
       " 'although mic considered primarily instrument mic not always case actually preferred basic design live vocal use since bought first one known shure model unidyne iii mic got stolen years ago remarkably still working time got boosted still using needed one switch function owned used countless modern day along dozens mics years manufacturers fairly deep baritone bass type voice not need get closer inches sounds similar shure studio vocal mic put windscreen get inches away would use studio environment though slightly fragile four times expensive design require get much closer mic get full range sound prefer vocal use sound crisper highs sound fuller low end sounds natural vocals never sounds muddy muffled one pronounced proximity effects mic ever used tend shove mic throat may benefit less dramatic proximity effect ever going use vocals would recommend buying shure windscreen genuine shure windscreen fits precisely locks securely onto pop like mad without one possible drawback vocal mic no model available switch days not find modern switch anywhere however ever tried using mic forgot switch position probably became liability money best around microphone past two generations stage use recording purposes studio vocals would use really not sound much different built variable eq set way like predecessors best around microphone since certainly enduring durable not go wrong unless get close no windscreen best around year',\n",
       " 'good around mike looking solid mike start studio recommend one best used guitar mid range instrument recording not bad vocals best mike price purpose best price rang',\n",
       " 'seriously shure sets standard instrument microphones judged no kidding work great guitar real acoustic guitar sound drums congas tablas name instrument delivers hear good vocals well president gives speech experience vocalist better average pipes use better suited lack vocal projection wannabe instrument sound reinforcement bar none best industry standard',\n",
       " 'good enough track tom petty vox heartbreakers albums good enough rest us sounds great amps perc dropped one story building years back parking lot barley dented housing still works drummer still uses kit never told haha hope not read review shame new mics coming wireless stuff make ie presentor pg seies digital series etc flimsy pieces garbage last cool shure classic last shures good m',\n",
       " 'reason every mic cabinet least one not great purpose dynamic mic use instruments vocals even field recording sometimes frequency response supposed tailored towards vocals not mean not handle voice pretty much mic far concerned average amateur recording engineer home studio practitioner think find thing operating level refuse use interchangeably probably already know looking getting add personal cabinet soon like wanted spend nice condenser filling dynamic mics not go wrong say',\n",
       " 'use mic snare drums sometimes guitar cabinets works well mics durable used studio nothing else available worked fine long run sound living keep mics old stand',\n",
       " 'considering introduced world year shure shure vocal microphone guess gets batman status relegating robin not really fair assessment considering developed time except acoustic foam lined cage pop screen two mics identical electrically sm studio microphone designed begin life recording studio dynamic microphone used mic ever increasing volume rock roll amplifiers drum kits etc capacity no use pop screen cousin still one sold vocal mics world day slimmed even though still fine vocal mic see used mostly mic ing instruments excels one long time important roles official podium mic white house pair always seen various white house podiums press conferences even vip bundled kitshure vip dual microphone kityou buy exact type use extremely rugged mic built tough standards take lots road abuse one things makes popular touring bands sound companies top great sounding mic price performer seriesshure beta microphonethat looks similar beta different mic capsule transformer sounds different make sure try buy bottom line shure one tough road mic sounds awesome not overly priced best value sound companies home studio recordists touring musicians one half shure long lasting dynamic duo',\n",
       " 'use recording guitars well live vocals knocked microphone around decent amount plenty rugged could not happier standard',\n",
       " 'mic well made heavy mic end however yet try multi track studio good m',\n",
       " 'bought teen son christmas loves play bass sing along different shure mic totally flat compared particular model nice clean sounds plus seems pretty sturdy get mic stand fits perfectly stays put shure knocked one park shure great m',\n",
       " 'preferred mics practice gigs around tough mic great needs highly recommend shur',\n",
       " 'industry standard live performance withstood test time good reason microphones perform switch makes easier not power gear done practicing turn mic industry standard live performance microphon',\n",
       " 'not bad mic price want real good one studio quality mic would cost bucks no comparison studio mic since worked recording studio need decide want getting studio mic alone not give result looking like hd tv bd player playing ordinary cd would compliment mic many products like studio quality mixer speakers home hobby user go mic mic quite good price would probably say exceeds expectations arrived promised frustration free packing also make sure buy foam mic hood mic save unwanted dirt spit reason not give stars mine little dent body may due transportation nothing function looks good product pric',\n",
       " 'review used life continue durable got replace year old rusted dented grill also use akg price line wirelesss always reliable first choice backup standard',\n",
       " 'first rule microphones no one microphone perfect every purpose rule two experiment different mics different applications find signature sound used shure along ancestors relatives back primarily used broadcasting recording spoken word content used still use singing back vocals one thing well vocal performance used close mouth public address use people included actually sound better comfortable live performance setting using another mic shure good vocal mic people probably best choice example anyone not resist putting mic right lips singing probably want people softer weaker voices want highly directional noticeable yet manageable proximity effect means bass increases closer get mic not pick well much inches away reason many singers think supposed shove microphones practically inside mouth ball type shure vocal mics require get close not sound right hand sounds best several inches away user mouth works fine inches away certainly number one professional pa vocal mic precious uses colored sound prominent frequency response boost upper midrange plus sound source close picked clearly works ok conga drums like last thing would want use mic sax guitar personally mics not best mic technique basic nature voice people sound great live vocal mic works best shure windscreen however people works better depends voice want mic deep voice might second best choice better low frequency response one certain advantage excellent gain feedback capability mic turned louder almost mic without annoying pa squeal another advantage still available slight extra cost built switch ball shaped grills sturdy even dent one get replacement screws right ten dollars seen dented rusty dusty smoked spit pieces missing slammed hardwood stage full weight boom stand adding mass fall yet never seen one stop working malfunction due switch got dirt pro line shure mics top quality pro line shures also hold value well buy one decide not like get paid ebay would compare many mics possible buying one senneheiser evolution mics sound really good worth look number one stage vocal mic foreseeable future people follow crowd instead actually trying different mics picking one works best particular voice things durable even stopped making today would still around another years least good voc',\n",
       " 'legendary performance indeed works perfectly extremely easy set good sound good price bout need know satisfi',\n",
       " 'great around mic used vocals no frills tough nails great sound live music buying first mic switching cheapie intend use singing vocals mic musician would probably recommend without hesitation never used another one since first time switched cheaper mic came bundle years ago depend smoothness vocals carry songs mic reproduces warm sounds like perfectly stand feet away really wail get close bass response anything comes mic cable cable tie carry pouch mic clip standard not switch one less thing break not miss dollars extra great around vocal m',\n",
       " 'got shure microphone expected real workhorse microphones sound clear crispy robust high quality product also bought amazon sold j r music computer world excellent supplier shipped less time expected really happy customer great product great suppli',\n",
       " 'no complaints quality great sounds excellent voice sounds wonderful crisp use tim',\n",
       " 'nice addition recording home studio recommend one records ballads light classical music quality good pric',\n",
       " 'mic works better people others said first mic put lead singers hand upon meeting not sound good try something else no complaints go mic good around vocal m',\n",
       " 'bought two microphones akg like akg little better vocal sounded lot clearer crisp akg sm sounded muted compared without sound modification box output also little less sensitive like look seems extremely durable good',\n",
       " 'immortal words john cameron swayze used hawking timex watches early days live television shure vocal mic fits perfectly category found career film television sound recordist mixer played rock bands live sound mixing one first mics truly fell love introduced shure brothers company quickly rose become industry standard rugged road mics actually sound good ear nearly indestructible mic capsule cardiord heart shaped design helps reject sound either side bump frequency helps vocals cut stage noise construction rugged frequency response hz capsule sits internally foam shock mount help isolate handling noise used joke needed hammer could not find one grab one tough seen road could not believe still worked sounded great cage style pop screen gives not distinctive look one influenced many mic brands day introduced part functionality internally lined layer acoustic foam cage helps keep vocals pops getting dynamic mic element frame reference theshure shure cardioid dynamic microphoneis exact mic capsule without pop screen shure also sells performer series mic theshure beta supercardioid dynamic microphonethat looks almost identical uses totally different mic capsule transformer different sound try buy shure still considered industry standard live performance mics today price really good deal takes licking keeps tick',\n",
       " 'made mistake thinking could save forty bucks get shure no vocalist occasionally need announcements accommodate guest vocalist instrument amp rather p whatever reason simply not sufficient gain oomph much use roland cube peavey amps try employ use adapter xlr connector comes mic borrow shure mic someone difference instant dramatic far efficient e louder mic producing full clear sound without additional pre amplification demonstrating popular microphone world five bucks extra not fathom reason avoiding version switch small price pay quick solutions feedback unwanted pick private comments indiscreet band members even instrumentalist may wiser select former mic little ostentatious also slightly adaptable screen filter certain amount wind noise unwanted non musical sounds proven sherman tank microphones simply unparalleled ruggedness durability see review cautioning consumer wary seller perhaps good point unless reference amazon prime shure commerce competitive prices no postage easy returns anyone returns probably no business buying first place populous drones industry invariably purchased professionals know first hand getting reliability virtual indestructibility fact popularity led slightly less expensive imitators consumers require choice shure need none shure bet',\n",
       " 'plenty flashier prettier modern er looking nostalgic looking microphones much marketing garbage mics best mic buck anyone claims able tell difference far expensive ones blowing smoke industry standard',\n",
       " 'mic well made heavy mic end yet try pop filter multi track studio good m',\n",
       " 'well made low noise low cost cable unless make lot money recordings fine good value home record',\n",
       " 'not know expect proved worth gamble cable appears well constructed works fine amateur use infrequent setup teardowns decent feet long locking button female end quite happy good cable next noth',\n",
       " 'use cable small home recording projects not take cable around gigs shows pretty sure would not last longer months heavy use sound quality fine metal connecters feel little bit flimsy looking something cheap job product works person budget',\n",
       " 'received time standard blister packaging cable stopped working days since days return time sent email manufacturer no response till today died days us',\n",
       " 'things terrible one would not fit soundboard another would not lock mic plain simple looking crap not work buy crap',\n",
       " 'pay couple bucks get one brand like audio technica know going withstand test time mine working fairly well attachments loosening knows next job better quality on',\n",
       " 'everyone develops personal preferences time one reason another personal preference xlr ends really fine threaded plastic cap outside first slide cable legged gripper underneath slides next cable pinches tighten plastic outer cap metal housing solder contacts causing gripper strain relief cable diameters unfortunately design not used chose award star rating value get good quality shielded cable xlr ends f well pinout straightforward pin tied metal grip shield connects ends pins run isolated ends end design chosen uses single set screw connector tiny one gets lost easy need take apart rubber bumper design back not best luck making quick changes field however interconnecting equipment temporary basis cables important starting point audio engineer kit used not need arises another favorite mine pack foot male female cables use favorite xlr ends mentioned amazon rush gls audio patch cable cords xlr male xlr female black cables balanced snake cord pack easy open end change phase lift ground input someone oddball source signal hand means not quibble cable costs show starts channel final mix back pyle product basically took away star not using easy open wire xlrs gave star value product since feet long reach mixer anything else inside booth buck foot also great someone yells short need cable stretcher podium quickly adds feet noise free movement stage snake either not planned got moved quit working price saved many installations torn rewired means no surprises opening next showing finally equipped cable kit usual xlr rca trs hi z transformers mentioned pack foot cables quickly gain access xlr terminals need plus foot cables mainly solve distance problems roll gaffer tape good measure prevent tripping hazards used foot xlr cables no sooner box opened one became permanent addition stage snake one left kit build emergency xlr ts metal shielded connector mike input short notice soldering kit misc plugs got added cable bin even though saved day made show go bit thinking judicial purchases make look like miracle mixer black painted room justify existance owner daugher toy musicbox becomes channel house mix thanks quick cable magic last cable advice never deconstruct something custom made no doubt needed since made know used thus save time not recreating past fix rather pulling magic box tricks solving problem people think hook anything others tried failed furthering staff position exception goes cables violate every standard not serve fix problem like phase reversed ground lifted xlr pin stereo splitter dual trs female cable made harmonica duet performers nose rings lip bars pierced kept getting static mics held harmonica jewelry chalked part intended musical signal wondering much hurt play piercings scraping along harmonica setup monitor speakers listen stereo channel rehersal console gets stars value not use favorite xlr end',\n",
       " 'great chord anyone needing not spend money high quality chord no peavey works good satisfi',\n",
       " 'product feels little cheap side definitely job way care cheap came fast recommend feels cheap job',\n",
       " 'bought pair cables work fine not seem noise seem built last supposed work',\n",
       " 'one two purchased also bought length used assignment recently fit rode mic nice tight cords bought not sound quality excellent amazon allowed link would give link video finished independence seas go website look ipa impress dot com great product fast service crazy low pric',\n",
       " 'not much say good cable good solid connections no play consistent use going strong good c',\n",
       " 'no complaints quiet enough price right monster cable no not cost much either used lead vocal tracks studio condensor mic professional album sessions fine decent xlr c',\n",
       " 'well made perfect length needs shielding great well end connectors well made strong quality mad',\n",
       " 'purchased connect sennheiser mike guitar amps requires course addition inch adapter plug cable worked perfectly proved durable suitable length least jamming friends playing small venues recommended update marked product one star connector fell apart regarded relatively light duty set screw fell could not found similar problems pyle products buy recommend tat get micro screwdriver set well tighten te connector screws similar xperience works well guitar amps ou tighten set screw',\n",
       " 'like products market depending item used experience may vary cable going used semi stationary mic stand project studio thus far done nothing exceptional job tested cable different mics scenario signal strong pricey cables would purchase absolutely low price great mic c',\n",
       " 'extra length gives flexibility maneuverability cord works well not problem date plugs directly system mini amp works well xlr male xlr female microphone cable feet',\n",
       " 'tell guys xlr cables received recently far best quality cables ever encountered entire music professional life would suggest cables one colleagues cables sup',\n",
       " 'got packet try found better gator screws came case equipment secure highly recommended good rack screws good pric',\n",
       " 'screws screw hold things say less would gotten star like job',\n",
       " 'good quality rack screws come rubber washers protect face equipment arrived ahead estimated arrival time always nice good product',\n",
       " 'excellent rack screws washers fit good rack holes good presentation well packed buy fits good rack hol',\n",
       " 'far ones used threaded nicely rack exactly described job guy say little box screws maybe post pics little buggers action yep rack screw',\n",
       " 'pros look nice cause much less wear hand rack screws washers cons expensive wait days longer took rack equipment ship would purchase need rack filled better hand rack screw',\n",
       " 'replaced stock mounting screws came sound rack cabinet nearly invisible black rails mounting plates plastic washers also seem protect finishes better metal washers equipment mounted inexpensive worth nice stylish looking screws rack cabinet',\n",
       " 'donr fooled imitations slogan real junky ones great love washers life savers thanks best rack screws money',\n",
       " 'great rack mount screws rubber washers perfect lets give item tight fit without worry screws working time soon use portable desktop rack mobile dj equipment held strong great',\n",
       " 'need rack screws real mccoy wide enough pan grab ear narrow enough clear next piece gear thanks raxxess screws not even numbers would nic',\n",
       " 'rack screws raxxess makes best quality screws soft washers available good get',\n",
       " 'well review survives censors know great screws run original screws supplied new rack work get screw',\n",
       " 'mics like pants find right fit one like vocals live sing fairly low airy works great also used mic resonator guitar tube mic preamp live sweet sound prefer seems bit bright natural might purchase another one eventually lik',\n",
       " 'drive pinto drive cadillac industries best mic far concerned shure sm like everyone else owned no comparison mic sm garbage compared beta spring extra bucks happy always say best around mic live appl',\n",
       " 'one well several microphones good around mic reason industry standard go beta better opinion vocal specific mic basically giving opinion higher quality sound comparison sounds muffled muddy clearer stronger articulate used sound thin harsh adjustable board end result tighter sounding mic clarity pattern wise better rejecting unwanted sounds play drums use mic reason picks less drums built like hammer better hammers actu',\n",
       " 'yes costs considerably not sure could pass comparison test two love mic sounds slightly brighter clearer used past musician strapped cash trying make ends meet get extra dough want confidence boost go beta would buy favorite m',\n",
       " 'amateur sound tech using church years singers song leaders liked much mics singers growing needed addtional mic thought good reviews received cannot wait test whoaaah sounded better songleaders tested guess dont want use anymore bett',\n",
       " 'shure shure vocal microphone seems running staple live performance vocals rightly due comparative value amazing quality sound craftsmanship beta needs given due beta amazing dynamic microphone might alleviate stress associated cost efficient cousin beta confined live scenarios utilized demonstrated much broader sweet spot completely eliminated severe feedback issues vocalists like pull back mic touch really belt sustained high really notes beta dream effect helps one experiencing sibilance popping complications needs sing past microphone opposed directly wish better understanding sound engineering standpoint technical specifics could expounded upon confidently say beta best vocals microphone ever utilized aside higher end condenser mics isolated environment quite honestly would not surprised beta compared well even confined recording situations bottom line beta might expensive popular cousin worth every penny anyone opportunity give chance demonstrate superiority six five stars beyond fantast',\n",
       " 'beta along original industry standards well known general purpose workhorse live vocals far popular tools quality venues throughout country commonly stock go house mics fact noticed betas place small theater high end system played recently used old years moving beta certainly noticeable difference two beta definitetly hotter sensitive response vocals cut mix strongly clarity might used mids highs picked perfectly singing inches away subtle low frequency roll avoid boomy muddled sound typically get hitting low quiet notes close definitely need stay within close range though pickup pattern tight good thing extraneous noise feedback effectively rejected built like tank probably bit overused describing products shure vocal mics truly earn title take enormous amount abuse never falter toss around drop bury stuff etc no problem maintaining bunch music gear nice tools never worry reason would highly recommend getting used one find deal chances working order no matter rock solid',\n",
       " 'actually replaced boss pedal everything supposed without perceived say volume loss typical many tremolo pedals perceived explain good sounds since pedal rehoused metal enclosure better switch scared breaking plastic housing switching best tremolo pedal money',\n",
       " 'let start saying huge fan dano stomp boxes probably close dozen various lines make pedal decent job covering tremolo needs imho tremolo dano cool cat line much durable pedal time review switches knobs pedal weak link not think true bypass either cool cat metal enclosure true bypass sturdier inputs knobs much better switch features sound spend extra much bullet proof pedal cool cat trem not bad cool cat line better build',\n",
       " 'hey gets job done ask tried several cheapo pedals one favorite better casings metal instead plastic end day looking good sound not pretty pedal board pedal seems solid enough not take much space sounds great versatile range sounds far tremolo pedals come like typical musician looking something not going break bank gets job don',\n",
       " 'first started setting little studio wanted something not break budget tried couple different combo pedal boards digitech boss quickly realized not getting sound money quickly drying not much left tried tuna melt example danelectro would think thing stunning ability manufacture vintage tremolo sounds line pedals types never dissapointed save hard chain without lot noise got guitar building got put away lately trying make time improve playing skills joy joys rediscovering pedals absolutely love forget fab series not hot buy old style tuna melt big metal ones like dan echo not sorry old time food pedals best',\n",
       " 'hello musicfriends built cheap sounds great good controls studio songwriting perfect would not exactly go tour something knobs still love even digital units tremolo hidden may age thing built cheap sounds great',\n",
       " 'sounds great nice warm lush one better trems pleasure use however hate plastic housing input output jacks located not heavy feet probably last good long board really would not want put much weight sounds great',\n",
       " 'son needed capo expensive music shop takes lessons amazon found wanted reasonable price great pric',\n",
       " 'title says got free shipping amazon prime cheaper local music store keep head guitar easy add move remove trigger type release makes one easiest quick change capos used feels sturdy enough lightweight aluminum best works cheap easy sturdy work',\n",
       " 'like works well takamine acoustic jasmine guitar looks good overall recommend pretty works nic',\n",
       " 'quick clip really anything else say else want suckers wonderfully reliable one years thing went wrong removable rubber bottom capo became damaged neglect however keyser sent bag go wrong no great product way cap',\n",
       " 'couple bucks dunlop not tried couple wish cheeper would one case works fine well made arrived time enjoy recommended teach',\n",
       " 'like camo capo simplicity unique color friend got new one seeing using bit shorter mine mine works uke acoustic guitar no problem use single hand manufactor suggests duration not clip guitar not use easy use beauti',\n",
       " 'capo looks great job take bit pressure open camp better winding versions looks great',\n",
       " 'purchased kyser capo meant get version slightly longer stronger spring find capo not works great acoustics also works acoustic little adjusting quality seems top notch design simple effective great capo works wel',\n",
       " 'owned one years still going strong many gigs spring tension right solid construction works wel',\n",
       " 'basically easiest squeeze opinion big hands may part favorit',\n",
       " 'high quality hassle free design quick easy install remove hurry dos not mar finish use excessive force strong enough move capo way close next fret closer headstock allow maximum room fingers without buzzing happy purchase awesome product looks great american flag themed guitar',\n",
       " 'one two years no complaints needed another travel guitar lever arm coated soft plastic sleeve protects neck spring firm years not given tension finally string compression side material firm yet supple take particular caution make sure not leave anything would indent material permanently works wel',\n",
       " 'seen used many different types capos years range cumbersome difficult use easily breakable never used one convenient well constructed kyser one far best ever seen using years still works fine makes moving capo quickly cinch gold not corrode tarnish making look like new even years highly recommended best capo ever us',\n",
       " 'well made easy use holds strings fine well protected not scratch nick guitar gold capo matches gold keys guitar',\n",
       " 'durable affordable easy grasp use easy grasp us',\n",
       " 'capo good ever used pink perfectly matchs shell pink strat great deal capo good ever used pink',\n",
       " 'currenty use two types capos kyser one shubb capos popular capos around different strengths weaknesses benefits kyser quickest changing capo come across not require tension adjustment clip end headstock not use primary benefit shubb adjustable tension second smaller main drawback kyser lack adjustable tension designed work across fretboard apply force necessary clamp lower frets causing frets wear faster time prefer use kyser less expensive guitar shubbs guitar baby quickest changing capo',\n",
       " 'easy usegreat quality looking forward purchasing brand thank much great',\n",
       " 'got needed basic capo good price tension little tighter would like works covers strings depresses fully not use often not speak longevity good basic capo',\n",
       " 'played guitar years seen many different capos none quite satisfies kyser really not go wrong capo mobile easily adjustable sturdy durable good capo use regular string capo still turn around use asa cut capo transparent rubber piece job comes different colors also black silver gold camo kyser capos also cut capo styles recommend capos kyser still great conditions use time church home best capo',\n",
       " 'started using kyser capos couple years ago never looked back since several not problems work great acoustic electric guitars survived many children teach lessons even though get treated rather rough times great capos not disappointed perfect capo',\n",
       " 'handle spring strength make uncomfortable place guitar feel rushed clamp capo unpleasant use hurts fingers cheap easy use job not like ok wish would bought something els',\n",
       " 'say not high end capo price lose like capos owned not high quality capo take adjustments get seated properly reasonably decent capo afford leave somewher',\n",
       " 'originally bought guitar worked well tried string uke works great much better elastic capos double duty going strong works great ukulel',\n",
       " 'style capo throw guitar tune not put right used correctly though job fine capo',\n",
       " 'repeat everyone else already said kyser capo designed built well easy put adjust easy take probably capos bit flashier still pretty stylish price makes real bargain togeth',\n",
       " 'not believe thing perfect capo one quite good reasonably strong hands pretty easy use good job compressing strings frets definitely well built capos important take not use rubber not get grooved good common sense lasts couple years definitely purchase another good effective capo',\n",
       " 'bought string one blk love simplicity needed not keep searching got gold remind six strings on',\n",
       " 'used different capo far away favorite easy take holds strings tight ask sets inexpensive great capo',\n",
       " 'says kyser quick change capo capo great changing keys middle song anytime hurry highly recommended great capo quick chang',\n",
       " 'capo nice fit yet sometimes wonder fits tightly use course strings tighter sometimes feel playing particular capo makes strings tight yet capo structured well nic',\n",
       " 'pleased purchase strings play clearly zero buzzing position frets dramatically hear feel difference used cheap capo well worth pay excel',\n",
       " 'husband usese capo almost everytine plays guitar old one lasted years worth cost good qu',\n",
       " 'long time shubb user decided try something different think found lazy ended using kyser often shubb fact put kyser peghead reaching hand always available position guitars e peghead kyser turns much convenient reaching something not guitar could change according situations e g maybe side sofa living room maybe table floor places shubb conveni',\n",
       " 'capos wonderful perfect way around long lasting backed company three kyser makes best',\n",
       " 'good strong spring good strong materials improvement would make clear protector holds behind neck protector needs longer protector ages slips end surface extended end base pivots would help kyser capo',\n",
       " 'bought capo mywashburn works orlando classical guitar well wanted capo simple operate not expensive kyser quick change guitar capo fits bill nicely update orlando guitar stolen boo hoo easy easy offthe spring mechanism makes easy put capo take rubberized clampsrubberized clamps helps prevent kyser scratching marring neck frets ergonomicthe arched arm weird looking loopy looking thingy straight arm help firmly grab without slipping easily quickly remove reposition kyser capo durablethe kyser made durable aluminum update capo almost years still working like champ according amazon instant order update moi got capo november capo colbie caillat used bubblycheck music video capo colbie caillat used inbubbly kyser quick change guitar capo excellent not think go wrong one work',\n",
       " 'owned several years silver colored one presently price right work fine real issue sometimes bunch bend strings setting whatever fret going bar thus producing sound not looking higher end capo counter screws rather spring however like say work fine little care attention placement fretboard tell popular model market work pretty wel',\n",
       " 'easy use capo good strength holds strings well not sure good capo still find best holding strings evenly stay tune kyser much cheaper good job kyser capo',\n",
       " 'probably best kapo market high quality sleek look easy use could want industry standard',\n",
       " 'use capo guitar sounds awesome like put capo first fret play song made sounds really really good capo easy use well great product love capo mad',\n",
       " 'description says color gold not greenish yellow intended think would stick black color though ok capo',\n",
       " 'really like capo blue looks good light natural finish accoustic works however feel like deserves stars simply could much robust product example think bottom part clamp little longer rounded back side guitar neck rounded spring could definitely tighter rarely notice buzz not quite tight enough also design fairly nice mostly aesthetic not really super comfortable easy move around necessarily not get wrong rather good product priced right not high end perfect works well looks nice minor complaint',\n",
       " 'package arrived time best capo around works great supposed capo',\n",
       " 'works great clip jam forget screw type spend extra bux one happier trust excel',\n",
       " 'chose patriotic design obvious reasons lovely clear shard silk screening capo really good snug strings beautiful piec',\n",
       " 'got pink cause nobody would steal know often capos get stolen people pink great pink',\n",
       " 'capo awesome looks feels nice premium works guitars not much ask nice capo',\n",
       " 'martin strings not bad not sound looking ended like ernie ball earthwood extra light instead martin little shallow low end unlike ernie ball people love though easy play not tast',\n",
       " 'good average guitar player not want much strain pain fingers not fullest tone would not expect extra light strings not fullest tone already knew',\n",
       " 'electro acoustic martin second hand without scratch got strings well simply much good play rithyms not pretty much nothing else installed set got sounds really good not solid range solos go much easier recomended sounds perfect',\n",
       " 'martin makes great sounding strings decided use light martin strings sounded louder better could play easy lighter strings great str',\n",
       " 'strings not strings guitar strings another important part playing great guitar martin products second none str',\n",
       " 'replaced set strings used martins named light easy fingers give great tone quality company great strings great price fingers lov',\n",
       " 'ordered couple sets strings would extras year old son starting guitar strings good sound hold tune well best thing price great like said usinging mine sons guitar son breaking string playing hard string not break bank replace needed great strings not break bank',\n",
       " 'name martin says many many years grab extras want great price great strings pk',\n",
       " 'love strings use acoustic playing best find per set not dumping bunch money strings time easy play sound great long lasting take care wiping every time best acoustic str',\n",
       " 'strings provide warm crisp tone makes dreadnought guitar sound like heaven use time best product',\n",
       " 'good strings good sound extra light easier fingers sound thinner go light gauges solid sound handle pressure good lik',\n",
       " 'third pack pack using two months sounds rich full feels still good broke high e attempt restringing luckily bought packs time want keep completed pack back fingerpacking quite long time recently sometime practice hours tired session used light steel strings acoustic ones easier fingers even tiny lighter third pack',\n",
       " 'okay strings folk guitar nothing special price not world either good buy money tried gibson seem good okay strings folk guitar',\n",
       " 'yet another one forever beginners comes playing guitar never mind guitar strings made second hand guitar sound much better putting new pegs stringing strings sounds much nicer richer see need replace saddle bridge pegs keep coming loose think string strings set go like strings light due not much practice number years let face fingers get sore playing also small fingers hands intend continue purchasing strings future use recommend love guitar str',\n",
       " 'restrung martin strings found excellent new guitarist light strings easy sensitive finger tips warm rich sound impressive product',\n",
       " 'even though folk strings put year old dread sound really good hope last longer reviews indicate also wipe playing minimize tarnishing far good sound good dread',\n",
       " 'great great sound sound strings different strings could get also teach guitar player use lighter touch playing produce beautiful sounds well worth pk',\n",
       " 'string work well not give mellow sound guitar looking shipping quick strings recieved good order silk steel str',\n",
       " 'love strings bought set awhile back ovation never used came possession old yamaha acoustic guitar pretty beat needed new strings put suckers wow impressed even old beater guitar sounded great played easily strings bought another set ovation time sound great',\n",
       " 'bought pick holder hate putting pick strings hold not play pick strings originally thought thing would kind large go way across headstock boy wrong picture misleading thing tiny barely goes across three string wedges neath two strings put two picks maybe thin wedges top stays place well convenient negative not know long hold think maybe thicker rubber rather foam rubber would held better see thing eventually losing tension pick holder wedges dropping picks nice little pick hold',\n",
       " 'really like things not stick tape stuff guitar body make double sided tape similar post notes might good idea bought back bought drop pick another right fun second batch ord',\n",
       " 'love idea not need pocket strap elsewhere store pick not add something else find loose pants pocket love concept',\n",
       " 'good think bit expensive one give two price lower price ok pick hold',\n",
       " 'doe not stay well moves much even go pick lightly could redeisigned ok',\n",
       " 'buying product concluded lot money foam job think velcro job would preferable one lot money foam',\n",
       " 'excellent simple product fits guitars stays way playing easily holds picks time end grooves ends one slide least strings fit grooves good pick hold',\n",
       " 'since bought little gadgets everybody playing guitar around want use misplace picks time playing not look around longer know find like use different gage picks therefore ordered christmas stocking stuffers whicdh enjoyed friends great gadget add guitar',\n",
       " 'lot smaller picture makes look good thing serves purpose fits snugly strings headstock handi',\n",
       " 'using right acoustic job respect holding picks smaller would pictured still good product hold light heavy picks super easy put take problem moves lot putting pick back besides highly recommendable anyone definitely pick axes decent pick hold',\n",
       " 'not much say made foam made slip strings made hold two picks several acoustics electrics son lost one performance stage not secure not dislodged still stay majority time recommend son guitar teacher calls fancy little pick holder people ask buy one see first time one must also careful son lost one know possibility falling lost performing play stage please click yes review helpful encourage continue writing updating reviews leave comment questions happy answer help wedgi',\n",
       " 'use hold picks acoustic guitar got tired losing picks mid jam digging pockets scavenging another pick right work',\n",
       " 'using months bass think even useful bassists guitar often find playing fingers suddenly pick song starts pick usually offset tuner placement fit one pick still find indispensable no tape sticky stuff also model made specially bass updated bass model basses definitely better thicker strings guitar model gibson explorer love spreading strings headstock makes less secure perfect still highly recommended headstock straight design not much jackson radically angled headstock make metal edition back ord',\n",
       " 'thing supposed use practice bass since use type picks supposed good product',\n",
       " 'thinking may affect ability tune properly seems no affect super audiophile tone hounds might say affects resonance sustain take recording handy two picks times great not make trip back mike stand get pick attach something sticky tape guitar finish likey price not beat either cool',\n",
       " 'bought one try asher junior lap steel guitar hold two finger picks thumb pick worked difficult getting three picks one wedgie ordered second one two strings next nut works pretty good holding types picks admittedly wedgie not actually designed liked much ordered two acoustic electric guitar one bass bass version side see seem loose like could fall doubt picks stay place case guitar not tried yet otherwise worth price good doo dad around especially lap steel need place stick finger picks guitar real help staying organized great lap steel guitar',\n",
       " 'played string instruments better part years starting cheap tijuana wood box year old progressing martin string acoustic guitars electric fender gibson units good respect decided treat les paul birthday not financial resources buy git shopped shopped finally settling cherry burst arrived perfect condition slightly smooshed outer packaging notwithstanding even sorta tune quick dial electronic tuner brought right simply put nice guitar allowing strings neck settle together spent hours week later adjusting string height intonation pick distances lp rocks going spend mid range fine practice performance guitar not go wrong one kids two thumbs suggestion fender mustang amp makes guitar sound even better good select',\n",
       " 'exactly describe love sound easy play great price excellent sound highly recommend everyone lov',\n",
       " 'bought present daughter learn guitar absolutely loves everyone played past weeks loves not beat price guitar beauti',\n",
       " 'fine guitar not amazing particular instrument issues finish couple places around perimeter guitar look like black splotches underneath sunburst paint clear coat one near top strap post another near place pick guard mounts underside body neither would apparent someone not appraising guitar not look normal maybe got first one line switched black painted models guitar also weird v shape back neck wood grain not match guessing joint glued together know better les paul guitars one piece neck since not read one something different assumed would glue stronger wood les paul guitars tendency break area guess guitar durable still disappointing unexpected discovery not sure seeing finish issues hand would dissuaded buying guitar upon reflection would much smarter visit music store examine guitar buying remaining issues instrument general design les paul guitars versus particular instrument guitar small comfortably play without strap even sitting top strap peg angled slightly guitars horns angled means investing install straplock system kind good idea les paul pegs not stay strap holes well guitars great guitar knobs switches real les paul guitars practical standpoint rather cumbersome separate volume tone knobs pickup range adjustment saddles pretty small found impossible setup guitar coated strings without additional hardware guitar sounds decent looks pretty great although not quite pretty pictured one due shorter scale length tad easier play guitars note shorter scale length characteristic les paul guitars not indicate less full sized guitar though fine guitar price not sure would make choice position mistake buying sight unseen',\n",
       " 'playing guitar years owned played variety guitars lifetime wife bought guitar gift cannot begin tell much love guitar solid well built guitar finish beautiful pictures no justice sounds incredible great tone sustain wonderful harmonics clean tones nice warm neck fast no fret noise hums pickups really nice versatile play anything blues hard rock metal would perform live guitar heartbeat cannot find better guitar price would expected cost much extremely impressed great guitar bet add next guitar collection another epiphone well done epiphone fantastic guitar',\n",
       " 'learning squier six months really wanted better guitar research reading reviews checking guitar store chose one much easier play squier better sound like squier not bad gets little buzzy top strings suspect might need adjusted not clue go also good choice women small woman really like neck smaller also fairly lightweight overall happy choice guitar tech told best guitar maybe expect happy years upgrade good ready second guitar',\n",
       " 'bought years ago amazon could not happier first electric year owning got way expensive fender strat still prefer epiphone feels really lightweight lot even les pauls distance frets smaller one guitars tried makes easy play stays tune looks really really lovely like much decided add pair slash alnico iis cost guitar made sound incredibly awesome improve sustain good ol crunchy bluessy rock call cheap want would not care one items makes wonder come others way overpriced not find way justify real gibson les paul sound better not recently years estimate somewhere around hours heavy use started fretting gave stars would expect guitar sure easily fixed guitar tech continue sweet tone machine always learning looking first electric want practice axe not dissapoint go ahead buy not give thought first electric guitar',\n",
       " 'playing guitar since years old decades must say pleasant surprise not electric years not budget get gibson picked epi les paul instead along fender mustang amp great combination guitar sloid feel came set perfectly right box needed tuning unlike others not feel strings got needed changed right away probably within first two weeks want change replaced mine ernie ball not even slinky could not happier way thing plays sounds great sustain beautiful harmonics clean tones warm get nice blues tones superb thrash metal versatile not quiet country jazz not really meant action extremely easy fret board great feel good width neck not slinder not thick feels good hands finish product nice one thing though pick guard kind tan cream white color not bright white pictured still looks great also not mentioned description come foot cord not best quality would recommend picking new one order overall well worth list msrp less half steal considering instrument not hesitate quality guitar great pric',\n",
       " 'well epiphone les paul came earlier morning impressed u bet cha thing simply beautiful arrived well padded double box initially spent minutes going whole guitar magnifier see could spot flaws none not finger print anywhere guitar extremely well made put together right tune box action smooth butter neck slim good thick hands jumbo frets no burrs abnormalities put quarter fret right money considerably heaver thought would imagine weighs strap ordered way maple top work art superior finish metal hardware appears top quality duncan pickups epiphone lot easier play thing ever hand floats frets not think could get better piece price point epiphone les paul electric guitar vintage sunburst',\n",
       " 'one awesome guitar also purchased fender mustang amp epiphone custom case fits like glove planet waves planet lock leather guitar strap comfortable secure made unbelieveable combination along rocksmith cannot imagine anyone disappointed combination problem household gets play next sweet',\n",
       " 'waited two months reviewing les paul make sure no issues happy guitar came well padded excellent shape set well played well box first string change making sure used gauge string not make adjustments guitar played well change little nervous online purchase not able play guitar buying live sticks major trip get real guitar store sometimes take chances anyway worked guitar easy play free prime two day shipping no sales tax saved gas would taken make trip buy one store savings gas tax paid half new mustang amplifier thing epiphone site states electric guitars include cable box one not reading forum seems almost normal thing cords somehow disappear reaching customer not big deal thought would mention thinking buying epiphone ordered one not really sure cable would included not ordered one time glad happy les paul',\n",
       " 'first shipping fantastic shipped next day came well protected perfect condition extremely well made solid product think people given les paul rep starter guitar trust say no problem leaving les paul standard home taking one gig plays well sound incredible even great acoustic sound not plugged amp not say enough good things guitar good thinking aout buying guitar not buy buy best guitar ever own',\n",
       " 'would years since electric guitar traded old one pay debt never returned decided recently moving back home town going get back playing electric guitar time wanted hobby fully intend local gigs fun side cash guitar easily deliver came perfect condition action set perfectly not issues buzzing strings comes clear black control knobs likely replace something bit prettier overall great guitar even sounds amazing really ballsy sound lp well lp no gibson lp happy purchase epi les paul special awesom',\n",
       " 'purchased primarily rocksmith works well still learning play like feel guitar looks great plays great packaged well needed minor setup adjustments would recommend getting strap locks nice money',\n",
       " 'editing previous review little guitar taking time properly set dial play edited yet someone not appreciate gloating guitars sorry offend made knee jerk review right got fairness received gibson les paul day buying local music store professionally set ready go comparing apples oranges speak even comparing really not far apart gibson best guitar ever owned made previous comparison based little baby second favorite review not fair paid lot gibson bucks epiphone dollar dollar little ephiphone steal wow must honestly admit edge goes gibson not much would think little epiphone outstanding guitar regardless price play blindfolded would never guess one guitar ever tone epiphone much like gibson les paul easy play comfortable sweet sound either rock mellow play blues classic rock honest probably play epiphone lot gibson ding one not broke bank think tend use one lot happy epiphone les paul proudly play amazed make thing money charge may purchase another one put away sure price not stay low plus get another one different color never many guitars going pickguard one finish outstanding would like keep way thinking learning play guitar one no brainer buy established player looking really nice practice guitar would buy one heartbeat shocked sweet sounds good looks comfortable light well plays sure way tune required height adjustments fantastic new rule no writing reviews product least one week proper set stars damn nice guitar',\n",
       " 'beautiful guitar finish amazing tone clear not afford several hundreds thousand les paul fun good guitar money strings e e know g chord lot fun volume control goes want kick notch kidding makes sound like eric clapton',\n",
       " 'epiphone lp special ii les paul electric guitar ebonyhello written review guitar purchased year still stand positive review guitars guitar one two favorites favorite dean electric string hold play epiphone les paul special guitar feels sounds like something could take stage not cost associated gibson also amazing still around well worth noney stays tune high quality well worth money purchased electric acoustic epiphone ukelele today chiropractor review later looking les paul guitar not one not typical style although amazon sell one not let name fool still nice guitar though solid construction beautiful polished ebony finish tuners highly recommend guitar buy thank well made plays wel',\n",
       " 'playing years currently guitars problem lp feel like boat anchor around neck bought sold quite another problem real lp get one chance drop one see many used ones head stock repairs beautiful guitars not comfy play deal used guitars picked epi special along several guitars resale shop cheap not mess ready set resale fully expect fret level guitars even lot higher end guitars need found special frets actually well done chinese version needed slight leveling would played fine without picky not take much get set small truss rod adjustment new set strings little bit adjustment bridge cut nut bit note played well way got like stuff perfect got set plugged check electronics started really become impressed guitar cheap pickups supposed sound muddy no character sounded pretty good actually good nice bright nice tight bottom end check sound also cranking backing track stage level playing tracks cut really well noticed test volume nice sweep not lose highs turned tone knob also usable good sweep nice popped back cover check full sized pots maybe not best quality much better expected normally upgrade electronics personal guitars get controls operate way like no need fix not broken yup said personal guitars keeping one neck fast comfy not boat anchor shoulder thank tuners lower end trapezoid type turn smoothly no backlash keep guitar tune fine ai not broke not fix please note tuning problems binding improperly cut nut set hundreds guitars almost need nut work not matter price point also bolt neck lot players say set glued neck feel glue actually deadens sound bit prefer good solid bolt transfer sound imo found quality level low end foreign guitars become good know corners cut get price point budget guitars special good go right box little tweaking advice go try one taste may not lot good value well made guitars days found price vs quality ratio epiphone special really special get one get set bucks not good instrument oh mention good looking guitar good value lp',\n",
       " 'good overall pick ups terrible might better replacing pickups not willing spend extra money nice guitar sound',\n",
       " 'got pretty fast took box wanted nothing give stars value alone still shaking head disbelief got guitar price first notuner issues reading replace strings stretched stretched things would not stay tune set addario cured straight away whatever prefer change tuners not best not blame cheap strings technically play open chords playable box neck angle string rattled no matter high set bridge guitar would not intonate due ridiculous angle yes could sent back suspect would gotten another like spend hours shimming neck nut never nut electric not even used guitar nut slot cut deep well working leveling nearly every fret make playable required business cards shim neck ever use got straight removed bit paint neck set wood glue pocket screws opinion helps great deal bolt ons matter bought used none would big deal looking horrid neck angle work steadily staring qc passed sticker must built friday afternoon something sweet play peavey valveking rocks good strat w duncans dimarzios quality electronics not sub par adjusting pickups screws match string height getting horrible wax would argue good epi ever played far pups not hesitate not really care epis love bought sell mainly build quality hmm guitar work go otherwise would highly recommend expensive model models great right box usually stars good value needed lot work',\n",
       " 'considering guitar assume shopping electric guitar lower end not trying decide gibson les paul custom category beginner intermediate guitars rate star instrument really could not find anything wrong yes shortcomings compared expensive epiphone les pauls two controls volume tone rather four also means slightly different look famous gibson not planning try fool anyone beginning players would well advised focus developing skills honing technique rather fussing around tone controls anyway sound good found appearance finish mine fine pickups surprisingly good electronics found expensive epiphone les pauls no great surprise find strings no good although would sure nice not cut corners inexpensive component also integral sound quality fit finish reading reviews convinced lot variation luck draw whether get one made monday long weekend partying several reasons would not buy online nor would buy gc better inspect actual guitar buying not shy asking bring another one not like first one see discovered late local music shop would sold guitar price would included full professional setup including string change likely find similar deal live smaller shops compete internet gc took guitar local shop paid setup intonation problem action high others commented strings guitar need changed immediately asked luthier opinion tuners would read lot people trashing tuners bearing mind financial incentive steer toward replacing instead assured fairly decent advised changing unless problem develops box little unsure purchase however fully set new strings installed quite pleased guitar not believe find better guitar even close price level lot shopping considered guitars first foray electric tempted go something expensive theory couple years want upgrade anyway glad chose one one thing guitar always enjoy around nothing cheap toy like years tastes may change may want something completely different road still option gone expensive model would feel locked no good bottom line shopping guitar price range think pleased guitar buy locally see exact guitar buying negotiate setup included almost certainly need one set right install quality strings happy epiphone lp special ii nice guitar great valu',\n",
       " 'got one back like guitars took apart see made mahogany ply maybe capped real plywood body inside kinda shocked competitive guitar market epi would go otherwise decent build basic original lp design bolt surprisingly good electronics w full size pots open back way toggle good neck bad tuners note mount tuners meaning mount hole clock position respectively fit bottom hole screw junk tuners mine add get minute tune play fill little holes nail polish like made right begin like style though plywood involved still good fit finish though many disagree makes no real difference electric guitar body woods looks electric guitars not resonate pickups important not like idea beginners choice simple fact cheap tuning keys lose interest learning something not hold good tuning bugs big player choice like epi would likely keep style revise hardwood body real tuners think price point demands otherwise decent piece good wiring decent pickups not mahogani',\n",
       " 'pretty sweet guitar price sounds like plays like les paul really like vintage sunburst color orange picture shows strings setup nut close fret board way like already got replaced strings heavier strings personal preference overall sounds looks awesome would recommend anyone budget wants sound les paul freakin sick',\n",
       " 'axesepiphone lp studio deluxe plustopfender maraudertakamine standard stratsquier standard pj bassbeen playing years squier bullet cheap guitar not care could keep next couch play rocksmith got old wore frets needed new cheap guitar rocksmith picked lp special black guitar center kicked free strings bought game soon found using guitars sounded good played well killer tone lp studio pickups replaced zakk wylde made good metal lost bluesy tone passives imagine delight inexpensive epiphone great sustain tone playability considering thing almost prices bullet squier easily twice guitar price literally cannot find better guitar special passive humbuckers great sound glossy highs deep lows put right amount dirt tone gutsy clean distorted sound pickups wax dipped not microphone feedback effect pickups high output feel like alnico ceramic not sure much sustain bolt neck shocked build quality problem high e tuner not notice store string peg headstock discovered loosened string whacked fret hammer popped right stayed way intonation required no adjustment action exactly way like itneck straight no fret buzz excessive bow finish perfect no nicks blemishes oily black goodness neck flush no gaps seams professionally shimmed damn good bolt hardware typical price job stays tune well back bending headstock orientation mean no string trees makes tuning much stable bridge similar lp studio tunamatic setup individual strings may intonated action done two nuts ie raise one side higher lower not individual strings weird toggle volume knobs soon got used no pickguard not need one lots relief strings body not find hitting pickup housings body pick makes easy clean truss rod behind nice body color plate frets smooth rounded played nice could use little buffing silky smooth not rough neck plays fast nut took getting used would catch hand fretting top soon got used not pots side body trplug keeps cable way overall hex keys setupcame awsome poster epiphone guitar modelscame nice bumper stickerno manualbody packed foam shroud foam blocks guitar summary guitar best bang buck instrument sounds good enough gig box well built plays well treat well give years great music frets medium jumbo little deeper fender meaning last longer needing fretting typical affinity bullet squiers price range would say guitar suitable styles music blues metal country pop pickups humbuckers means darker higher output fender not much nice fender bell like tones chime makes power clarity one thing like epiphones gibsons volume pot not close bridge makes easy palm mute play high gain lay pinky knife edge hand lightly across strings right hit bridge makes nice mute strats damn volume knob way experiment took pick pole scews bottom pickup see could get single coil sound happened mess parafin wax got everywhere tone little brighter output little lower still no hum would not fool anyone thinking single coil ended putting screws back likely put lp studio stock pickups back hell yeah coil tapping come move emg lp special make nice little metal guitar favor buy guitar even already better guitar cheap enough not care bang around little good enough enjoy playing many years almost good lp studio deluxe plustop',\n",
       " 'guitar attractive looking plays well right box beginner guitarist please take review worth extremely pleased not plan ever upgrading guitar darker cherry red wood color center shown picture expect different color order see customer pics comes strings installed almost tuned volume knob well designed smooth convenient use tremble rhythm switch far enough way not going accidently hit strumming gripe high e string gets caught top pickup playing hard maybe novice say easy play everything adjustable also like buyer beware statement think going addicted reason receives star',\n",
       " 'purchased sale christmas season figured asking price time could not go wrong expectations frankly low heard nothing horrible things epiphones main complaint would not stay tune complaints included poor overall quality terrible playability received polar opposite received instrument strikingly beautiful finish one stays tune amazingly close perfect tune unboxed not wild strings came stock drummer suffer disappointment heads ship new drums guess guitarists expect change strings new guitar way drummers comes heads near future intend restring guitar withd addario chromes flat wound electric guitar strings light thick make instrument jazz friendly realize flatwound strings require new set intonation considering good guitar relatively little cost new strings work investment box though action reasonably low frets appeared novice eyes fingers properly dressed already invested good not great case guardian hardshell electric guitar caseto store guitar also uploaded customer provided photo page shows case well guitar fits record use following amp also reviewed perfect match guitar kustom defender watt class guitar headthat run akustom defender x guitar extension cabinet head bottom line great instrument beginners not bad one experienced players price right quality clearly shows shore manufacturers made significant improvements past year five stars value play',\n",
       " 'listen want inexpensive guitar great sound easy playability buy one period bought black one leave trunk work case guys called practice session would not go way home pick gear way expensive guitars like gibson dean string fender strat gotta tell like one soooo much play others no kidding gets banged costs buck thirty buy another facte bought others different finishes cheap change guitar dig sweet little g',\n",
       " 'updating previous negative review issues guitar arrived could not get setup action high could not set intonation notes fret sharp could not lower saddle adjustments missed one vital checkpoint bridge needed lowered setup finished agree reviewers price guitar far better others price range know grandson enjoy least awhile ends dust collector not much purchase price add back collection upgrade electronics great guitar pric',\n",
       " 'epiphone les paul guitars not particularly sound great stay tune much better cheap squier strat get lower price kid serious wanting play guitar not completely sure stick spend another get used mexican made fender strat tele reason decide not something want anymore resell price bought long still decent condition little no money lost second decide stick playing guitar eventually better high end guitar mexican made teles strats great back guitars stage use couple different high end guitars not get rid mexy strat sounds great still never pick first guitar essentially stays tune bett',\n",
       " 'purchased guitar much thoughtful consideration possibilities nearly universal high marks particular make model finally persuaded go one not regret decision first beauty initially little disappointed little wood grain shows orangish finish guitar made china may account darker hue thought wanted lighter color look happier second instrument no light weight either heft playability solidly constructed well put together plays like dream lowered action encountered fret buzz backed adjusting screws bit basically adjustment made likely make barely day since guitar arrived yet played unplugged not wait hear sounds amped beautiful perfectly mad',\n",
       " 'playing years tak jasmine acoustic jay turser strat knockoff really love les paul sound pocket book not large enough les paul price read everything epi finally went local music store try one initial impression somewhat mixed sound good action seemed playing scales couple easy chords began get feel fro action guitar switched rear pickup front bang sound looking classic gibson les paul sound fairness amp setup strat playing around bit asked try one cherry finish unboxed new one wow guitar looks amazing sat plugged played bit instantly love action perfect despite heavier strings used sound humbuckers classic playability guitar tried appreciated tuning breeze held well guitar always retune every session anyway epiphone really everything capture les paul sound economy guitar yes know puriest point bolt neck cheaper humbuckers flat top construction basswood body point angled headstock mahagony neck rosewood fret board gibson electronics love simple volume tone controls yea little knob spinning switching pickups tun matic bridge tail piece gonna make string changes breeze much better try thread thru body even somewhat limited practice amp guitar still sounds amazing oh sustain well lets say hit low e last night went bed think still reviberating amp morning lol looking les paul sound discount price consider answer oh local shop able give guitar less place else free setup played far perfect box amazing sound nice pric',\n",
       " 'wow would thought holy grail arrived house son practically ran ups man truck pulled thrilled guitar great purchase epiphone lp special ii les paul electric guitar vintage sunburst',\n",
       " 'got guitar guitar center scared get guitar amazon review saying looked like toy wanted see person saw tested guitar center amazing better les paul special ii guitar plays great set nicely pickups nice electronics work perfectly no problems guitar beautiful would highly recommend getting dont know anyone elses not guitars made right amaz',\n",
       " 'friend showed monthly guitar club meeting loved switch right fingertips genius bought immediately shorter one goes guitar pedal board longer one pedal board amp works like charm no excuse damaging amps ears two issues consider right angle plug mm short able stick tele takamine would not seat properly would slide turn cord around use right angle pedal board side worked switch not think planet waves first connector problem dont blame maybe stick straight jack not sure second issue simply little button switches fussy make sure right position looking feel wont see white edge quiet wonderful careful right angl',\n",
       " 'third circuit breaker cable play church no one wants pop leave sanctuary three depending setup group hate cable jump rope really like right angle connector makes fit no matter guitar stand use quiet get away',\n",
       " 'love cable perfect making guitar changes without noise cable not seem quite good quality planet waves cables still better others switch easy use great idea',\n",
       " 'far satisfied customer cable worth used cables first one ever owned no expert great c',\n",
       " 'nice concept actually works cable nice adequate gauge try good qu',\n",
       " 'update right angle switched end started developing crackling issues intermittently cutting month amazon not help despite lifetime warranty amazon offered let pay shipping give partial refund despite authorized retailer planet waves amazon not offer exchange planet waves warranty beyond standard amazon day return policy amazon support referred manufacturer emailed planet waves instructions warranty return dealer exchange not dealer within miles home unless manufacturer comes one quickly becoming unusable looks like might cost resolve frequently switch instruments makes easy quietly used cables g h quiet plug also works well switched connector advantage g h use mute tune head stock tuner without unplugging instrument cable bit stiffer used makes coiling storage easy quickly become twisted mess stage length really need little elastic cord keeper strap works better could ever imagined never given sound cable thought bass player not use much effects plays mostly passive instruments using genz benz shuttlemax fearful cab really notice pronounced difference clarity dynamics sound much alive cables variety manufacturers hosa proco whirlwind etc never warranty exchange pw cable others tout easy swap pw dealer great reason buy like knowing edit stated not able exchange amazon beyond days great design love switch',\n",
       " 'wow cables made really sturdy noiseless feature priceless definitely real good value money great qu',\n",
       " 'feet cable paid footer local guitar shop highly recommend awesom',\n",
       " 'long time planet waves user trusted circuit breaker cable would usual high standards imho not plugs great not seem good cable grip like old cables long cable protector extending plug allowing cable flow gracefully guitar amp end actual cable horrible hard plastic outer shell not lie flex well like good cable e g like old planet waves cables claim shielding excellent find mediocre disappointing purchase disapointed planet wav',\n",
       " 'would chose cable cause older one angle plug needed another longer cable straight end like idea cut power remove cable instrument mute amp mixer recommend product anyone likes ability disconnect without anything else planet waves circuit breaker instrument c',\n",
       " 'purchased pedalboard years ago always loved use pedals always one sounds great indestructable takes almost no space controls great get large variety sounds played boutique chorus pedals boss loads better every way not regret purchase pros easy use no hum small sonds awesome indestructabecons noneif want awesome chorus around forever last forever sounds incredible get boss',\n",
       " 'bought little pedal back year got first guitar tried pedals ultimately one gives best sound versatile really easy dial sound want might get dramatic effect expensive rack units cost practicality pedal best bet part rig sinc',\n",
       " 'good product no complains definitely great buy must pedalboard ama',\n",
       " 'first let start saying pedal part setup nearly years still looks sounds great day came box boss product means going pay get get best bang buck boss products solid rugged construction built last no chance breaking one things outstanding analog stomp box genuine sound good customer support well ever feel need sale boss pedal resale prices always good pedal capable hundreds tones sounds chorus one useful versatile effects opinion best uses tweak pedal thicken sound give guitar effect perfect want fatten really heavy chorus song make sound really dime speed depth crazy world korn type effects really handy pedal imitating tones bands much lot bands tones come close exactly matching tones took pedals liquify sound give beautiful tone cleans leads pedal help simple parts would normally go unoticed stand play kind christian music soon learn not matter long put chorus walking sunday morning turn slayer using chorus pedal go nuts chorus one effects no matter type music playing always find use no excuse not adding pedal rig addition great features easy access battery compartment accepts power supply works well guitar bass puts run sources desired controls need really complete control get pedal never buy another chorus ped',\n",
       " 'sweet chorus one chorus favorite sounds right analog awesome weak boss include level knob instead stereo control anyway one keeper boss super chorus ped',\n",
       " 'ok pro musician rely gear stand tests road using old ibenez chorus pedal one first hit market not use much basically due used certain songs upgraded using separate pedal boards single unit decided buy boss super chorus add collection first gig removed ibenez chorus pedal tonal superiority boss unit certain units may boast better found years playing money not always better great tones easy operation best bet money boss boss',\n",
       " 'like product lot problem time sustainer effect not long thought though would like piano sustainer good pedal effect guitar get good sound attack effect thank sustain',\n",
       " 'several previous posters astutely mentioned need noise gate use pedal completely agree sustain notes actually raise volume make sustain extraneous hiss guitar not playing cover way get rid hiss use noise gate use use chain pedals said pedals wonderful uses every note volume hit chord hard like softly play volume set sustain days need noise gate nothing transparent compressor almost compressors none active one perhaps price pay pedal recommend messing quite incredible funk jazz metal vibes great pedal need noise g',\n",
       " 'man perfect people says noisy thinks depends type electric conections got home place play not independent circuit pedalboard gonna lot noise bcuz compression obviously perfect not make noise conections tottally recommend perfect',\n",
       " 'boss right using excellent results many compressors mxr behringer digitech although alternate use boss stands many rig configurations feel little bit overcompressed sometimes general good product highly recommended main compressor dont like probably dont know configure good luck boss compressor',\n",
       " 'really pains give anything review boss product since big fan product line build quality overall compliments apply equally compression sustainer job reasonably well without worry putting less reliable brand signal chain however minor issues pedal need know two common complaints see adds noise amp changes tone bit former complaint probably true though enough hobbyist use compression sustainer probably already contemplated using noise gate suppressor boss problem solved latter complaint changes tone also true not necessarily bad thing like tone results whole point supposed cut extremes tone sustain result muddy neutered tone though play tone settings help also find settings clock output quiet compared pedals default settings really boss pedals considered expensive compared many effects really viewed budget entry level compressor consider quality compressors either rack units something like keeley compressor costing north best thing say boss even compared similarly priced mxr options gives great deal control compression reasonable price biggest negative pedal opinion resulting sound might seem little compressed lot things could works best paired pedals chorus delay distortions trying smooth ultimately pedal could better though not many significantly better alternatives get north anyway good not great sustain leveler effect boss',\n",
       " 'pro musician always quest better tone expand comply different gig situations bad experience compression pedals years toss closet give thought upgraded pedal board decided give idea adding compression unit give g l american legacy stratocaster style guitar sustain lower volumes boss company dominates effects board rely chormatic tuner digital delay line switch direct box almost every night gig practice somewhat negative attitude going great surprise find really really like unit wanted great tone sustain oozes little box stays position time playing electric guitars especially stratocaster styled guitar great unit',\n",
       " 'guitarists become bunch cork sniffers many players concerned name headstock guitar amp endless boutique pedals collections many seem unable unwilling give listen stock gear anything not cost arm leg fact gigging musician come realize subtle detailed nuances tone many want obsess get lost band mix poor acoustics wherever playing yes want sound good inspiring frankly not need dollar distortion od pedals inspired not owned long time recently got one looking distortion pedal budget frankly would forgotten musical pedal distortion set minimum never gets clean good moderate gain overdrive still lets guitar basic tone get play strat jazzmaster guitars still sound like thing gain halfway get great ad dc crunch even gain maxed still get excellent note definition chords could want sure old school rock distortion usual may not appeal metalheads caveat applies maybe combine eq could scoop mids much want also barber ltd great relatively cheap boutique moderate gain od not break bank visual sound route tubescreamer clone much gain compressor one pedal ltd rt usual midrange hump though much less pronounced ltd refreshing strong mids overall tone not realm tubescreamer sit well pedalboard bring different flavor party tone get bright indicated play single coils no problem finding sweet spots tone knob generally run around pedal steal look around find used one good price would considered modtone speedbox decided go generally bulletproof boss instead basically price could not happier supposed wel',\n",
       " 'think artist tool every job right tool best distortion pedal really depends sound trying get gear technique using using bad gear poor technique not perform miracles not make watt solid state ibanez soundblaster amp sound like raging orange rockerverb not make single coils sound like emg arguing pedal best like two painters arguing color best used paint sunrise pedal good tight kind distortion not heavy modern metal running clean amp makes sense not make sense ample youtube reviews check pulling trigger used professional players like steve vai joe satriani kurt cobain professional pedal used professional musicians built like brick durable get found mine used new asking price fair would like see boss start using true bypass instead buffered bypass use admittedly not detect tonesuck run mine tube amp verge breakup really get things cooking also takes overdrive sustainer pretty well bump gain get singing leads exception amodeler type pedals companies like tech not think dirtboxes included perform optimally run solid state amp not happy way distorting marshall mg problem amp solid pedal moderate amount notight sounding distort',\n",
       " 'pedal years replaced old one month ago distorts sound not quite way would imagine though effect sounds really good fat cab larger amp let cabinet give tone little color use epiphone valve jr marshall stack top fine thing champ smaller amp not give meat probably looking without eq pedal says one volume knob one tone one distortion knob crank distorts sound like say',\n",
       " 'pedal must pedal board love overdriven sound pedal distortion element not distorted single notes lost fray thirty odd years counting still one best must',\n",
       " 'first pedal ever bought started playing guitar years ago still primary set sound puts balanced get subtle overdrive like sound high gain hard metal sound looking insane crunch not anyone wants nice versatile pedal one want classic pedal must anyone plays electr',\n",
       " 'cheap piece junk says distorts want something make guitar sound like junk pedals make guitar sound like piece junk popular beyond not boutique distortion pedal like hendrix would use boutique distortion oxymoron things built heavy metal last kinda hope not kidding want distortion got distortion distort',\n",
       " 'distortion pedal give amp boost solos turn clean amp dirty girl pretty harsh tone kind white noise distortion not warm tone amp dial tone pretty harsh sounding said exactly wanted amp gives nice warm crunch classic rock style gives metal punk rock sound wanted flawlessly took minutes tinkering get nice transition amp matching tone boss last forever th drawback item currently cheaper elsewhere usually amazon catches sort thing word wise not pay new thing go distortion ped',\n",
       " 'find play pedal along boss super chorus pedal guitar tex mex pickups captures lot gilmour sound tonality like sound ped',\n",
       " 'pedal market long time smoking deal boss pedal pedal works great almost guitar pickup set sings emg powered schecter tube amp different distortion levels dialed surprise works good bass although bass players know lose bottom end guitar universe always raves boss distortion pedals guitar player one distortion pedals buy experiment gain settings find favorite tone may buy another one mod use bass classic boss distortion ped',\n",
       " 'greg abrams review entitled tone snobs review product page alright want get good somewhat basic distortion sound less deal strongly disagree find much better distortions less even near mark currently priced played guitar years like many people one first pedal purchases afterall everyone talks available given music store nation hear famous musicians using plus actually pretty cheap snapped one like everyone else come find something popular not always mean good see nickelback transformers movie franchise kardashian family etc plugged not really care distortion harsh thin artificial sounding always noisy tried amps practic amp solid state fender frontman big amp tube halfstack not diverse basic sound not likeable read japanese made better sound newer made taiwan models either way not great pedal mind like many newer players not know better time fast forward years bought sold literally dozens pedals whole world great tones found keep eyes open pedals currently like much better great general purpose distortions easy enough find new used guitar shops time writing bought brand new less good ol amazon com rugged enough last years boss turbo distortion lest catch flames people thinking boss hater certainly not loved among others start big brother pedal much nicer tone not mention distinct distortion modes setting pretty much higher quality ii setting brighter richer tone completely overshadows popularity find ebay cheap prices worthy pedal unfortunately overlooked many pro co great dirty distortion pedal probably personal favorite heard box used literally hundreds not thousands songs last years used ridiculous amount guitarists rich full distortion higher gains gets slightly fuzzy never heard bad tone mine great getting big amp kind sound small practice amp also great pushing big amp much headroom overdriven sweet spot without crank amp volume truly excellent pedal ehx little big muff big muff another pedal heard hundreds songs kind fuzz kind distortion definitely owns sonic territory big saturated warm used heavily classic rock tones also beyond tons grunge garage used everyone carlos santana david gilmour smashing pumpkins dinosaur jr jack white personally reccomend little big muff not touch creamier tone recent nyc reissue smaller uses regular adapter cheaper great pedal mxr distortion distortion great first distortion usually found pretty cheap whats nice distortion sounds great anything lack tone knob helps keep somewhat transparent e easily hear natural tone guitar amp not cover equipments sound used quite famous folks including greatful deads jerry garcia randy rhoads ozzy famous guitarist steve jones sex pistols danelectro cool cat metal make sure get cool cat metal not metal ii fine pedal well definitely traditional metal pedal cool cat metal actually different pedal metal pedals basically pre amp sits floor fully adjustable eq tons volume gain roof anything clean boost gain minimum virtually no coloration tone high gain metal stuff plenty great overdrive rock tones works well amp tried find tons great sounds unbelievably versatile pedal even true bypass best part danelectro seems made way many easily find one used even new true hidden gem actually cheaper crunch distortion little guy surprised supposedly clone mi audio crunch box must one awesome pedal essentially marshall stack box boy ever succeed great crunch tons volume gain really make practice amp sound like big ragin stack even sounded good going modeling amp pedals work well modeling amp one even sounded better marshall simualtion built get brand new one shipped fantastic speaking joyo pedals well one two moen another chinese pedal maker honestly floored nice sound given shockingly low price tag especially themoen mo fm fuzz moowhich honestly big muffs every big muff ever played joyo moen make variety great sounding fuzz od dirt pedals check anyone gets arms supporting chinese company please keep mind none pedals listed review included made america let alone western hemisphere hopefully suggestions give something look also not actually try pedal store youtube great place hear demos different pedals also mention try love suits needs power tone subjective every pedal sounds different running different guitars amps may share different opinions something love okay main reason posting lengthy review give newer players information plenty options distortion pedals not thing affordable find something truly love buy one pedals mentioned anything else important part sounds right wish knew know',\n",
       " 'deal pedal inexpensive get better pedal barely bit money sometimes little less money opinion spending less distortion pedal whether first pedal pedal bucks get mxr badass distortion much crisper tone beginners bewar',\n",
       " 'little expensive brands think sounds great way durable plastic pedal pretty new electric guitar not really distortion tone expert like reviewers sounds better easier adjust modeling amp think good purchase nice ped',\n",
       " 'best deal ever first pedal zoom gfx really electronic synthesized sounding alot echos stuff honestly best effect held phaser jet pipe effect got today man sounds crisp clean evenly distorted job distortion sustain best buy best price bodow trinidad boss boss',\n",
       " 'pedal around long time though overall quality declined boss cut corners enable lower priced mass production pedals boss remains staple image distortion stompbox no frills tank pedal designed withstand direct nuclear blast well michael moore stepping know take amount punishment might care give pedal not replicate type amplifier not marshall box mesa boogie vox fender tonal aspect not complex dynamic add plenty grind tone plenty hum go looking first distortion pedal use practice amp look no decent tube amp look elsewhere pedal get pay simply not quality amp justice pros inexpensive good build quality distorts signal cons lots hum tone control gets really shrill really fast without excessive hum almost unusable tone control would get stars basic basic distortion ped',\n",
       " 'love pedals inexpensive purchase easy mod liking pedal received gain jcm mod purchase mod every one pedal also good stock lead boost love pedal great ped',\n",
       " 'element nostalgia never understood know cheap know incredibly durable boss pedals know everybody one tried one point kurt cobain apparently used fenders also know almost never happy tone get step pedal incredibly thin harsh lacks proper sustain even cranked way used marshall solid state amps vox tube amps fender single coil pickups guitars humbuckers mess tone dist dials want dozens affordable pedals even amp distortion richer deeper tone coincidentally also used boss overdrive distortion many years supposedly merges blends pedal not ideal either turn knob way distortion much better tone ever got dependable usually less not really give bad review probably belong everyone collection not mean want use time nostalgia durability affordability not elite ton',\n",
       " 'generic sounding distortion not really useful much beyond lead boost already distorted amp true many pedals era including gasp tube screamer tube screamer great lead boost already distorted amp not many people tell great stand alone distortion not goes boss things get interesting plenty modifications done pedal keely monte allums others turn otherwise mediocre pedal raging beast dripping tone gain sings weeks cost pedal costs get materials mod well worth mine modified monte allums tri gain rectifier modification absolutely killer use lead boost nice overdriven tone find plenty use want basic solid well built distortion pedal boss really nothing special platform great sounding mods not go wrong around decad',\n",
       " 'know know many people hate pedal calling stale generic problem simply not found right settings pedal amp settings amp pedal make difference one thing note bit quiet side opinion digitech bad monkey set level matches amp pedal crank level make clean tone level distorted tone truly one best',\n",
       " 'excellent distortion pedal people want traditional rock sound use fender mustang amp ibanez guitar good humbucking pickups easy use rugged play metal might want get hardwire instead pedal delivers distortion insane amount necessary tone control also expensive easily boost distortion achieved using amp overdriven setting excellent general purpose distortion pedal not know achieves level quality price range great old time distort',\n",
       " 'first no expert things tell brief period owned enjoyed playing practicing lot pedal fender wannabe guitar fender sidekick means gear not best pedal produces wide variety distortion tone changes keeps interested much fun not even notice fingers hurt anymore honestly essential buy starting along headphones cord extension police not come knockin update sept year later much better guitar amp lot knowledge glad got reasons sure made enjoy playing practicing lot soon found sound considering like blue classic rock money dont think beat importantly buck send modification keeley initially wished went overdrive ocd boss mod done keeley super flexible pedal cover sounds need closing spend buck get start wishing could send modified thank later great pedal upd',\n",
       " 'good metal distortion tone bags sustain sucks lot tone metal pedals moderately noisy looking classic rock sounds not find get muddy times plenty settings tweak get sound looking find useful high gain leads palm mute rhythms note definition not good chords price pedal good deal though good metal pedal bit muddy sucks ton',\n",
       " 'years even newer metal pedals market pedal still sells well not mention probably also one modded pieces number mods found online change sound usually side improving stock tone happy always liked parametric eq pedal variable midrange allows get marshall mesa flavors metal hard rock music gain range enough need yet gain punch overdrive compressor pedal cleaner boost even without boost use death metal think play tighter technical styles better not much gain anyhow still best',\n",
       " 'honest looking pedal would give distortion similar megadeth first album kimb far havnt got perfect setup yet ive got close enough pedal great couple notes make not buy pedal expecting play classic rock rock general pedal metal battery drains like mf dont understand possible explanation think leave plugged guitar amp ive pedals wouldnt drain battery unless turned prefer get ac adapter not use batteries things iv no problems great pedal metal ped',\n",
       " 'lot pedals fact distortion overdrive pedals though regularly rig pedal not give cranked tube stack sound no instead edgy smooth mid sweep knob help sculpt tone usually use mid boost solos find get amazing sustain huge sound not able replicate easily sure huge boss distortion box comes close price pedal useful ped',\n",
       " 'bought mine used three years ago works great works metallica pantera type sound also get good rock sounds gain turned eq adjusted great metal rock guitar',\n",
       " 'great pedal sound really crunchy got peavy vyper sometime use want crunchy style amp got really good distortion styles use heavy metal config pedal recomend anyone not introduce noise run stock battery still works make guitar sound like metallica megadeth course also depends lot things like pickups amp etc also old little peavey practice amp blows away distortion less noise gives new life listen boss website heard thought sound not going similar equipment used sound really really close regards forgive english not u great',\n",
       " 'far best distortion pedal no doubt several friends use pedal love also see many popular bands using distortion pedal great medal nice punch along great cut palm mutes not blend like pedals several knobs offering seemingly unlimited combinations amazing best pedal far',\n",
       " 'first want say love tube amp distortion overdriven tubes meant run randall hybrid amp destroys solid state used heard recording use peavey sweet tubes guitar meant heard recently started playing band required dirty tone felt like could achieved pedal absolutely nothing wrong using distortion pedals used dod death metal years first started playing however downside go cheap get piece crap makes rig sound like old radio want something sounds pro quality going shell least quality dist pedals not budget friendly chose know boss makes quality product pedal guitarist using gives variety sounds set overdriven light distortion sound full blown high gain metal tones controls make tweakable gotten load nice sounds read included book look videos online check guitarists settings help tame pedal want perfect pedal not wanting spend whole lot also mods buy install pedal buy preinstalled certain dealers open even shaping make useful seen lot complaints pedal sounding like nothing fuzz must say learn shape sound spend time dialing rig within minutes pleased used overdrive channel push harder got really thick heavy distortion good response say worth investment looking big distortion sound little pedal surely something guitarists consider adding board one better distortion ped',\n",
       " 'great pedal picked used cheaply used market actually use acoustic electric guitar get little distortion bass guitar grit eq pots front panel make versatile enough use cigar box guitar also pedal preserve bass signal still eq would saturated distortion reviews speak pedal sites one see popular also boss distortion pedals like people cheap effective heavy metal caters traditional metal sound actually think pedal versatile imo different guitars may not want strictly metal tone also older heavy metal run circles around metal zone classic thrash speed metal tones almost heavy distortion pedal could never part overall like pedal cannot top older legendary boss pedals versatile pedal distortion not best',\n",
       " 'love boss pedals owned distortion metal zone years loved one good meet middle two great want really good bluesy distortion crank color get thick distortion always pedal well constructed sturdy love great ped',\n",
       " 'pedal mainstay effects years really ton range although one effect time would reach change knobs mid show order get variations commonly used setting overdrive distortion mix knob clock produces professional sounding grunge type effect want sounds excluding heavier metal sounds pedal definitely get versatil',\n",
       " 'simple user friendly feature important think versatile os ds drive knobs allow chose different bunch tones also money great deal recommended overall great ped',\n",
       " 'first used pedal green screemer died friend hand let use used boss metal zone produced nasal tone liking plug pleasently impressed range distortion overdrive pedal produced play fender bassman mix tubes pedal produce sweet tones also played pedal solid state amp still impressed spent years searching pedal could produce nice tight churnch warm low bottom end search ended pedal highly recomend pedal rock blues metal country punk guitar player great ped',\n",
       " 'good od thought would higher output articulate personal preference mean pedal classic reason great not looking sound',\n",
       " 'thing freaking rocks love pedal not stop using sometimes play long drawn chords listen amazing tone combo distortion amp perfect metal amaz',\n",
       " 'excellenti like happyi looking money following purchase amazonthe pedal boss arrives time necessary thank boss overdr',\n",
       " 'money no complaints enclosure dials footswitch durable not true bypass none boss pedals not suck tone pedal not end overdrive asymmetrical clipping fills niche ts pedals not lose little low end engaged actually works pretty well leads especially humbuckers amps looser kind classic distortion encountered stand alone overdrive prefer pedals pedal really works boost dirtboxes already overdriven amp get singing harmonic leads dialed right like overdrive introduce noise pedal engaged things get hissy palm muting crank far dirtbox hoarder like rotate pedals try different combinations lately running either cool cat transparent overdrive timmy clone nice behringer dead ringer boss blues driver tube amp dialed mild crunch jet city combo palomino combo overdrive thing not sound good imho running solid state amp not intended intended drive preamp tubes saturation ymmv cheapskate things durable like bricks bought used well worth new asking price nice ped',\n",
       " 'yellow metal boss want drive sound definition pedal get best od ever owned makes want see tone could cut board half sharp cut',\n",
       " 'picked order boost gain amp bit wonderful job drive set low level set high tone set taste additional noise produces relatively low not excessive staticy buzzing sound deal boss pedals well made reliable great boost amps overdr',\n",
       " 'bought one yrs ago used died couple years back one favorite overdrive pedals ever smooth tone right amount gain perfect push tube amp plus dozens diy pro mods available add lot potential recommended classic overdrive established yrs ago',\n",
       " 'bought pedal used used fender tube amp marshall solid state using clean channels get variety tones different guitars reccomend first overdrive add collection several overdrive pedals one good giving basic overdrive tones keeping amps low end get decent tones telecaster les psul keeping level tone knobs clock adjusting drive taste od sounds great fender clean tubes also tried bass guitar adjustment tone drive knob bass overdriven tone good drive reviews prove pedal typical iconic boss build quality find boss pedals good purpose mostly modded ones owned time may keep one use boost pedals last forever paid mine good value works well solid state valve amp',\n",
       " 'standard peral board along witht blues driver little yellow box bang buck going find drive pedal tough sounds like fire serve well seriously no better deal yellow pedal everyon',\n",
       " 'use pedal time even great chrunch buck classic blues rock eash dial sound want great ped',\n",
       " 'held trying boss super overdrive many years like many guitarists first distortion pedal boss durable aggressive also extremely frustrating might formed negative impressions boss probably unfair widely owned affordable usually around similar lot ways ibanez tubescreamer except tubescreamer reissue costs twice much lot guitarists consider rock overdrive tube blues effect probably truth excellent pedals however really impressed transparency versatility simply plug use alone clean channel not necessarily best use pedal excels booster pushing already overdrive amp stacking distortion od pedals one best settings turning level way gain way adds little bit grit tone really sounds great feel lot people give mediocre reviews reasons not fair hear things like cuts much bass really pedal supposed midrange hump set properly take away muddiness tone help cut band live playing like said feel transparent retaining elements clean tone though preference two entirely subjective also know boss pedal means durable come thing stand years abuse used number roles looking single pedal make small amp sound big probably better options range try appreciated mega distortion excellent joyo ultimate drive understand pedal supposed use purpose understand thing popular years versatile overlooked classic overdrive boss',\n",
       " 'great booster others said solos boost mids signal overdrive great kind midsy marshally sound suck low end fix amp board whatever boss solid great price remember overdrive not distortion distortion look boss pedals boost',\n",
       " 'several overdrive pedals much expensive boss long time overlooked used pedals went back trying pleasantly surprised find relatively inexpensive pedal superior pedals using not mean merely good relative price mean good period easily outclasses pedals paid much price pedal sometimes goes amazon price amazingly good deal note definitely overdive pedal not deliver metal distortion least not want ride crazy train look elsewhere like deltalab metal distortion pedal produces smooth old style overdrive excellent sounds especially good dash chorus plug fender mustang ii amp turn amp chorus result delicious used single coil double coil pickups sound good though not surprisingly get heavier punch humbucker sounds great single coils gem',\n",
       " 'forget volume drop comments not not color tone one bit tried couple miniature novelty pedals like boost volume tone pedal tremolo thrown wanted something dress slow ballads course born bayou pedal goes nice subtle background effect deep depth want no variance guitar tone volume click play lot acoustic solo really nice addition change sound not excellent ped',\n",
       " 'sure fancier tremolo pedals always fan boss got mellow vintage fender tremolo output suits playing pair beauty electro harmonix cathedral reverb pedal get lost days definitely worth reasonable cost easily one favorite tremolo ped',\n",
       " 'tremelo pedal works nicely great playing amp without tremelo problem solved price also good nice tremelo peday',\n",
       " 'great tremolo pedal quiet used correctly absolutely no signal drop volume drop whatsoever blend tremolo type smooth sinuous pulsing waveform sharper edged type tremolo tremolo varies volume sound not vary pitch control depth amount effect control fast effect pulsates sound simple popular effect would not want live without form another pretty teal green color boss products built like tank generally last forever not abused damaged no idea fast pedal eats batteries use power supply no clicking depressed no added hiss hum distortion battery compartment easily accessed without unplug anything simply great effect quality product boss tends hold resale value well great tremolo boss',\n",
       " 'played pedal really dig old school fender blues deluxe reissue strats teles pedal great warm organic feeling tremolo use lot barely bring warmth really crank speed depth great sort rotary speaker effect use rate set tempo song record clean guitar chords middle neck effect give nice almost hammond type organ sound great ped',\n",
       " 'superb tremolo pedal dials allow enormous control effect sturdy often noted feature boss pedals utterly easy use allows battery power supply adapter operation important delivers beautiful tremolo note comes battery installed not come power source adapter price willing pay consider danelectro cool cat tremolo also delivers good tremolo not allow much sound manipulation boss product still quite good boss takes prize paid mine zero regrets superb',\n",
       " 'three units capable tremolo boss line boss slicer like tremolo steroids plus amp twin reverb tremolo unfamiliar tremolo modulates volume turning rapidly boss simplest three stompboxes operate three controls rate modulation depth modulation much volume vary wave shape jagged square somewhere continuum unlike boss stompboxes not seem compress sound seems like playing fishbowl another reviewer puts wave control gives unit sonic versatility nice feature tremolos not price give decent set classic tremolo sounds nothing crazy unit tom morello uses guerilla radio well tremolo classics like smiths soon hear no volume drop problem like reviews suggest something sensitive generally turn modulations course song rather leave full time like boss stuff box sturdy like big quiet footswitches little clicky ones units color sort dull military dark green not attractive thing not bad either small boss effects not come power cable factor cost boss instructions tell need particular adapter not know anyone says must run pedalboard power supply seems work fine not would not buy boss product period bottom gives decent array basic tremolo sounds nothing not bad price factor power simple nice casing footswitch drab color nice basic tremolo sound',\n",
       " 'wanted way plug boss save batteries not want drop money boss psa got one instead job less money cheaper altern',\n",
       " 'bought using danelectro mini amp not need worry battery works perfectly adaptor not surprise performance two stars comparing price mini amp less adaptor pricy still saves long runs using danelectro mini amp',\n",
       " 'got power danelectro honeytone amp since eats batteries like candy power adaptor not exciting works fine work',\n",
       " 'use mostly honeytone mini amplifier reel echo tape echo simulator works well no problems lot danoelectro pedals may eat batteries great alternative access ac voltage outlets great danlectro product',\n",
       " 'problems ego compressor comp getting noisey sent back found using slightly drained battery got one great nice quiet half price boss one excellent quiet pedal pow',\n",
       " 'best little guitar pedal adapter used used many last three decades exceptionally quiet many not puts volts drive pedals little solidly brand new alkaline battery not buy new one every dozen hours used splitter drive three pedals four hear current drop bit still good thing reminds tone comes fingers not box floor sure nice gilmouresque delay little extra gain driving tubes best adapter pedals available know including boss ones dan released cool well made pedals past years little wall wart worthy companion good deal clams perfect guitar pedal adapt',\n",
       " 'stated title adapter need use danelectro lot going many batteries plug wall advertised keeps electric current hum minimum functioned fine year owned reason took one star wire really thin not seem durable careful not get broken might able find brand adapter cheaper one made honeytone not risk ruining works great danelectro honeyton',\n",
       " 'must danelectro fab pedals anyone one pedals knows eat like candy solution get one hook power splitter search visual sound one spot multi plug cable good go pedals no battery swaps no searching every minut',\n",
       " 'say lower priced low distortion could not hear hum multi pedals save cost use godlyke power supply good power pack work',\n",
       " 'got use behringer compressor ordered not indicated compatible worked great price right already two no problems quiet no hummmmm buy need wall wart quiet mous',\n",
       " 'first wah morley steve vai bad horsie loved switchless pedal put hell months send back cause broke still ok pedal wanted ability leave pedal open achieve certain warm sound went looking cry baby local retailer several different kinds cry babies set put one hendrix classic cry baby pedals basic one sounded far best one sounded better price range paid cry baby worth every penny not even touch morley anymore cry baby way great affordable wah wah ped',\n",
       " 'using crybaby going years guitarists claim signal chain affects tone negative way well never noticed always feel perfect also adjust part sweep using easily ie want treble bass little comb moves wheel pot tried wahs morley not vox good always gone knew no complaints crybaby best',\n",
       " 'got pedal cause not expensive love music used play big concerts no tell price good ever wants fun learn use pedal good',\n",
       " 'well got one messin couple hours fun king wah wah big hard heavy turn understand original sounds exactly like always imagined like records one gets big everything wanted wah wah',\n",
       " 'experience crybaby great tone overbearing vox cleaner wahs know several people problems switch watched countless others stomping crybaby futile attempts engage disengage pedal actually use bbe vox since frustration wah not sure giving tone exchange headache avoidance kinda think vox bbe seem brighter sound less wah ed could accentuated playing strat instead les paul custom boogie combination used crybaby great tone moody switch',\n",
       " 'great pedal pull open put couple cheap mods thing absolutley rediculous boutique pedal little time solder mod',\n",
       " 'opinion one finest pedals exist crybaby still pedalboard long foresee dunlop original crybaby ped',\n",
       " 'wawa pedals come go get modded thunk always wanted original cry baby birthday gift not disappointed road may add gazillions electronic mods available personalize sound time gonna enjoy pedal shipped good buy great packaging earlier expected delivery thanks amazon everything ever expect',\n",
       " 'cry baby years old oldest pedal board rewired true bypass replaced potentiometer give wah broader range really not sound better pedal covers white room cream tone perfectly gave stars not maintenance free pot came loose switch replaced considering fact survived several hundred gigs smoky dives probably give takes licking keeps wah',\n",
       " 'sounds like original enough said great pedal still built like tank appreciate version one use pretty standard ac adapter cri',\n",
       " 'problem pedal step way turn produces sound morley pedals separate switch turn given position difference sound bit professional wah not always turning top wah frequency suppose wanted set wah middle leave not really pedal bit smaller morley wah experience sound equivalent base models step turn',\n",
       " 'first petal kind read wah shoud first went glad wah petal much fun make many cool sounds imagination allow hours hours fun sounds great no problem performance works highly recommend petal price attractive well love works great many poss',\n",
       " 'love wah perfect really not find negative perfect standard wah not regret purchase put good analog fuzz good go original stil',\n",
       " 'got mxr cae concert line pedals one one use local gigs home use fender telecaster hot rod nothing sounds like class',\n",
       " 'finally broke got new one original crybaby bought finally died great pedal well made origin',\n",
       " 'want guitar sound like eddie van halen joe satriani guitarists studio album guitar sound get boss guitar multi effects processor install boss patches james limborg search google boss patches james limborg dunlop original crybaby ped',\n",
       " 'good pedal not sound looking great playing funk music us metal heads wah weak metal artists would recommend looking elsewhere going look getting ibanez weeping demon morley whatever behringer limping barn days thouroughly unimpress',\n",
       " 'oh crybaby crybaby wah suck not crybaby tired hearing statements guitarists fresh could not even tell many strings instrument wah pedal not cut maybe one time not today not par long time young player insisted wah pedal mom bought one thought awesome learned better took week learn turn finally thought broke eq pedal not good no smooth transition heel toe big drop freq kills effect pump foot really fast avoid drop pretty much push toe foward literally stomp turn follow steps turn inconvenient someone trying rapidly move effects board not say complete piece junk give wah effect classic pedal better still stuck stone age thing even someone mod mine gave little headroom fixed dropping issue still slam turn still sounded like cheap wah suggestion mark tremonti wah great kicks things end comes range simplicity use may cost probably end hating crybaby getting one anyway go tremonti power wah begin use wah digitech processor may say cheap processor using years not seen anyone tell price based sound quality thats matters suggest wah control sensitivity hard press toe turn mine set fairly light totally shape tone right board easily even presets crybaby one get entire processor full effects awesome wah little bit want cheap child gimic type toy want get serious wah spit every crybaby see go elsewhere serious musicians look elsewher',\n",
       " 'wah pedal number years say put lot use no problem pedal mechanically however cheap rubber feet first victims perhaps taking cheaper short cuts producing product say rubber feet began come no time mount pedal board probably remove feet not problem also power supply comes stellar job powering pedal like though place pedal board unified power source makes sense must use different power cable least unit jack not fitting properly leading serious shorts shorts make crowd deaf no time flat learned using different power supply sure power jack push way otherwaise zap two issues power issue really no fault dunlop use supplied power cable great pedal classic surely live legend l',\n",
       " 'orig still best like guitar music chances good know sound pedal makes one stand alone outside multi effects unit cry baby cri',\n",
       " 'cry baby proven since well made pedal must play classic rock takes bit practice master mastered take music different level class',\n",
       " 'sounds good adds soooo much noise pedal board not problem definitely worth price much nois',\n",
       " 'things not need change wah pedals try tempt built fuzz eq wacky add ons would rather one pedal job perfectly pedal bunch stuff sounds less great crybaby great effect style everyone jack white jimmy hendrix used incarnation pedal must really say classic reason',\n",
       " 'acknowledge minority opinion perhaps bad luck unit attempts repair afterwards loved sound functionality wah wah pedal would literally last months time became unusable suspected potentiameter shot replaced problems reoccurred like horrible static noise soon started using good product hopefully make durable particular unit durability issues potentiamet',\n",
       " 'keep capo instrument nothing wore showing without one using martin spring holds tight easily adjusted one hand no buzz great conveni',\n",
       " 'best capo ever used decades works easily flawlessly well made five stars best capo ev',\n",
       " 'kyser capo one new ovation string needed always recommend kyser capos last forever not lose strong holds kyser caps easy recommend',\n",
       " 'designed easy use seems sturdy serve well years come not expensive good quality good buy',\n",
       " 'play acoustic gotta get one hair longer padded area need tell string version ridges much closer together one absolute necess',\n",
       " 'capo exactly clamps strings tight no buzz not change tune guitar used kyser capos one guitars never buy another brand never go wrong kys',\n",
       " 'thekyser banjo mandolin capothis one three capos use ukulele works second favorite park headstock ukulele easy add move remove trigger type release makes one easiest quick change capos used feels sturdy enough lightweight aluminum like trigger portion sticks upwards not get way like mydunlop trigger banjo capo black favorite still capo close second nitpicky complaint not eligible amazon prime update saw capo eligible amazon prime free shipping prime members price quality kyser capo works uke highly recommended good ukulele capo',\n",
       " 'works great stays way cant ask much expect get price half locally capo',\n",
       " 'playing ukulele years new using capo seems hold tight new capo',\n",
       " 'says banjo mandolin ukulele first instrument listed box right size clamp four strings taking really easy perfect fit ukulel',\n",
       " 'costs much cheap capos worth every single penny strong clip yet not damage concert tenor ukulele necks budge clip low profile made metal last lifetime took one star one thing hand clip portion sometimes get way fretting sticks neck quite ways capos like onejim dunlop russell banjo uke capodoes not anything hit hand fretting sometimes try kyser opposite side away player seems still hit hand chords different ones said work around lifelong capo fantastic build keeps strings buzzing ukes one large hands not interference may even issue consider c ya happy strumming mahalo wow wow wow ukulele one caveat',\n",
       " 'strong capo strong bigger instruments works good ukes mandolins banjos not thick neck several capos one instrument good capo small instru',\n",
       " 'bought husbands mandolin loves works great swear kyser use guitars kyser capos great product no complaints price worth works great',\n",
       " 'works great baritone ukulele quality full size acoustic guitar capo easily fits ukulele case kyser ukulele capo',\n",
       " 'cute little capo works great ukulele mandolin course hard use get higher frets frets small works great',\n",
       " 'although capo marked correct mandolin works correctly fret mandolin lower fretboard capo not enough pressure work fret position mandolin even though mandolin fairly low action number kyser capos much like style least six kyser guitar capos use guitars taylor fender american strat without problems case banjo capo not work need perhaps capo sent defective although enough decades experience stringed instruments know not seem broken not task feedback others sent possible capo may work wish take chance know not time stage take seconds set fussy capo right make sure holding right hope not start buzz middle song went another brand talking bluegrass guys better luck another style mandolin capo not enough pressure mandolin',\n",
       " 'use capo time instruments friend mine saw asked order one also love kyser banl mandolin capo',\n",
       " 'several types capos one seems well built little bulky string banjo especially fingering near really not need change fast use little might use performance setting ways seems well built pract',\n",
       " 'good banjo capo inexpensive works well without squeezing strings tune end story capo',\n",
       " 'never go wrong buying kyser capo made last really designed great thing capo fits banjo mandolin not seperate capo also capo guitar made kyser tell works well never go wrong kyser not like idea us company cheaper capos not job either not press strings hard enough wear quickly get used much kyser last long long time kyser cadillac',\n",
       " 'using one kyser good one usually stays mandolin works well banjo never used one makes much easier change keys although usually use playing chords solo like play open strings makes breeze pop put back little practice able quickly without strings buzz one best mandolin banjo capo',\n",
       " 'nice bag price nicely padded ample zip compartment hold snark capo whatever handle shoulder strap plus reallly nice looking bag black little white trim front could not ask',\n",
       " 'best strap locks opinion good quality easy install remove secure look good guitars locks satisfied best straplock',\n",
       " 'particular favor dual design need arises possible use regular strap not button locks installed two black ones string ibanez laguna guitars spare straps guitars sometimes lock spares plastic dunlop discs older bass guitars similar dunlop locks standard version two locks installed mid one gold dd three held no issues not need tighten screws guitars two years ago not tour around world like metal stalwarts known metallica probably best strap lock system ever imho',\n",
       " 'bought dunlop trust brand dont even mind sorta big bulky problem scare piss not tighten washer nut situation ive normally seen strap locks pegs insert hard trust always hand gripped firmly guitar even adjusting amp clench guitar scared little metal balls things slip peg fall ruin guitar havnet single problem system yet never hope happens update good product far would not recommend much crap world worried strap locks shouldnt one things work fine far still scar',\n",
       " 'screws long thin bodied gibson sg classic not find shorter screws fall pin straplock work either heads large believe used gibson les paul custom years ago worked perfectly not newer sg though least new screws comes fender start appears take system well time tell not fit gibson sg fender strat seems good',\n",
       " 'yes willing swap strap locks originals work fine problem drilling new holes guitars explained size bit use wasnt big problem tried not drill guitars fit without drilling not good luck good price welll made work fine kinda protrud',\n",
       " 'best strap locks ive ever used dunlop always great products easy install highly recomend bass player work great',\n",
       " 'almost dropped bass floor couple days got bad boys put felt confident would not issue anymore easier strap quick release tab every bassist guitarist best friend life sav',\n",
       " 'tried model years ago never problem got installed went back schallers instruments thought mentioned others makes strap stick far instrument thought looked goofy also not particularly care push button release getting locking part end thick strap challenge c clamp not nut no allowance differing thickness also felt safer schallers hook onto end guitar strap button not depend spring loaded button keep parts together said no real problems look like would work great replacement strap locks buttons make sure screws secure button holes start jumping drum risers dropped airplane prefer scahl',\n",
       " 'actually follow instructions drill holes specified worked like charm glad got much less hassle tuning gig work great',\n",
       " 'strap locks easy install use right bat may drill deeper holes guitar order use follow instructions easily attach detach strap whenever feel like easy install us',\n",
       " 'tried different straplock options best not securely hold strap guitar also look pretty good highly recommend far best strap lock opt',\n",
       " 'great product use always thought top quality not much larger originals came guitar extra piece mind great easy installation without modification least mine connect hold solid make sure buttons way could mishap love em',\n",
       " 'work well instalition not hard took maybe four five minutes screws provided bit bigger bc rich avenge beast stock strap system read directions lube screws small amount bar soap wax used bar soap though installation becomes easier put strap not comming unless try hard undo system lol need clean guitar strap take locking pin use flat head screw drive pop retainer clip quick harmless way may take minute two undo strap locks not hard though reward worth nice lock',\n",
       " 'no complaints hardware easy install patience easy use click system securely holds strap prevents strap binding slipping post work like light switch not sure rate poor not really directions takes little mechanical knowledge little not rocket science make work quality metal secure function easily replaces posts instruments already equipped standard strap posts installed hoener full sized squire acoustic fender strat simple easy instal',\n",
       " 'receiving thedunlop dual design straplok systemalready installed gibson standard lbs liking decided try installing gibson studio electric lbs noproblem follow instructions exactly work perfectly no problem either installing nor using since installation money well spent makingsure stringed instrument not accidentally fall ground besides safety also like ableto swap straps guitars nice convenience inclined use samestrap guitars not sure work brand guitar seek online forum either search thatforum answer join ask questions got pricy piece wood wantto take care properly not care feel okay work well big seem theydo not get way used look almost place chose black mysecond set helps keep product profile bit product works asadvertised note june installed two sets still working expected rememberto check make sure hardware secure repeated use screws come loose therewill trouble happens not use glue case need swap straploks thefuture gibson good dunlop dual design straplok',\n",
       " 'easy install rock solid opinion look much better schaller locks grab set wont disappointed easy install job',\n",
       " 'product must makes strap install removal simple reliable strap clipped place secure owned numerous straplok systems various bass guitars owned would not ever instrument without installing system want security convenience guitar strap usag',\n",
       " 'two sets straps push button action convenient vs fighting stubborn leather openings especially new gold finish matches instrument hardware sturdy durable works great locking system',\n",
       " 'worth extra dollars little extra time install sure beats fixing cracked neck headstock guitar body guitar slips strap pins falls great height essential item',\n",
       " 'oh yeah love item sleek looking easy maintain would definitely buy next strap thank jim dunlop great buy',\n",
       " 'les paul years purchased rest guitars says keeps strap locked zero issues installation takes minutes stood countless hours play highly recommended sturdy easy instal',\n",
       " 'dunlop straploks amazing never fail always gave good piece mind knowing guitar safe hitting floor stage home stay secure done properly looked strap locks tried others dunlop ones seem work work well save ax',\n",
       " 'high quality look nice fender originals make sure take time installing correctly consider using quality wood glue adhesive installation want make sure removed later date without damaging guitar going get guitar',\n",
       " 'straplocks years not failed love never worry guitars getting damaged strap falling rotate full circles super durable buy guitars never worry also easy use install definitley buy',\n",
       " 'first time used dunlop straploks system always used competition work well guess make sure lube little ball bearings working perfect',\n",
       " 'great dunlop design work thing need ensure got engaged properly time attach strap onto guitar e make sure established solid connection go ahead gig rear end without worry design encorporates bearings allow strap freely move around rotate post exactly want schaller ones see major flaw family experience never run anything design going forward not work schaller design family guitarists bassist using shaller style locks every one us continual problems locks periodically unscrewing guitar body one back gig damage brand new anniversary american p bass not good son one come middle gig last weekend problem design ton friction top bottom pieces lock results tab screwed body unscrewing tried applying bar soap petro jelly spray based dry lubricant none prevented ultimate forces cause phenomenon tried make shallers work could not maybe active stage cannot tolerate equipment damage nor performance distruptions caused us vastly superior design function compared schaller styl',\n",
       " 'straplocks around long time use instrument regular strap well dual design sold easy install guitar little difficult getting lock mechanism installed strap still took ten minutes added security knowing dollar bass not going hit floor makes well worth small cost item dont know put get',\n",
       " 'never owned straplock system prior owning dunlops boy amazed every straplock system used past friends guitars semi permanently mounted strap guitar often extra ties manner things made impractical detach strap whim contrast locks mechanism make trivially easy pop strap great better still hardware fit almost perfectly existing screw holes making installation trivial new posts close size shape old ones think could slap strap onto guitar pinch using posts like oem ones great system would highly recommend anyone uses strap electric guitar fantastic way secure guitar',\n",
       " 'use basses job quite well easy install bass strap lik',\n",
       " 'came stock jackson kelly kexmg guitars schaller buttons one main strap use guitars figured since guitar came would try not twenty min later removing putting schaller buttons place major reasons not like bulky stick far guitar strap button back jabs stomach problems engaging would push receiver pop back not forced pushing button went stayed schallers click know ready cheap feel cheap thin metal used comparison schallers heavy solid feel bucks stick schaller using years never seen one fail not good schal',\n",
       " 'using straploks guitars past years not one fail ever sure tug put strap make sure right struggled c clip past going one time thing first install no biggie reli',\n",
       " 'disappointed quality engineering product work around main issue follows review flaws bother order significance quality weak soft metal screws using minimal force well aligned driver damage screw heads worked rounded much afraid would hard remove later causing run hardware store higher quality replacement engineering instructions recommend screws ones come straplocks designed phillips screwdriver however standard driver big fit strap buttons likely choose grinding screwdriver fit using increase impact first problem since wrong tool engineering point connection strap inch guitar strap button radius inch therefore lateral stress e weight guitar magnified due leverage pulling outward screw pound guitar would applying constant pounds force screw wood around half weight distributed evenly two strap buttons course get little active stage level force could go way higher realistically screws not total crap might star review deal fact normal screwdriver not fit get things properly installed would probably work people stuck set recommend go hardware store buy x oval head stainless steel replacement screws note not fit properly closest match modified cents local stores would cost dunlop maybe cents bulk paid crap screws come put screw electric drill pointy end screw head rotating smoothly operate drill run drill using file belt sander take fraction diameter screw head not need much used belt sander took seconds file cheap screwdriver fit strap button install new screws normal recommend friends try different brand disappointing quality engin',\n",
       " 'first thing noticed design far guitar surface strap actually connected tells considerable added stress screw wood surrounding added leverage guitar weight fulcrum surface wood makes sense not help wonder could eventually eventually much time use cause cracks splits result found someone selling dunlop strap buttons great idea someone main straps several guitars order found planet waves elliptical end pins think best idea yet keeping guitar strap unless going spinning guitar around shoulders no additional stress guitar body ordered set far good may found something much bett',\n",
       " 'sorry not like big stand much work effective pronounced many good alternatives strap gaskets strap locks undoing pin putting straight guitar strap work not aesthetic nor elegant also got gold set bass looks like wearing big purple platforms play not cool big',\n",
       " 'like straplocks little tight get levy strap manage get however found easier buy strap guitar work fine tight fit strap',\n",
       " 'quick snap sturdy not convenient not used case convenient easy use hence prized guitar not drop floor accident well worth money spent not let guitar fal',\n",
       " 'agree another reviewer included screws strip much easy purchased set strap locks years ago dont recall issue thinking dunlop changed screws point luckily able get screws muscle locks secure however due issue considering alternatives another guitar mine could use strap locks hope dunlop fixes issue soon screws strip easy good screw',\n",
       " 'dunlop dual design straplock system sturdy fairly easy assemble easy install alternative guitar straps slipping instruments screws used attach straplok guitar heavy gauge pretty large little chance going come locking mechanism seems like secure require little maintenance disadvantage dunlop system schaller system dunlop sticks measurably farther guitar body ordinarily seems like minor inconveniences instrument hofner violin bass though guitar strap button back instrument makes difficult hold body instrument body support schaller strap locks might look little elegant players dunlop straplok system sturdy provide long life service found better price several competitors recommended guitar body styles excellent strap lock system one small problem',\n",
       " 'installed two guitars love switch many different guitar straps without worrying fall great product would recommend guitar player great strap locks guitar',\n",
       " 'great guitars problem clip install strap not get done google install videos show use pliers push clip place installed good life use guitar',\n",
       " 'know great product set knock star part lost shipping renders product useless product comes clam shell package shipped heavier stuff impacted package let open two retaining clips slipped since main shipping box not fully taped one slipped completely box probably floor warehouse truck somewhere found rest small parts box larger parts still clam shell package without one retaining clip system useless product inexpensive bother return find retaining clip work one compare use said say straplok system great product know owned another set twenty years great product bad shipping amazon',\n",
       " 'little story back lock integrity installed korean made washburn incredible guitar tweaking guitar spin show guitar went flying strap lock still strap locked holder screw ripped horn guitar screw tore half inch solid wood epoxy screws strap lock broke amazing nice tough hardware complaint must use screws small heads choose not use stock screws provided easy install unscrew stock strap holder screw lock holder attach lock strap bam quick release system fast take guitar would suggest getting tough thick leather strap nice reinforced eye install quick release button cheap lightweight straps eventually start tear also button slight pain get certain straps switched dimarzio clip lock straps instead leather straps dunlop locks many reasons happy product grade always felt secure straplocks bass player uses expensive heavy fender basses loves strap locks great lock',\n",
       " 'using straplocks years never guitar bass break free either live studio simply work cost next nothing boot folks best insurance buy protecting precious instrument popping strap even serious gymnastics stage not going anywhere must buy great straplock',\n",
       " 'love dual design system works extremely well allows switch straps easily quickly one downside system strap used fairly far away guitar might not bad thing considering wear tear guitar strap one hiccup putting together first time one component thin big washer pretty hard install directions not much help either directions supposed go not know name piece nor could readily find installed new guitar strap ready go highly recommend much easily switch straps w possibility striping screws boring screw hole cracking wood process great straplok system',\n",
       " 'using fender straplocks last year fender f straplock chromethe problem use screws secure part strap screw slowly back get disaster decided try use dual system use lock strap use regular strap without locking mechanism using week far like much better fender think replace fender straplocks agree others fact screws lower quality screw heads strip not careful installing strap nuts screw half turn time applied lots pressure head not strip get installation got pretty good locking strap better fender strap lock',\n",
       " 'used dunlop straplocks years bought original style years ago strat les paul partscaster last two weight things lasted gigging anything else throw no problem ordered strap pins months ago put recent guitars one push button locks finally went strap used heavier guitars got mileage thing ordered whole set new ones last month put locks new strap buttons another guitar suggest brands watch touring bands use things lay flat no protruding parts catch happen without strap locks new pins used like regular pins larger strap pretty much secure price good price anywhere else include shipping always buy strings picks stuff get free shipping excellent guitar saving straplock',\n",
       " 'good quality great price easy install easy lock unlock fast delivery better going always overpriced guitar center good qu',\n",
       " 'always purchase grovers guitar straps gibson les paul standard plus bigger strap knob bought dunlop fit guitar perfectly good guitar big investment owe protect investment good strap locking system great strap protector',\n",
       " 'good guitars got favorite strap buy alot extra buttons got allparts seems really sturdy well made ok got alot axes fav strap',\n",
       " 'went long time convincing not need numerous times strap would come undone fortunately never performance solved problem still check not pull release guitar strap locks must',\n",
       " 'guys rock solid really easy install time get new instrument change stock buttons dunlops best straplocks avail',\n",
       " 'jazz bass guitar player another brand playing huge downtown street gig altanta throwing shirts crowd bending picking throwing guitar player different lock system les paul fell stage completely knocking tune mine stayed locked perfectly best straplock system',\n",
       " 'work great not worrying dropping instrument stage ive done sucked worth every penny strap lock',\n",
       " 'four guitars never malfunction easy installation use watch bridge interference screwing back lok might require slightly shorter screw basses always straplok',\n",
       " 'work well nice low profile easy push button true not good thick straps gold tone ones discolor easy minimal use good',\n",
       " 'really great guitar locks use guitars would highly recommend anyone absolute best',\n",
       " 'work like want new strap put right away worth perfect',\n",
       " 'purchased strap locks would recommend work good solid hold thanks great product',\n",
       " 'feel line work dunlop not love products guitars basses locks dunlop guitar strap lock',\n",
       " 'replaced schaller strap locks strat schaller ones ground connecting hardware point oil times month would end audible creak hands like dunlop ones installed minutes guitar feels secure no problems whatsoever ordered third set minutes ago total convert every new guitar get going get set put like better old schaller on',\n",
       " 'put pair every guitar lot extra strap clips around since many guitars straps great plenty tough find straplok would strap nice work fine normal strap pinch essential mod',\n",
       " 'manual says lube every often work like charm got unfortunate incident strap slipping strap button taking chip binding black ones work well finishes works straps long ends not ridiculously thick inside box came screw sizes one thing note however make strap protrude much farther guitar normal no biggie however straps adjustable adjust change strap position golden would hard pressed find fault',\n",
       " 'bass original equipment dunlops silver tone whereas hardware gold years looked kind dirty tarnished knew time new gold set could not happier look quality used brand instruments really prefer dunlops best straplocks available pric',\n",
       " 'years ago one friend dropped bass body broke half bass regualr strap button ever since use dunlop straplok system recently built bass install one easy install straight forward use holds jazz bass without problem would buy electic guitars rock solid straplok system',\n",
       " 'straplocks use guitars ones trust solid secure look great push button release makes pretty convenient without sacrificing security love em trusted many tim',\n",
       " 'second set strap locks owned little difficult attach strap thickness strap bit thicker side quick release secure connection great work',\n",
       " 'dunlop not best strap lock system pain switch way lock pointing people complain button easy unhook playing see merits screw locks ease switching locks work fine guitar',\n",
       " 'hate spending bucks couple little pieces hardware probably cost cents make better bucks local music shops want set overall work really well look sharp fit perfectly schecter hellraiser happy purchase good product fit schecter hellraiser perfect',\n",
       " 'dunlop strap locks work pretty well standard hole cut standard leather strap not big enough accomidate locking buttons strap modified increasing size holes intents purposes means not able use strap standard strap buttons ever work advertised easy take strap adjustment required works ruin strap everything els',\n",
       " 'play guitar keyboard sometimes need quickly put guitar back play keyboards would not without straplok essential guitars secur',\n",
       " 'first thing get new instrument put straplok gigging easy install not one fail yet straploks nine instruments right ordered another new bass not recommend highly enough one every guitar',\n",
       " 'used strap locks never found easy attach remove well made easy use secure best used far effici',\n",
       " 'not know common problem basses one arms attaches actual body instrument starting show sort blemishing like metal rusts literally one arms think random thing problem makes strap not spin free screw keeps getting loose one time first time not notice actually fell notice still like product one things think would still recommend almost perfect',\n",
       " 'like strap lock strong sturdy keeps things place one problem coating wear short time months never take might rust bit inside might make bit hmm not want say hard lock would better make sure actually locked every time fit tugging thing sure mine un clipped couple times not check climate humid rust friendly could contribute issues however clipped properly not issues great buy good stuff',\n",
       " 'strings half battle stringed instruments bad pair strings nice instrument sound awful good pair strings make cheaper instrument sound tremendously better either way stringes drastically effect sound instrument price point strings make cheap ukulele sound not cheap imagine would even wonders uke higher price point also play guitar martin one choice brands strings figured would not let decided play ukulele correct',\n",
       " 'bought ukulele give present knew strings come equipped new musical stringed instruments would poor quality purchased martin strings replacement used martin instruments many years fond make quality martin products easy choice excellent strings available choice time martin ukulele strings review',\n",
       " 'playing uke since became popular must confess quiver full addictive things ranging plywood beaters solid wood art object electric years tried several different brands string truth nothing wrong martin strings seem little bit compliant others allows tease bit articulation tone given string changing frequent occurrence multiple instruments fuel martin string set relatively low cost nice bonus best lot',\n",
       " 'great guitar companies not always make sell aegis best strings love teles not stand fender strings likewise love martin ukulele trying strings second time conclusion first aquila far better aquila organic feel fuller richer sound martins begin hold tune sooner aquila take couple days sound thinner feel not nearly friendly approximately dollar price difference not worth lesser satisfaction even least expensive ukes considering seldom one usually changes uke strings higher priced aquila still seem worth extra couple bucks use martin cheaper string working uke put stress repeatedly de tuning tuning switch aquila playing may like martins not love aquila aquila bett',\n",
       " 'great replacement string ukulele great hand case replace strings get uku great str',\n",
       " 'works nice materials think durable simple attach mic stand adjust needed improve recordings getting pops sssss sound without sound processing much anyway works great priced right',\n",
       " 'great easily setup time feel not perfectly stop p not know time keep distance issue great',\n",
       " 'not familiar pop filters actually work apart getting rid unnecessary peaks recording noticed improvement recording quality pop filter not know compares pop filters though one seems like works easy use work',\n",
       " 'difference pop filter makes use condenser mic lets get little gain input clamps easy holds good flex piece holding filter could little rigid job like way looks mounted mic stand extension improved vocal tracks one affordable improvement home studio nady pop filt',\n",
       " 'great quality construction job well complaint design little streamline bolt attitude bit heavy overall stays place job well workhorse sure job wel',\n",
       " 'not even hesitate buying thing everything need pop filter clamps anything not inch half thickness gets job done buy job prop',\n",
       " 'price perfect pop filter really good length clamp decent hope last awhile perfect',\n",
       " 'bought looking pop filters use pair condenser microphones help keep wind pops ruining recording position work fine problem getting position harder looks device clamps onto microphone stand adjust goose neck get filter need filter goose neck fairly heavy often struggle get filter wanted keep plus side device looks nice professional held three years use give better recordings pain',\n",
       " 'no complaints attaches firmly job ca not beat price order eyes closed great deal works fin',\n",
       " 'works pop filter huge upgrade make shift panty hose pop filter else say works pop filt',\n",
       " 'pop filter works great really eliminated many subtle flaws audio recording granted make make shift pop filter using hollow ring nylon adjustable clamp really well adjustable fits many unique mic placement situations plus although flexible also sturdy not worry vibration noises coming works great',\n",
       " 'filter works well looks professional problem clamp seems work specifically mic stand similar type structure works well looks pro',\n",
       " 'thing not seem stay mean change position pop filter varying shape metallic arm not stay put also material filter kinda poor quality think lucky might get job done mmm not pleas',\n",
       " 'works fine although mount bit weird see pop filter works perfectly not able hear clarity loss sound coloring pop filtering black pantyhose lol works like charm',\n",
       " 'purchased reading great reviews like comments lately thing not good looked almost used arrived gooseneck stand useless not come even close able hold weight filter would returned completely destroyed package getting open oddly staples holding closed something funky go',\n",
       " 'little guy help record apogee one voices amps prevent air flow shock diaphragm wanna excellent recordings get one us',\n",
       " 'wind screen way big bulky useless screen came thinking glueing back went ebay bought metal mesh pop filters cheaper much better avoid yuck',\n",
       " 'wow reviews thing little ridiculous eh people pay silver expect gold okay bought app review videos blog blue snowball mic picking awful pop sounds supposed filter hard p hard hard b others got pros works tested sony vegas pro without filter pop sound completely removed filter means designed not affect voice volume smooths rough edges speech looks nice attached blue snowball looks like professional product not really matter since work home not public place nice know show people looks clamp bendable arm everything work appropriately clamp designed hold onto bar not flat surface mounting say desk probably not stable attached round thing like stem not know people think not sturdy mean not going local rink playing hockey darn thing build quality quite excellent considering fragile screens attached plastic pretty big used shorten stem blue snowball stash cubby hole hutch desk easy storage not anymore pop filter become permanent member front desk outside thing doubling space snowball takes no complaints pop filter works well attaches nicely supposed looks nice quality good last pop filter buy long time good home us',\n",
       " 'filter good size easily comes apart changing fabric probably use panty hose gets torn works said job',\n",
       " 'ordered product use personal recording thought could possibly go wrong ordered new definitely shows signs not new first package stapled right stapled together way could tell product opened make matters worse hole one side fabric order something new expect new based product alone would not recommend buying seller untruthful sel',\n",
       " 'headline says exactly supposed removes annoying popping p recordings afford sennheiser condenser microphone built pop filter going need price right exactly suppos',\n",
       " 'keeps spit mic looks cool recording great keeping mouth mic dont breath fits great stands easy clamp work',\n",
       " 'yes make pop filter home not want else would reading besides not look good purchased three pop filters thus far last four months recent one purchased not one wish thought would try something different see differences well tell significant differences others featured bottom clamp one features rubber piece grips metal pole attach competitors tried not not rubber piece clamp tend slip pole not grip properly huge mistake makes using pop filter boom stand impossible fortunately nady placed rubber piece clamp never issue complaint screen actually popped plastic ring couple times single dot superglue fixed compared pop filters seen used one perfectly suited microphone reasonable price not beat yes pop filters must condenser microphones buy one save trouble average pop filt',\n",
       " 'supposed well made think look cheap unless get studio professional grade screen pops easily pop back works well home recording decent pop filt',\n",
       " 'peter piper picked pack purple peppers test passed no puh sound found recording pop b gon',\n",
       " 'decent pop filter gets job done flaws attracts good amount dust screen tends mess caused tear first screen goose neck tends unwrap self place also gets shakey tend screw back decent pop filter not price would better went something cheaper cough cough auphonix pop filter cough cough future gets job done matters right aha',\n",
       " 'not stay place well three star',\n",
       " 'read several reviews pop filters amazon surprised dissatisfied many finally went one pretty happy seems quite servicable double filter attaches stand well enough arm little weak butit stay put not bump guess balance stiffness ease possitioning think possitioning would little easier arm little stiffer blow directly not quite hard blowing cake full candles feel nothing side hear no wind rumble mic gonna keep use notill rots gets lost good unit job',\n",
       " 'though would warn not know audio not mean place mic right front pop filter magically de esse whole thing pop filter slightly center placement seems keep majority erroneous pops esses making appearance way say',\n",
       " 'works well keeps popping bare minimum easy install cleans flash lightweight works microphone filt',\n",
       " 'lot podcasts dubbing videos using filter pop occurs p b voice basically gone makes audio professional eliminate annoyances get microphon',\n",
       " 'record singing need prevent pop sound definitely worth also makes looks professional ne',\n",
       " 'pop filter rocks like lot well compared lots filters tried got nice look job wel',\n",
       " 'use home recordings voice recordings work like long neck double filter get tad bit extra tested single filter make difference expected makes sense additional layer filter effectively wasnt sure would effect tone highs didnt notice either effected great pop filter long neck',\n",
       " 'great investment home studio able eliminate majority pops coming condenser microphone bought long time ago nady pop filt',\n",
       " 'use audio technica work well filter stays place really improves quality recording not much else say great pop filt',\n",
       " 'works well wish bit heavier construction little better made works intended say pop filt',\n",
       " 'love pop filter every attactch not scratch mic stand pop filter clamps adjustable arm flexible yet sturdy assure proper pop filter placement awesom',\n",
       " 'price one best pop filters easily clamps onto stand not move around place however one problem easily lose grip arm holding filter mean pick mic arm swivel away granted caused dropping fine good price get filter works good pric',\n",
       " 'tested blue yeti usb microphone could tell difference pop filter right away good investment definitely improv',\n",
       " 'many required words type product not need much explanation mounts mic stand formable position need sturdy perfectly adjust',\n",
       " 'needed accessory vocal recording period gripe model straight bracket part needs stick dang far since bend arm position anyway necessary get one alreadi',\n",
       " 'well thought unit says drop pop really like way clamp connector rubberized protect finish mic stand rubberized allows adjust filter mic without loosen everything rubber inherent give flexible arm allows fine tune filters proximity singer allowing best sing really important part everything stays last left hell even cats not porcelain great pop filt',\n",
       " 'good solid construction hooks onto mic stand works advertised e removes pops vocal recordings solid construct',\n",
       " 'sturdy awesome pop filter adjustable length want great pop filter would recommend anyone awesom',\n",
       " 'filter arrived quickly use scarlett mic exactly pop filter good purchase pretty good filter pric',\n",
       " 'high quality cables construction wise audio quality use shorter cables run bits rack external amps units ie unplugging plugging lot find cables stand abuse average cable satisfied high quality c',\n",
       " 'good quality cable price works good expensive dlls cables not make noise excellent product',\n",
       " 'sometimes run longer cable snake big band thing otherwise use cable every show love use every gig',\n",
       " 'looks vintage works great great price good better monster cable lot less money vintage look c',\n",
       " 'second spectraflex cable love love flexibility options colors ends build quality price like use quality guitar cables good sound not need spend fortune run stage roadies ripped cable costs guitars great quality c',\n",
       " 'got short cord go amp waa works perfect spectraflex cables fine short',\n",
       " 'rugged ends flexible seem like cable hold well not tangle real plus tend move around lot connectors seem heavy duty time tell would assume cable last long time great c',\n",
       " 'suffering crackles lost signals rest decided heed numerous positive reviews spectraflex tweed cable purchase one amazon com new acoustic electric classical received gift end pin outlet bought spectraflex right angle connector although using cable weeks impressed connections guitars basses used sure no loss signal no crackles perhaps impressive fact turn right angle connector around never change signal finally confident play something consistently come amplifier way old school tweed look plus outstanding c',\n",
       " 'well say based customer reviews purchase seemed like no brainer however months light use used rig home toast cable barely holds signal constantly need jiggle thing work ask perhaps output jack cables work gee tar definitely cable anyway gave stars working sounded great roland bad',\n",
       " 'spectraflex makes great cables bought right angle red cable older ibanez guitar cable built extremely durable made usa comes lifetime warrantee gauge construction rugged nylon braiding makes low noise cable connectors secure feel quite substantial especially compared cheaper fender cable using required almost constant tightening though spectraflex cables not least expensive nor expensive great value definitely fan recommend cable without reservations great heavy duty braided c',\n",
       " 'purchased three three different colors make mini snake keyboard di typically used mogami need cakes road usually roll exact length worked well quiet no handling noise seem well built treat cables well not really test tough circumstances hopefully remain spot foreseeable future used nights week uses no problems recommend plus live fabric cables different colors great easily identifying road crew member might not know audio well nice pieces pleased c',\n",
       " 'keep cable pedal board pedaltrain mini soft case posted photo pedaltrain mini page right angle connector great exit last pedal board straight connector goes amp use mogami silent cable mogami platinum guitar straight straight quiet plug feet input guitar not justify paying lot money side goes amp not getting bumped around plugged unplugged etc cable works perfect purpose oh yeah matches tweed amp great cable matches blues jr',\n",
       " 'pretty strong cable wanted something plug top loaded amp jack would stand case sitting amp angle job seams strong seams like last good c',\n",
       " 'bought two run amp lone pedal effect use bass degree ends go pedal makes non intrusive smart looking setup pleased owned months no issues look good bought pair',\n",
       " 'professional musician love cables look great perform great feel lot tougher rubber covered cables using great retro look',\n",
       " 'become number one cable carvin bass gig couple times per week rock solid use something different need longer reach love tweed cover satisfied one great c',\n",
       " 'little amplifier weeks could not ask better practice amp amazing loud gets otherwise quiet room get drowned pretty quickly add competing sounds rugged portable fun play around effects fact runs batteries huge plus exactly advertis',\n",
       " 'might work well recording take output jack speaker acceptable quality not compared fender amp one watts small speaker watts opting convenience size got getting couple smaller amps headphone monitor plugs since better sound good effects like brit setting sound like rock star good product practice recording could get away microphone amplify gig around price could get fender amp product works quality pretty good mini amps similar accessories toys compared nice portable amplifier practic',\n",
       " 'several types practice amps high end modlers line g dec vox vt still run typically overloaded features low end tubes fender blues junior bug peavey valveking etc typically stripped features not neccessarily quality micros always thought notch toys sort amps found prepackaged guitar set wally world christmas boy wrong needed portable amp son take practice school important could schlepp gear not big kid even amps pushing plus gig bag school back pack initially brought micro not sound features smallest possible amp little virtuoso turns amazing amp tone destroys line features crush vox pathfinder bug fender frontman not even ballpark models distinct cleans sparkly trebly high gain models articulate obviously not loud amp not bad get everything amp offer reasonable volumes also battery powered life suprisingly long includes regular wall plug headphone jack built tuning fork kind lame series onboard effects run simultaneously example able crank delay tremelo pull dick dale surpher licks suprising accuracy not let size fool honestly thought nothing toy could not wrong several big websites tough find negatives amp quality sounding durable great price oh red find looks pretty sweet price easy star',\n",
       " 'great little amp take ampeg jet maintenance love little practice amp enjoy using fender strat rickenbacker little gi',\n",
       " 'fun little practice amp agree praise gets positives covered point minor things not like first power button back annoying rest controls top grope around back find important button plus keep cabinet pull turn next wish would name settings clean overdrive distortion jc clean black panel brit combo r fier mean nothing another minor annoyance input recessed degree angle plug not fit unless run around back lastly amp solid rugged means heavy not heavy like not pick heavy something called micro amp none deal breakers things find annoying overall say prefer vox mini nice little amp annoy',\n",
       " 'bought amp replace squier came guitar squier no effects clean channel overdrive button could not afford bunch pedals wanted effects could get cool sounds electric guitar saw reviews little amp amazon decided give try awesome small amp output plenty loud practicing home runs batteries take anywhere effects better would hoped certainly not pro performs onstage drummer intermediate level guitarist like plays pleasure please family amp get several modeling functions choose chorus flanger phaser tremelo still adding either reverb delay one growing number retirees decided pick guitar learn time not need deafening stacks kids like love amp awesome effects great sound',\n",
       " 'pupppy pretty powerful running batteries used couple gigs worked well volume half way not guitar players not using guitars using player backup sound not quite clear get roland stars micro cube lot easier transport set nice not load cart roll around guitar folk like unit fx features plenty pow',\n",
       " 'microcube came new ac adaptor supports take along use europe asia usa saved buying another ac adapter supports customer new ac adaptor support',\n",
       " 'good solid piece equipment sounds good looks absolutely beautiful description listed slight wear marks back really look hard find one came well packed brand new guitar looks like one quality beauti',\n",
       " 'tone control not work returned pretty nice even though felt fret board quality higher gibson les paul expect order would pay get sg quality pickups sound let say average good beginner guitar guitar upgraded new pickups bolt neck not bother sg not another reason would step next time shape ok purely subjective like solid les paul shape little better since conservative size good almost comfortable les paul style ca not believe make good guitar like bucks also even though tempted faded finish glossy finish really nice guitar make player proud nice finished guitar',\n",
       " 'money not find better deal currently overseas not want bring good guitar along great playing guitar money comes packaged extremely well high quality around price best deal going pric',\n",
       " 'bought guitar center wish not reason said would rather saved taxes oh well guitar second three epiphone guitars someone not professional musician still want sound like one sound sg true big brother gibson awesome crunch great sustainability take leave kill pot electronics mainly switch could use replacing not complaining noticed extra noise switching pickups not expect top line sum love guitar keep e flat tuning stays guitar sound crunch deserves drop tuning little amazing sound',\n",
       " 'love thing action perfect great sound good feel easy play highly recomend love guitar',\n",
       " 'days search amazon always got want reasonable prices no exception not musican wanted case carry epiphone les paul custom pro guitar guy setup etc better expected sturdy outside nice fusion inside tight not tight fit words great around know sits self many guitars take guitar guys perfectly confident well protected lockable key looking good case epi lp get one not disappointed also ordered tuesday came next day no special shipping maybe locations great well packed cas',\n",
       " 'love case nice simple really look exactly picture highly recommend everyone looking case awesom',\n",
       " 'bought along guitar present daughter guitar fits case perfectly well protected purchased along epiphone les paul guitar',\n",
       " 'ordered epi lp special obviously fits like glove beautiful interior comfortable padded handle solid hinges even comes hinge lock center hinge great affordable guitar cas',\n",
       " 'basically case sharp looking made good quality materials inside one received grey fur case would probably take beating time not skb case nice enough would not check airport survived trip moving van philly boston would definitely recommended need case les paul fits snugly safely good quality case fits epi goldtop reissu',\n",
       " 'case built really well really nice plush interior storage area picks strings tuning fork etc neck lock one latches case actually kind stuck first days got much thought locked key inside first got turns thats actually impossible case unless extra key dont worry dont idiot like give good tug get fits epi lp perfectly hehe fits well dur',\n",
       " 'tight fitting case proud owner aepiphone les paul custom proand fits snug ordered case assumed would made guitar arrived double boxed wrapped plastic sure received new case perfectly protected not mark far construction not flight case means looks though hold least abuse still job protect guitar guitar not move case due perfect fit said time possibility wear would predict buckles may first fail handle not look durable could see overall case epiphone les paul saw gibson case not see superior enough justify paying satisfied purchase think people would five stars edit future necessary tight fit',\n",
       " 'nice case price solid construction perfect fit protection epiphone lp would definately recommend lov',\n",
       " 'hello bought epiphone goth studio guitar also bought beauty satisfied quality case makes guitar looks nice nice protected expect cas',\n",
       " 'case best ever plush inside hard construction outside strong handle extreamly soft touch guess cases not measure one even locks guitar fits quality best home new guitar',\n",
       " 'case hard outside soft inside pocket inside nice holding accessories include lock middle latch somehow mine eventually stopped working lock not good quality lock cylinder fell inside lock no longer used otherwise great case highly recommended nice cas',\n",
       " 'use epiphone zakk wylde custom les paul fits perfectly case one best cases seen carpet awesome also pocket middle holds neck fit strap even pedal durable case seems like younger brother expensive gibson case awesome cas',\n",
       " 'affordable guitar case fits guitar perfectly really say need sturdy guitar case les paul styled guitar not want spend butt load money look no work',\n",
       " 'bought bigger version riviera case plush protective best deal going brand new case wish brands perfect case les paul speci',\n",
       " 'guitar repair work one customers needed lp case bought lot stuff az looked one shipped says great review prices always great az prime saves money stars tops anywhere epiphone cas',\n",
       " 'could not believe quality case fits epiphone les paul like glove plush interior plenty storage durable wow',\n",
       " 'not much brand names guitar cases figure tells would thieves getting sprayed little matte black paint epiphone logo case quite sturdy inside plush fits line jtv variax cozy way great case small cash great budget case les paul style guitar',\n",
       " 'ordered one gig bags new les paul hard shell cases back ordered not want guitar sitting attracting dings dust fits lp studio perfectly room small items outer zippered pocket job nice outer cov',\n",
       " 'looking something protect guitar afford good hard case price better padding expected equipped carrying handles shoulder strap metal buckles snaps good deal price nic',\n",
       " 'title states lightly padded duffle bag nothing toating practice instructor okay purchased reason adult careful bag useless kids drop would likely result damage would even go far call glorified dust rag prevent guitar scuffs dings dent dirt better gig bags comprable price reason gave two stars becuase dirt cheap price bare minimum',\n",
       " 'houses guitar couple humidipaks live northern desert not many frills bag job job',\n",
       " 'bag light two back pack straps pocket accessories excellent quality material good quality zipper need something lightweight protect instrument great gigbag',\n",
       " 'bag fits epiphone les paul ii electric guitar well no room spare outside pocket small sheet music works small things like tuner short cable prefer bigger pocket aside not complain gig bag looks really sharp two shoulder straps convenient carrying fits epiphone les paul ii',\n",
       " 'good quality bag epi lp fit like glove fact wish little larger hold accessories fit epiphone fin',\n",
       " 'gigbag tight fit epiphone les paul minimal padding little dust cover tossed aside bought fender gigbag fender heavily padded gives serious protection provides protect',\n",
       " 'great bargain basic bag fits les paul standard snugly back straps easy carrying also easily removed bother epiphone gigbag also zippered pocket accessories holds strap patch cord not much else features nice looking graphics l',\n",
       " 'rugged robust flexible could not ask momentary switch like boss products probably last longer best momentary switch market',\n",
       " 'got use boss tap tempo job well little big definitely worth delay pedal suppos',\n",
       " 'got boss loop station not work well keep hoping find something work well got boss loop st',\n",
       " 'no problem great quality looking forward purchasing brand thak much good',\n",
       " 'using footswitch control drum machine job no problems work',\n",
       " 'could not beat price pedal suppose dynamic wah guitar pedal well build use boss roland gear also not big not hog lot space pedal board happy item bought work boss dynamic wah harmonizer mod',\n",
       " 'nuff said works great latest purchace used trigger drum machineused coda kick pedaltrigger boss sound moduleplay timealso use one vocalist eff mute chan change like option nc no saved gig tonight one midi controllers lost mind needed no instead normal nc bunch',\n",
       " 'summary not want read whole thing worth money beginner looking first guitar experienced searching backup travel option anything like get not hesitate cheap guitar not always mean pos alright full story review kid early teens insanely talented self taught older brother helped learn play guitar got pretty decent somewhere along way stopped regretted basically every day ever since recently decided stop internally griping realized actually something previously lived house multiple guitarists heard sounds expensive guitars heard sounds cheapest guitars like typical beginner first act knew middle ground determined find got way bargained began quest knowing funds limited no way could afford dive right buy high end top line fender martin like benefit learning back day knew go cheap least began scouring internet search best rated budget guitars exhaustive amount research chose one due positive reviews demos would pulled youtube excellent plus epiphone pretty good reputation general despite positive reviews still bit leery buying instruments without actually handling first always bit gamble even sounds nice plays well sometimes perfectly solid functional instrument not feel right went checkout silently reminded could send back reason went fully knowing good possibility would bite bullet buy something better even costlier well arrived earlier week not disappointed certainly not expect perfection convinced would find kind error cosmetic cheap guitar tell not found anything wrong even unless drastically affected sound playability instrument would still worth price along guitar bought new strings martins times stock strings come instruments awful pleasantly surprised find stock strings usable see reviewers disagree maybe strings older maybe preference not know say stock strings guitar not corroded old shockingly enough guitar pretty close tune right box not seem trouble staying tune either said would not hurt pick pack strings safe mean sure finally put martins even mind blown already way sounds guitar full rich sound plays comfortably low action helps zero issues buzzing dead frets oh contrary reviews said yes truss rod talking positives let not ignore fact also super attractive shiny black finish not much would give away price no not guitar certainly not play like guitar either not regret purchase even future progress upgrade definitely keeping lovely gem still unsure listen demos youtube doubt disappointed pay no mind reviews guy gearwire youtube channel clearly not know talking well everyone else comments section sure express feelings haha one user even claimed epiphone sue check video reviews users companies samashmusic giggear shadowfw complaint guitar not buy sooner good luck search hope review helped suffic',\n",
       " 'first let start saying bought guitar board deployment wanted something brush return home not expect good quality sound comfortably guitar want something cheap could toss around use desert without worrying getting beaten trashed unboxed guitar floored hardware much higher quality expected far strings came not complete crap swapped favorite set strings ernie ball ernesto palla nylon black silver classical strings guitar sings beautifully tone rich vibrant quite comfortable play no problems playing fret without guitar cut away not big fan pick guard epiphone e probably end removing sunburst really nice looking received many compliments look already guitar really great instrument price tag get also buying hard case take home shipping guitar back home want keep part collection original thought buy guitar leave rec tent people use gone even decide leave buying another one get home absolutly amazing guitar',\n",
       " 'not first guitar nor breathless epiphone supporter shouting guitar sonic equal taylors martins not exceedingly well constucted amazingly playable guitar fit finish feel action nice sound hand let face plywood around sounds like plywood not distract fact great guitar bucks fine first guitar great beach camping cabin guitar leave car practice lunch leave office guitar better no guitar guitar better lot entry level guitars seriously consider changing strings second take box new premium strings make difference expectations playable rugged affordable guitar not disappointed sound quality primary concern well going spend hundred bucks happy desired application guitar great happy would buy heartbeat review differ',\n",
       " 'son first guitar learning well still great condition good quality guitar great guitar',\n",
       " 'thing plays great action low not buzz easy chord highly recomend guitar wow',\n",
       " 'well constructed quality woods saddle nut bracing neck frets straight level not snag guitar rings like bell stays tune light weight not let low price fool not expect guitar come set tastes guitar buy need adjusted style play strings may high light whatever ready tiny bit work get like want serve well not buy luna davidson main street no name get one best bang money',\n",
       " 'normally use nylon picks songs flatpicking intros nylons flappy picks keep nice bright tone little friction strings low string noise enough grip stay put hands well good pick',\n",
       " 'buying dunlop pick least years love feel grip picks last really long time would recommend getting several thickness different applications sitting room playing around acoustics electric guitars decent round pick great picks work great acoustic electric guitar',\n",
       " 'tried ended going back tortex like satin finish tortex better way bends ultex little brighter attack though wears less quickly ultex sounds like fender celluloid stiffer brighter tortex',\n",
       " 'sounds great different gauges like gripping surface favorite gauge rounded tip super fast great pick',\n",
       " 'guitar picks make huge part tone especially acoustic best acoustic picks market today opinion long life brighten tone freshening picks easy rubbing carpet carpet scrap bring back original shape best picks market',\n",
       " 'nice like rigidity fine wear acoustics though aggressive player worn picks sound considerably different much grainy tin may plus also like side edges real mellow speeding picking style stay fingers well pick',\n",
       " 'grip excellent prefer sharps sturdy look like not needing another set quite time material jazz iii yellow',\n",
       " 'different tastes guitar picks know wrote elsewhere dunlop tortex awful acoustic opinion ultex much better not noisy better feel still not favorites spares not bad pick',\n",
       " 'bought wrong gauge read review said get size less really want wrong bought gauge guitar center love made dave mustain muted crunch sound not know use forever right love hard enough speed picking light enough stay hand without moving around like mils dunlop ultex sound awesome far still look like new buy em good pick',\n",
       " 'love pick attack used almost everything years playing settled pick go choice acoustic guitar best picks phosphor bronze long life str',\n",
       " 'not think would compelled review something like guitar pick dunlop ultex really impressed thus far use thickness equivalent orange plastic dunlop pick orange pick favorite acoustic electric playing wear fray edges little friction would like ultex seems resistant wear surprisingly little drag string find matte finish easy grip hold gives enough use smooth strumming rigid enough individual notes reviewers noted crack use turns problem might reconsider review box perform well pick used new pick choice replacing dunlop orang',\n",
       " 'grabbed impulse needed new ones normally used old fender medium heavy picks gotta say great stiff flexible enough maneuver plus glide nicely not sure could said prove feel great pickin',\n",
       " 'used tortex picks really happy pick however takes next level strong great bite relatively thin pick use acoustic holds true great product great pick',\n",
       " 'polish recommended one dan erlewine books works great really makes natural high gloss finish acoustic guitars pop effect not noticeable darker finishes though really helps back neck makes slippery fast highly recommended works great acoust',\n",
       " 'got clean washburn acoustic guitar worked great used clean fingerprints grime would buff circular motion soft lint free rag would act like polish finish sparkled afterwards even light great product great cleaning acoust',\n",
       " 'ive using polish since early not smell way works fantastic guitars wonderful polish not hurt guitars hurt guitars dropping sweating polish no way martin knows use expensive nitrocellulose finishes best polish period',\n",
       " 'used enough using gibson polish although worked fine could not force use martin veterans model guitar great polish',\n",
       " 'product excellent cleaning thorough leaves no residue made little martin look almost good new great product',\n",
       " 'one everyone told use new guitar figured one polish car work well incorrect part delicate woods preserves far better ordinary polishes guitar polish',\n",
       " 'bought son clean guitar really likes lot works well use microfiber cloth would buy product works great',\n",
       " 'put fender dreadnaught wish held next step quality mic well love death pertinently installed love sound versatility built volume knob great tough could go reviews tube better job love death',\n",
       " 'like fact partially installed cord coming sound hole easily installed permanent basis cutting cord length running inside guitar body end pin hole enlarged bit either way plugged sounds great pickup maintains great acoustic sound guitar blueridge installed fishman saddle pickups martin guitars pickup sounds good not better not mind pickup visible sound hole way go another nice thing ease changing batteries compared undersaddle type pickups batteries attached inside body guitar excellent product',\n",
       " 'not bad product not great soon received installed custom made grit laskin guitar played two hours installation fast took couple minutes problems fold sounds bit tinny much high end not equal amount bass small complaint dismantle entire installation change batteries could not get mine work passive mode biggest complaint volume control difficult get performing stage stick finger hole top side strings fumble around trying change volume sensitive sudden loud soft like said not bad product not top notch definitely not professionals fooling around home recording home fine job pro want spend double money get l r baggs gives truest sound unbelievable works passive mode easy change volume control sincerely doc not bad',\n",
       " 'great pickup combined fishman aura spectrum excellent experience even pick quality amp make happy best go',\n",
       " 'looking sound hole pickup came one best found expected use practice recording really like price wish bit otherwise perfect martin big bottom end no matter always sounds fine pickup installed four months good good',\n",
       " 'say probably well known pads available probably best best price could find amazon arrived described via prompt shipping great price best pad',\n",
       " 'ok installed things krk no stands sitting two speakers say bass previously disappeared studio present monitors sounded kinda thin losing much energy desk things made ton difference stereo image even feels wider sure little pricy hey work want charge people continue buy cool happy reults got auralex',\n",
       " 'really work great no desk vibrations sound monitors clear wish could found smaller size since way bigger monitors anyone knows get smaller ones let know thanks works great',\n",
       " 'using angle speakers addition isolating desk surface unfortunately angle speakers default cutting rearranging worked need cut fit speakers try find something better scissors quite hard cut foam evenly work',\n",
       " 'mopads pretty amazing recently purchased atlantic gaming desk feeling would need pads pads must amateur recording studio setup little no acoustic treatment sitting monitors speakers pads produce even better quality sound experience also get rid unwanted bass vibrations desk love use extra pads angle way want set pads make bookshelf speakers sound amazing like using actual studio monitors not go wrong pads studio must buy mopads protect audio bleed',\n",
       " 'laser cut pads studio monitors feel vibration hard drive spinning desktop sounds coming speakers look professional foam pad',\n",
       " 'needed home studio monitors sit table next computer daw system surprised many different versions sent work well thanks heaps job',\n",
       " 'reviewer wrote cheap foam worth not understand appreciate quality speaker isolators b cheap foam realize good auralex isolators work using pair behringer truth active speakers weigh pounds isolators not support well solved big problem seems speakers audio coupling console placed making console vibrate spaekers muddy lower fequencies problem started noticed mixes sounded good systems except bass frequencies around hz apparently behringer speakers not accurately reproducing fequency range eqing range badly compensate not hear mixed hafler speakers give behringer truth speakers really thought sounded excellent every frequency detailed every range behringers also power needed active speakers played really loud studio without distortion except describe muddy not clearly detailed low end love speakers fortunately friends studio great pro studio saw using auralex isolators speakers said loved bought placed speakers remixed project working wow difference immediate difference bass nicely detailed muddy tone no longer reajust eq lower frequencies cut back almost flat new mix immediately bought set small hafler speakers take chance also not reproducing accurately isolators great product problem solver saved buying new speakers discovering still problem cheap foam not think excellent product',\n",
       " 'argue not necessary monitors however somebody worked music half life assure whereas not life death make significant improvement listening process especially project studio no not going make music sound better give detailed accurate bass response monitoring even cooler fact pads come extra pieces padding essentially let customize position monitors angle ever slightly lastly although monitors fit perfectly pads not help think monitors larger would need second pair especially positioned horizontally overpriced not really make world difference absolute necessity monitor',\n",
       " 'strings bright full sound great couple weeks get bit dead not problems breakage loss tone time seems faster strings tried sound great not last long',\n",
       " 'guitarist opportunity work guitar center back trying type string market fairly inexpensive easy task chose addario exl electric martin sp top choice acoustic sound reliability unmatched money also neat bronze shimmer granted aesthetic top choice acoust',\n",
       " 'ive trying different strings years ive stuck elixirs time wanted change bright clean playable great str',\n",
       " 'tried different brands weights strings search ones would give guitar clear bright yet robust sound found martin msp sp strings knew found strings short time playing light fingers sound great priced right martin acoust',\n",
       " 'martin makes variety good sounding strings toward light end sound bright lacks fullness found heavier strings asmartin sp phosphor bronze acoustic guitar strings light medium custom light easier play bright tone make guitar sound like cheaper model compared light medium disadvantages thinner strings limit dynamics strum harder stretchy tuning less consistent changing tone reason bend would play fairly consistent sound level expect bright sound resonant one hand compared brands dampened sound brightness make instrument sound quite good depending style might good choice used playing solid body electric lighter feel strings make medium strings uncomfortable might seem home used martin medium strings want something play extra hours day without feeling overdoing things might like pick guitar martin medium strings may find even cheaper guitar sounds better comparison upscale one would not say dislike would not quite say gave five stars oversold may deserve five stars particular needs around choice better sounding ones martin moot point not feel comfortable playing make sure read variety reviews deciding equally valid viewpoints player unique lightweight contend',\n",
       " 'bought put really old martin acoustic guitar still sounds amazing strings certainly fit budget provide great sound excellent str',\n",
       " 'one best strings used blues guitarist take beating well much worth cost thank amazon great',\n",
       " 'good strings good price purchased strings several times sound good last long time excellant bargain',\n",
       " 'strings retain good feeling long time well past point needing changed lost brightness strings retain good feeling long tim',\n",
       " 'seemed work well guitar stringing son thought great knows quite bit recommend not profession',\n",
       " 'bought ago got around using last week not ever remember non wound strings bronze looks weird sound much better ancient strings sound good',\n",
       " 'brand name good string good tone seem last awhile change strings often never really know long set last good strings money',\n",
       " 'used use elixir nano string good sound not last great sounding strings excel',\n",
       " 'used strings acoustics even gave band mate seem keep tone long time not change instrument tone like strings tried like lot folks not picky strings good light string sound great acoustic strings live martin reput',\n",
       " 'strings great sounding great looking fretboard bronze one issue strings big route tuning head still wound nicely would actually say might want get extra light gauge probably tuning machines kind suck buy really good',\n",
       " 'best acoustic money buy opinion play extremely well last long time nothing better strings two words best',\n",
       " 'taylor mint condition always use martin acoustic bought taylor months ago found medium martin strings best particular guitar every acoustic different though best',\n",
       " 'fast shipping great price great stings satisfied would buy strings would recommend friend great sr',\n",
       " 'long story short string set strong metallic character distorts natural sound guitar much many people might like absolutely noooooooo seagull guitar nature sounds mellow warm mild stock strings strings wear got feel like playing emg bridge fender archtop neck position without power emg pickup offer yes bad not guitars like seagulls bottom line recommend string set people looking boost distortion guitar guitars like seagulls definitely avoid string feel like playing active emg fender guitar',\n",
       " 'not sure buy prob looking light strings littl ehard play good hard play',\n",
       " 'purchased sons guitar loves plan buying another set christmas perfect',\n",
       " 'really like mediums able play biggest variety styles without heavy not durable enough expect',\n",
       " 'martin sp phosphor bronze acoustic guitar strings medium good strings strings like elixer except much much less expensive martin sp phosphor bronze acoustic guitar strings medium',\n",
       " 'nice clean crisp sound inexpensive price durable history made strings apart acoustic set got least spares home right xd favorit',\n",
       " 'not connoisseur nothing great strings pretty good sound seem die quickly good enough',\n",
       " 'used strings quite fantactic tonal quality longevity looking good string last fair amount time dead string syndrome hits would recommend love em',\n",
       " 'sent blue mistake turns prefer size testing fast shipping play bass rock metal great bass',\n",
       " 'nice sturdy picks sound real clean better luck heavier acoustic strings still get used harder picks electrics nice pick',\n",
       " 'used swear hard stiff picks les paul custom recently bought strat issue mucch fun fast rhythms wah phase phaser pedals fave med pick strat',\n",
       " 'perfect pick looking tried experimenting several types picks finally found right one dunlop tortex',\n",
       " 'arrived time packaged well happy purchase regular picks order needed happy purchase hope enjoy em good pick',\n",
       " 'tried picks textured mallow color bright green like bright color easy found seems right strumming acoustic guitar like bright color',\n",
       " 'work well dunlop pick not crack big plus use general fender variety go little thicker would regular plastic picks get flimsy take note price picks shipping cost might cheaper go nearest music store review pick',\n",
       " 'used everything think way picks tortex one favorites least various thickness claytons need claytons great times want different thichness tortex claytons find perfect pick anything want play last forever great grip gotta try tortex picks simply great',\n",
       " 'bought mm picks would consider medium thickness like lighter get smaller thickness like heavy go larger thickness mm right really like great pick',\n",
       " 'love picks used years feel firm yet still flex needed last forever highly recommend tortex pick',\n",
       " 'always used planet waves nails wanted try dunlop buying little package good experience durable comfortable texture makes easy use not allow slip easily great price good textur',\n",
       " 'know pick choosing personal matter choose specific model thickness flexibility perfect cool',\n",
       " 'use dunlop orange thickness perfect hit strings hard picks heavy enough get job done yet not break many strings right rocking hard not breaking str',\n",
       " 'using tortex picks years not buy others feel great not fall hands decent life span plus turtle logo sweet pick litt',\n",
       " 'great picks beginners pros alike go thinner picks like versatility playing good round',\n",
       " 'think tortex delrin picks standard others judged durable good gripping surface easy identify thicknesses color way think improve would replace black ink logo script sort raised embossing fingers not smudge grip would even better take look cactus picks get idea mean great picks tortex delrin way go',\n",
       " 'huge fan dunlop picks long time started playing years ago used slim floppy picks long time time went guitar skills grew needed pick sturdy would not flex play intricate detailed songs tortex purples favorite thickest ones find like soft sandy feel not slip hand easily thick take long time wear favorite pick',\n",
       " 'like picks lot super strong look like take lot use good shape recommended great',\n",
       " 'yes tortex picks blue quite surprised number reviewers complained not getting multi color pack anyone ever guitar shop tortex picks color coded anyway playing guitar years using blue tortex picks first messed around different picks could get hands teardrops small fender brand slippery guitar center brand wore quickly jim dunlop nylon picks felt weird tortex give right sound attack not feel flimsy fingers keep tight grip grip far superior market gator grips feel porous durability wise lose pick even comes close wearing blue tortex picsk go',\n",
       " 'whatever size looking dunlop best option lasts long sounds great feels nice probably favored pick among companies recommend orange one beginners general would not go much higher green ones gets heavy not feel comfortable anymore not sound well totally want either way dunlop best great price favorite pick',\n",
       " 'always used dunlop picks tried ones like fender dunlop picks well feel right never like thicker picks picks weird grips feel right playing give try not wind cool little turtle tortex sticker instead great pick',\n",
       " 'playing guitar years tortex picks nearly worst v ever used noisy overpower guitar strings clackity clack noise dunlop ultex picks sound much better not worst clos',\n",
       " 'thankfully still picks always losing work super well always buy brand great pick',\n",
       " 'looking something able bend bit not fall shape stay bent much use great good tension still sound nice acoustic grip great almost like microscopic layer felt sucks hands cold pick keeps slipping fingers not want keep licking fingers breather warm air easy hold onto no matter condition sturdy easy grip',\n",
       " 'using picks years always great blues yellow covered pick',\n",
       " 'love picks flex right last forever never one break favorite pick',\n",
       " 'not know type pick like buy sample pack picks make big difference sound playability thin flexible easier use beginners easier strumming general however tone different need decide songs work etc far quality great easy grip durable good pick',\n",
       " 'good picks great feel brings sound loudly mostly electrics prefer lighter sound acoustic work well friends electric fender good picks mostly electr',\n",
       " 'used use lot thinner pick reading article paul gilbert saying order play fast need minimum things great yes shred faster perfect',\n",
       " 'thought pick pick like long ago would probably come realize would mistake assume position playing playing strength increases attack complexity use dunlop tortex purples early playing using thin medium picks read guitar magazine along hearing several friends heavy pick better messing found player able fully control pick not let pick interfere input attack interference thin medium pick give slackens attacking hard heavy gauge pick lack rigidity slack introduced player not picks flexibility tried liked using heavy gauge picks since mid like dunlops feel grip durability hold long time long last years incredible bargain given long lasting durability students use not demand stress control aspects picks different gauges highly recommended not disappointed qu',\n",
       " 'finally decided getting picks not like thin thick perfect gauge looking hoping logo wear uses not much using daily basis practice far not wearing fast recommended great pick',\n",
       " 'think great price give john mayer uses picks hes one favorite guitarist sticking always using pick',\n",
       " 'used picks years great results never used stile picks not sorry need good picks tri',\n",
       " 'fit boredom curiosity decided would check picks spending much money various brands picks including every model dava picks came back home dunlop tortex green stil play great sound great steel strings last long time still best',\n",
       " 'pluck guitar bass strings decently want one set cover applications good choice nice serviceable guitar bass',\n",
       " 'like grip good thickness right wish tip sharper good simply good',\n",
       " 'tortex great really like picks may better fit bill prefer yellow ones little thinner excel',\n",
       " 'thickness pick use matter personal preference style dunlop tortex perfect surface matte not slick not think ever worn one unusable seem last forever lost tried brands picks made materials always come back probably buried one hand favorite year',\n",
       " 'ordered one pack got entire box either way picks great although would suggest jazz picks jackpot',\n",
       " 'always keep lot hand picks use playing acoustic guitars strumming style vocals since play several hours nearly every day tendency go lot picks definitely last longer brands similar weight used example round end musician gear pick fender pick hour playing seem get much mileage picks weight great style playing seem durable brands inexpensive since play lot hours always keep lots hand love em use daily rely picks use playing acoustic strumming style play',\n",
       " 'love tortex picks red one years old still going strong yes turtle writing eventually get rubbed never leave black residue pick strings use red yellow orange tortex exclusively practice performance church worship leader highest recommendation fantastic picks last forev',\n",
       " 'love picks playing acoustic give nice crisp tone perfect amount flex playing acoustic prefer slightly thicker pick playing electric probably still like tortex picks well picks inexpensive enough keep endless supply using year',\n",
       " 'guitar picks best simply put easy grip onto even hands sweaty rocking day highly recommended never use guitar pick dunlop tortex use green picks also orange ones recommend buy green picks orange picks great beginners pros simple best',\n",
       " 'enjoyed set much due variety picks interesting try different models dunlop picks great dunlop picks great',\n",
       " 'kid learned play trombone proficiently heart not really took guitar love played several years stopped playing lack time recently started playing looking perfect pick classic rock old ibanez les paul custom tried several picks quest several liked several not thus far favorite tortex blue picks nice almost powdery matte feel minimizes slippage not break though fairly stiff depending playing various thicknesses available people find something suitable personal preferences not say never try anything else thus far find picking tortex picks durable not slip not lov',\n",
       " 'not seem drop compared picks used past seemed slip good',\n",
       " 'absolutely love feel guitar picks grippy not broken single one yet stand junk studio hard loose still like child nephew niece sibling parent plays guitar bass not go wrong getting guitarist playing cheap little fender picks break strum chord lucky enough not break slip hands playing little thin rhythm playing however recommend mm picks guitar picks great guitarist family get pack thank',\n",
       " 'favorite picks ca not go wrong tortex habit picks chewing destroying buy like ton awesom',\n",
       " 'used pick play time used white color thinnest one like use thin ones play strumming time one works perfect easy grip last long one thing point print pick fades away quickly not mind highly recommand anyone needs pick good guitar pick',\n",
       " 'comfortable picks love texture makes easy hold without distractingly aggressive like picks textures subtle yet effective favorite pick love pick',\n",
       " 'feel nice soft touch finish fair priced love color green ones like mm right mix medium hard great someone looking play blues rock cheap easy use not beat picks favorit',\n",
       " 'great picks buy pick rocks im fan dunlop many years products amazing great pick',\n",
       " 'always used tortex picks like lot last forever almost little thick tastes red ones little thinner give better action strumming also fast alternate picking patterns like medium thick pick though rockin love tortex',\n",
       " 'pick learned play great feel not slip sweaty fingers good tone get plenty use one pick hold well green',\n",
       " 'good deal four star',\n",
       " 'using dunlop picks long time good feel grip not heavy thick good deal best pick',\n",
       " 'prefer nylon picks softer feel strings ear less clicky standard plastic pick favorites snarling dogs brain picks similar guess comes right essentially brain picks point use dunlop nylon picks excellent almost impossible drop sound feel right last seemingly forever hard go wrong like nylon picks great',\n",
       " 'not hear sounds strings flick flimsy picks across better electric guitar still hard play fast pointless',\n",
       " 'ever since started playing guitar used nylon dunlop picks better thicker size larger size thickness regular fender pick flexible easy pick biggest plus nylon picks not break would almost melt one things lighter harm one pack last yeeeeears also note price keeps going amazon reason not pay pack get local music store good pick',\n",
       " 'bought wanted durable flexible picks easy strumming would recomend anyone needs stable strumming good pick',\n",
       " 'like thin picks one thin notuse time every used right situation player somewhat meat fisted comes playing needs take edge ideal also soft strumming acoustic guitar awesome no power chords little guy good tool tool box need non slippery texture grippy textured surface dunlops love makes easier hold give thumbs thin great acoustic guitar strum',\n",
       " 'great awesome chord based songs need pick individual notes strings might want go bit thicker said tone not nice sounds bit softer best picks songs lot chord strum',\n",
       " 'bass player like picks bit thicker wider tend play fender pleasantly surprised found pick worked really well good pick',\n",
       " 'would give picks five stars couple types prefer still nice picks far used guitar soon trying guitars nice pick',\n",
       " 'thin nylon picks good practicing hand motions strumming put little resistance train keep hand stable still sometimes play since give really nice bright tone usually want something thicker order able flatpick melody lines strums also sometimes use practicing flatpicking since flatpicking really thin pick reveals things body mechanics not notice thicker pick great thin flexible picks amazon best price good learning strum',\n",
       " 'cant go wrong dunlop pick last not break end losing verses breaking mm bit soft liking go size thicker next time good pick',\n",
       " 'not right feel sound not great compared materials quality control picks not cleanly cut injection molded result left thin trim around stick dunlop gator grip prs picks flexibility acoustic prefer fender medium celluloid picks not right feel',\n",
       " 'yes think try looking get thin flexible purchased develop pick skills finger type guy w pick experience not drop get feel sting located w looking definitely lik',\n",
       " 'favorite picks decades grip well last forever tiny bit muted plasticky picks dunlop',\n",
       " 'used dunlop nylon picks entire professional music career rock hard acoustic electric bass tried almost every pick market break far easily dunlop nylon picks not break find thickness fits needs find excellent string attack easily kept grip rarely ever drop one picks preforming maybe times entire career buy picks best picks earth flexible indestruct',\n",
       " 'im not loyal brands whole reach pick hope one get wear get nicks remember keep ordering edit watch steve vai interview shares secret restoring edge worn nicked picks rapidly firmly wipe pick edge carpet motion trying cut carpet edge pick repeat times whadda u know edge smooth nice favorite pick year',\n",
       " 'using dunlop nylons almost long playing guitar twenty one years find bit thin chord strumming style playing playing rhythm perfect flexible not flimsy tips wear picks estimate solid thirty forty hours playing get pristine tip however definitely still usable one advantage picks never break dont see go wrong use picks standard chord strum',\n",
       " 'dunlop mm picks right size not big small using years always good extras hand put cases never wear not stiff flimsy work good sound strings easy hold right',\n",
       " 'ordered bought variety pack picks musician friend one lonesome thin celluloid pick pack loved quieted strumming acoustic dreadnought went hunt thin picks celluloid one fell apart quickly wanted better material white nylon picks last lot longer non pointed end grippy textured not work great like use rounded corners pick job like pointed end thin slides strings nicely still pick combining picking strumming keep using thicker picks picking songs louder strumming mellow strumming keep bothering folks house great update using year pretty flimsy picking notes mostly strumming song still favorite pick strumming hope helps look',\n",
       " 'ok picks personal thing guitarists playing years used many different brands types pick no perfect pick everything depending playing playing style want choose different thickness materials however found line pick favorite general goto pick hands sweat textured grips fantastic job keeping pick hand not floor also really like nylon material produces softer sound without dampening overall sound volume guitar like playability great strumming rhythm loud volume picking blues keep stack raw folk like sound case picks great staple kit many many years continue simply great pick',\n",
       " 'picks nylon one last couple years long not lose thicker dig strings little better still hair flimsier snarling dogs picks know size trust flimsier grip ok not go wrong almost good snarling dogs picks not quit',\n",
       " 'alright got tired forking cent pick local guitar store instant gratification decided get online let tell picks get job done not expect playing metal soft side work well casual playing along heavy palm mutes stuff like tips broke think fault playing hard great picks would recommend anyone good pick',\n",
       " 'use dunlop nylon picks current standard decided give lighter try unfortunately volume produce get completely swallowed accompanying singing acoustic guitar especially outdoor picnic setting basically unusable purpose however find ticket personal practice allowing hear metronome backtrack far easier although failed original performance intention stars filling need not even know pick',\n",
       " 'nylon pick great play feel stiff enough pick individual strings still feels comfortable stumming chords great pick',\n",
       " 'like kind picks grip normal picks use slip fingers times dont hate droping pick playing get helpful pick',\n",
       " 'picks nice thin looking pick seem durable far light color makes easy see drop one set satisfied picks thin picks dunlop',\n",
       " 'picks comfortable nice quality get dirty cream white see worth wanna play fast take n try em comfort',\n",
       " 'picks right amount give really make strumming sound nice clean forgiving technique also great beginners perfect strum',\n",
       " 'use dunlops number reasons first texture plastic gives good sound easier hold second grippy texture put makes easier hold thirdly make many sizes right occasions two thumbs use general acoustic guitar strumming not thin not thick use sizes dunlops rock',\n",
       " 'purchased using learning use pick feel better using like small amount texture provided grip area not much least something excel',\n",
       " 'normally prefer harder pick switch playing acoustic guitar keep peace neighbors super light flexible nylon picks great trying play quietly prefer flexible softer pick many people also excellent regular go pick soft flexible thin pick great playing acoustic quiet',\n",
       " 'ive using dunlop nylon standard picks since early never let comfortable hand great product',\n",
       " 'not sure else say picks work well not wear easily like nice grip fingers get sweaty not slide work wel',\n",
       " 'last forever much better plastic ones especially stay light thickens th ank last forev',\n",
       " 'mm pick right amount flexibility without flapping around like thinner picks dunlop nylon standard first choice mountain dulcimer playing know people use yogurt containers credit cards bird feathers even coffee stirrers picks consistency dunlop pick not beaten price right right mountain dulcim',\n",
       " 'use dunlops number reasons first texture plastic gives good sound easier hold second grippy texture put makes easier hold thirdly make many sizes right occasions two thumbs use dunlop',\n",
       " 'perfect fit not like pick stiff like grip hands sweat lot really need grip s',\n",
       " 'durable affordable perfect thickness looking strum occasionally pick perfect thickness looking strum occasionally pick',\n",
       " 'irish style dadgad guitarist picks cut string really nicely great driving rhythms starting lean towards tortex though think roughness surface dunlops adds little bit scratch sound not like still great picks great rhythm guitar',\n",
       " 'used dunlop nylon picks entire professional music career rock hard acoustic electric bass tried almost every pick market break far easily dunlop nylon picks not break find thickness fits needs find excellent string attack easily kept grip rarely ever drop one picks preforming maybe times entire career buy picks best picks earth flexible indestruct',\n",
       " 'pretty flexible due thickness would recommend dunlop max grip picks picks max grips much better grip please click yes review helpful encourage continue writing updating reviews leave comment questions happy answer help good picks ok grip',\n",
       " 'like flexible pick work fine also good color not stand much good pick',\n",
       " 'beginner play guitar time play strumming church praise team play faster songs thick gauge picks easy lose like play thin gauge picks used white one want make guitar sound brighter pick gray one played last friday sunday worship made sound desired would not fly away hand plying fast praise songs play like porsche pick would not fly away',\n",
       " 'vast multitude guitar players solemnly agree experienced search personal holy grail guitar picks no exception dozens dozens makers styles shapes gages materials price ranges oh ya dollar picks name tried even nail picking metal strings new perfect pick quest must understand picks subjective scent personal grip sound interaction host music ingredients making grail different however play light metal string acoustic main aria af tenor guitar check dunlops nylons even within dunlop line tried different grips thickness gages said done relatively cheap picks remained standing first choice heavy enough heard unplugged without folding pick around thumb light enough strum fluidly without yanking lighter strings right material keep low strings thumping high strings singing even dunlop nylon max grip gage not acoustically perform quite would try another pick chance presented sure us would since quest holy grail never truly ends dunlop nylon without hesitation closest thing gotten pick perfection seeking holy grail pick',\n",
       " 'happen favorite always keep sizes hand mostly use using years probably never change like grippiness hate smooth picks picks cheap keep trying different ones find one like picks highly personal devic',\n",
       " 'think many guitarists always lookout new things picks easy cheap thing try favorite picks last years snarling dogs brain picks nylon picks raspy cat tongue surface makes super easy grip also gator grip picks years like quite bit not favorite tend use something around mm electric bit less acoustic picks matte finish makes easy retain grip sound wise not find significantly different pick ever stop making brain picks could well become good pick',\n",
       " 'using dunlop delrin picks purple ones thought found pick slippery rough side enough texture improve grip would rub flat side edge honing stone music store stumbled dunlop gator grip yes offer better grip think still little slippery much better delrin since solved problem honing stone curious better grip wise surprised difference tone give much mellower tone since using flat wound archtop less bright sound often better tone overall seem harder material brighter not know gators made like difference sound not sure would work round wound strings great jazz tones extra mellow sound great pick',\n",
       " 'smooth sound attack grips soft loose yet well hundreds picks favorites bought gaug',\n",
       " 'playing years lot great products tried lot say feel tone grey dunlop gatorgrip picks surpasses dunlop yellow gels fender x heavies golden gate dawg mandolin picks opinion hope check sure not disappointed best thing tried far',\n",
       " 'pick everyone preference happen like lot powder grip real bonus take bit wear still good clean well great pick',\n",
       " 'use mm dunlop gator grip twenty years non slip surface not take long wear work around even put vice filed new points prefer extra heavy pick no delay pick deflection gator grip picks favorite always used mm',\n",
       " 'not go wrong picks enjoy full size pick better grip full sound ears tortex picks since went jazz picks picks solid product good product',\n",
       " 'pick great strumming people complaining grip better celluloid picks regard looking best grip need find pick textured grip good strum',\n",
       " 'since named gator grip expected good gripping surface not case entire material holding surface material also not large expected still usable decent picks gator grip',\n",
       " 'glad tried wont order thought might good alternate dunlop nylon picks not really though edit im nothing not fair last review context playing strat sometimes stand review however im playing godin ave suddenly picks perfect ive gone back forth trying different picks guitars end picks reach im playing godin buy changing review okay contextually perfect ok add star right add star contextually perfect',\n",
       " 'favorite pick years must say not real pointy recently trying pointier pick fence love pick',\n",
       " 'started lot fingerstyle guitar playing seems made fingertips slick hard time holding picks use upstrokes sure could improve technique fix problem fun blame pick picks no different picks without gator grip imho gorilla snot worked beauti',\n",
       " 'trying find pick combines good grip right string resonance strumming enough stiffness accurate picking picks might closest found far style playing naturally hard strummer want pick hold loosely strum softly still get enough clarity volume want give stars think would apply perfect strumming picking good not quite would consider ideal pick one exists perfectly satisfied picks would never buy picks preferred picks keep experimenting brands types picks search elusive ideal worth tri',\n",
       " 'first love picks used exclusively years dozens never wear used use playing loud rock band never issues comfortable easy control bad sound not sound plucked not hard plastic pick string makes noticeable plinking sound audible amp playing loud music may not issue essentially stopped using started playing different band dynamics quieter passages plinking sound pick strings noticeable bad think great picks would like made softer material good bad',\n",
       " 'got picks week ago fell love generally use dunlop pick switch thinner pick rhythm play course annoying especially playing rhythm lead parts song big stubby picks solved problem easy hold onto great leads way shaped not hang strings like regular picks great picks definitely worth little extra cost great pick types rock play',\n",
       " 'picks really nice picture not get picks translucent purple strange color good picks really help speed accuracy great mandolin playing updated amazon changed image item picture really show get purple not black',\n",
       " 'always find interesting different opinions products not like sound others say wear day really play hours say grip good take worth listened hollow semi hollow body guitars round flat wound strings general take picks give better fuller rounder bigger tone overall compared tortex style pick material mm tortex bit hard determine sound comes material thickness combination also note play rounded edge not tip grip center not quite fit grip style still ok find get slippery faster tortex materials hands sweat subjective comparisons found far find stand sound wise guitars currently playing process finding right pick never ending changes time give try let know think good sound picks worth tri',\n",
       " 'picks r awsome tremmors hands hard thime pick control gell center whitch tingles feels like muscles activating hand great theraputic picki seem better controll picks rather ordinary picks picks indentation u know put ur thumb index fingerthey really say u hand problems try really work lov',\n",
       " 'dont know called big stubby small side way thick sound good though last long time feel like playing nickle like indentation helps grip lot paid attention size thickness still looking right picks slimmer bit larger would buy stubby right',\n",
       " 'looking picks bass one not work thick hard good attack thumb picks work use fingers ok',\n",
       " 'thing picks plectrums prefer really matter preference pick one no pun intended try stick get used practice used many different types picks years not found ideal one recently decided use silverpick basically standard triangle thin design made silver find fits needs best far case getting used particular dunlop pick described fat stubby sturdy nice grippable centre kind lead guitarist uses lot pinch harmonics pick good maximum grip comfortable holding position exposes little pick face hardness make good fast playing thickness also makes difficult get firm grip small size makes easy lose grip hit strings hard makes unfit bass players strumming although could get used lead guitar playing though keep among collection picks use not default preferred choice play small hard good lead guitarist',\n",
       " 'admit not guitar flatpicker friends find pick perfect picking mandolin picks almost zero flex meaning player solid control like em even purple perfect picks flatpick',\n",
       " 'worried mm big guitar probably right not use pick bass not want either want pick bass plectrum thick easy release hard drop',\n",
       " 'first got thought going cheap felt extremely light came cheap packaging ok not expecting much picks actually made extremely sturdy material not bend tried believe tried pick wearing virtually non existent utilize alt picking lot practices actually learned first sweep shred major picks within day getting highly recommend shred guitarist complaint pinch harmonics kind hard becuase grip got used rather quickly important get packs free shipping well sorry amazon good deal pass amazing pick',\n",
       " 'purple makes stick little cut make easier grip hold playing mandolin already planning purchasing lov',\n",
       " 'picks unique shape sound helped play faster smoother tone unfortunately picks not receive five star rating price lack durability wear fast mine usually worn day use not think play particularly hard around six picks expensive pieces plastic however picks full awesome compelled pay little extra definitely buying superb guitar picks serious durability issu',\n",
       " 'currently favorite pick thick enough control etching makes easy handle would recommend guitarists jazz fusion like favorit',\n",
       " 'first want mention pack picks product description not mention pleased receive three son told needed new picks since lately playing ozzy osbourne songs knew needed better pick standard fender picks playing three years hearing play picks noticed play faster accurately finger grips help tremendously really helped bring playing next level complaint sent us pack purple picks wish could choose color maybe could send color assortment buying long time come wow amazed difference mak',\n",
       " 'another item never received would not use anything mm anyway mean experimentation learned since purchase big',\n",
       " 'right pick personal preference nothing wrong dunlop stubby pick not bought pack picks last year loved left florida went north forgot name favorite pick bought mistake good pick not great',\n",
       " 'bought wanting try nylon big stubby sent lexan clear purple ones instead wanted mention item description vague plys pk item pictured nylon still happy purchase picking dynamics jazz stubby give much larger surface grip lexan stubby not nylon on',\n",
       " 'bought first set long time ago perfect ordered got think acoustic type gauge small comfortably hold ended two dozen wasted picks make sure get right update okay realized dunlop stubby picks dunlop big stubby picks sorry make sure get right pick',\n",
       " 'using primary pick years love way material surrounds finger tips unique not found flat pick easy keep grip allow go strings confidently however find sweet spot life pick tip first use business end extremely pointy sharp almost playing bit tip begins round perfect long time eventually really rounds want fresh one typically lose wear nice not care long time favorit',\n",
       " 'guitar pick feels matter individual preference really not seem much point trying rate like particular type pick may not relevant another player picks high ratings players like particular type write reviews rate highly obviously best thing playing pick guitar not always possible said worth thoughts regarding jim dunlop purple colored big stubby picks like pick sharp point better control big stubby certainly meets criteria sharp point pick rounded edges help stubby slide smoothly individual strings makes easier picking besides electric guitar find picks nicely suited acoustic semi solid body guitars string tension greater tried stubby previously pick much thicker heavier absolutely no give still getting used playing something stiff hard although pick rounded depressions side fingers picking rapidly find maintaining grip still little tricky keeping pick clean dry help favorite pick thedunlop nylon pick pleased performance feel stubby locate strings easily precise still able play decent speed time tell may become new favorite pick pick pack contains picks paid simply outstanding deal player looking really stiff almost indestructible pick might want give ultra heavy duty stubby try pick helped improve precision play',\n",
       " 'using stubby spoiled picks simply play faster no matter level alternate picking speeds increase no flat pick drag use flat picks acoustic play want hear crunch picks pack insane bargain pay twice much store ca not use pick',\n",
       " 'use different kinds picks one special strings rings really pleasant great speed picking dunlop jazz iii pick',\n",
       " 'beginner guitarist friends let try picks displeased standard picks partially not like flimsy feel sound not sound quite robust like hopefully makes sense however handed one produced pleasant sound not feel like would somehow break pick playing needless say guitar ordered pack certainly not disappointed never using another pick',\n",
       " 'playing guitar entire life tried almost every pick hearing great decided buy felt really small first kinda dissapointed put not use quite time reason decided pick back minutes came like pick days using got accustomed size became much efficient picking no longer worry pick slipping not really go back normal sized picks haha like downside think many dif versions style buy em try em not work always buy v pick give em time like em',\n",
       " 'real nice guitar picks came piece pack deserve dunlop brandname things last long time good dunlop jazz iii pick black stiffo',\n",
       " 'kinda small hand works great easier pick string pack comes picks works great',\n",
       " 'using even since trying wonderful picks speed precision not go back sure favorit',\n",
       " 'shred picks accurate pinch harmonics come easily point made scream wound strings gallops breeze gave one guitarist band uses best picks blues met',\n",
       " 'recently bought packs jazz iiis shocked not play like expecting high magnification edge not look old jazz iii either not play turn sorry give poor review great brand like dunlop let hope short term fluke dunlop done pick',\n",
       " 'love picks great lead playing small fingers like feel great nice quality pick small size picks petite hand',\n",
       " 'use large flimsy old school picks used not one babies available best picks not already better purchase black red color difference best guitar pick',\n",
       " 'like pick well third color pick purchased probably always use lik',\n",
       " 'let people know bat tell picks small used big picks might turn trust say get used picks start using proper technique picks improve technique rapidly never thought would say pick helped improve playing try bigger pick even use picks skill picks trust put picks get used improve least many people agree know get',\n",
       " 'give picks three days willnever go back another style almost impossible slip fingers great tone amazing clarity effortless harmonics durable fast pick literally makes play better pick us',\n",
       " 'work good way stiff small though great attack holding onto problem slick finish makes kinda hard hold onto small amount pick shows makes strumming difficult without hitting finger strings imagine would work great lead players rhythm player good not',\n",
       " 'nice tone easy grip last long time one favorite picks tried electric not enjoy much acoustic great pick',\n",
       " 'half size regular pick bit thick sound nice last forever wish sized bought smal',\n",
       " 'love little guys small size forces hold tips exposed nice textured grip bought red ones time see drop great little jazz pick',\n",
       " 'used use fender medium picks jazz metal use pick try see right class',\n",
       " 'like dunlop products used purple tortex almost exclusively met jazz iii personal debate continues like thick pick jazz iii like tortex not really like orange color makes easy locate drop rarely mean rarely drop tortex pick nylon might get bit slick times make picks line varying degrees tip pointiness like pointy model others round rounder tips new improved jazz style pick still trying figure like trad fender jazz pick perhaps slightly different picks laying around not bad idea several picks us',\n",
       " 'always thin medium style pick person fellow musician one stage quite surprised well worked used guitar also bass really works well good solid grip solid secure us',\n",
       " 'using longer decade met many people prefer minimal picks jazz iii among closest playing bare hand get like small minimal picks check',\n",
       " 'bought colors reviews well like thickness pick easy hang onto strumming love tone obtain good on',\n",
       " 'title says may take getting use smaller picks long run e happy tried picks also since picks smaller found easy pinch harmonics compared bigger picks hard time pinch harmonics try cant beat dunlop jazz want improve techniqu',\n",
       " 'bought used week giving review amazon used half stars would given could not bring give went used standard medium picks years switching not problem sure smaller not small enough cause problems far biggest change pointy ness picks distinct point pick drastically changes sound playing especially playing chords everything much pronounced not necessarily good thing opinion especially bad playing clean electric picking notes strumming someone ask good picks answer would depends really opinion depends playing rhythm standpoint not like take warmth chords point pick makes strummed chords sound sterile lead work ok really dig note come could play faster no could pull amazing licks could not normal picks no tried not like maybe typically play ton lead work constantly would way go not not glad tried though never wonder depends play',\n",
       " 'used two years recently shifted big brother jazz xl thickness feel tone larger form factor would definitely recommend xl version rhythm lead work required strictly solo work easy achieve pinch harmonics one better nice pick try xl',\n",
       " 'bought years ago try gel name sounded intriguing ok colors bright otherwise standard plastic picks electric prefer nylon less clicky strings fine pull one gig bag use overall styles pick would buy buying nothing wrong normal plastic picks nothing special maybe brightness colors ok nothing speci',\n",
       " 'tried three whim impressed favorably fact good purchased ten went back music store favorites mandolin picks like golden gate grisman dawgs round side xh dunlop gels gives similar attack nice warm tone would recommend anyone much better averag',\n",
       " 'reason looking pick specific color nice set bright colors make difficult lose nice picks looking specific color',\n",
       " 'used extra heavy picks many years still searching perfect pick strong enough play metal blues style rifts not strong cracks brakes like fact wont turn powder fray playing either wear fast playing heavy gauge strings job',\n",
       " 'like fender mediums always gotta branch man not sure picks yet feel little stiff usual want last longer happened days carried pick around pocket months played round strikes gutters ups down',\n",
       " 'recently ordered wide variety picks find ones liked best sounded different gel picks not like see distracts little scratchy edges perhaps experienced guitar player would fine stage still looking not use well not would grab play',\n",
       " 'not light bendy not heavy stiff picks right dunlop also makes quality picks yet break one last long time guy first wished not purple since dunlop codes sizes certain colors like much not really care color anymore bought pack picks much less money local music store would recommend looking first please stop cutting milk jugs go buy goldilocks pick',\n",
       " 'play well hold well never one break second favorite pick pick better songs favorite dunlop gel picks light',\n",
       " 'actually forgot bought heavy medium versions pick not bad pick continue use wish softer center softer coating grip pick prevent turning falling fingers not sticky enough',\n",
       " 'keeping guitar picks quickly grab dunlop mic stand pick holder extremely efficient useful especially performing live always great products always dependable also guitar maintenance kits capo not one product let yet capo years old conveni',\n",
       " 'mentioned title simply snaps stand holds picks enough said job ok taste simple holds picks enough said',\n",
       " 'love pick holders easy get hold nice amount picks get rock star feel throw picks audience must gigging guitarist never without pick stag',\n",
       " 'holds picks place nicely snaps microphone stand firmly never come short nice accessory cheap works fine thank jim dunlop',\n",
       " 'small version price version useful dollars used concerts excellent recommended excel',\n",
       " 'fits nicely mic stand hold butt load picks quite tight picks imagine loosen slightly gets used ne',\n",
       " 'drop pics purpose use often supposed else say lov',\n",
       " 'bought thing not thinking would use much wanted future use wrong no misplacing picks highly recommended also fits guitar stand cool cool',\n",
       " 'not much say product except works advertised not one live performer highly recommend pony dollars pick one pun intended necessari',\n",
       " 'tend drop picks time time nice ready time arises basket filler needed get free shipping one day find useful use every time play not know waited long get one lov',\n",
       " 'works really well convenient stage switching fingering style something drop pick hands pick new one ready cool product',\n",
       " 'pick holder awesome snaps mic stand add picks start rockin holds picks securely performing outdoors wind wont blow away awesome pick hold',\n",
       " 'mic stand pick holder great way keep picks available playing switch playing guitar bass often change gauge pick using pick holder great way picks available change picks often holder snaps firmly arm mic stand not slide around arm holds picks firmly no chance fall holder handy way store pick',\n",
       " 'put boom mic stand tight not others need put shim stands keep picks place works tim',\n",
       " 'not find container add sponge buy keeping valuable guitar humidified essential think item cost three bucks would still yield healthy profit made stuff dollar think better use one baritone uke bigger ones made use dreadnaughts make make sure not let sponge drip ie wring make sure not actually touch bare wood better noth',\n",
       " 'excellent product simple practical design holds firmly inside guitar mouth keeps humidity levels safe zone humidity levels area go simply need provide extra humidity prevent cracks good purchase keep guitar protect',\n",
       " 'planet waves humidifiers simple use great product guard drying guitar causing splitting dampen sponge squeeze excess water insert sponge holder holder hte strings check every days keep sponge damp could not easier use winter long guitars insurance damage dry',\n",
       " 'nothing special no frills simple concept works important maintain humidity instrument especially dry climate like west texas evaporation rate depend amount humidity air store instrument first start using diligent check sponge regularly ensure still moist nothing speci',\n",
       " 'compact humidifier easily filled included plastic syringe not fill not drip simply place case instead usual sponge easy use non messi',\n",
       " 'purchased replace dampit no drip alternative solid base not drip fairly easy use distilled water extend life sponge overall simple effective however may added much humidity using conjunction humidipak keep drying thinking would absorb excess humidity noticed irregularity reflection pick guard tone seemed muted shifted humidipak humidify outside guitar case use hydrometer not think effectively reading inside guitar inside case think planet waves humidifier works well intended purpose monitor not utilizing no drip humidifi',\n",
       " 'electronic indoor outdoor thermometer shows relative humidity whole house humidifier interesting see quickly relative humidity changes inside outside electronic thermometer whole house humidifier pumps gallons water day sq ft house fall winter keeping indoor humidity around makes house feel warmer makes breathing easier makes whole house safer martins use little case humidifier like help humidity think really need whole house solution monitor system sponge zip lock bag holes works well not get water wood not forget take silica gel packs little accessory compartment case many guitars come shipped job remove humidity case better acoustic guitar shops go big humidifier running showrooms ok',\n",
       " 'thought would throw two cents new design effectiveness soundhole humidifier making homemade case humidifiers things like travel butter container many holes drilled sponge started thinking cases separate body cavity neck headstock cavity inside guitar case not allowing humidity flow freely areas especially body needed even though getting acceptable humidification case concerned body dryer comparison went ahead splurged bucks actually bought three crank gas heat house winter c summer keep guitars inside cases inside closet humidity drops quite low sponges remain moist several days no longer fight urge wet lol two great tips one use regular dense sponge thicker like ones dollar store cut size stuff throw away sponge starts get yucky not worry distilled water unless want not argue using pure water compared possibly toxic crap comes faucets one dollar get boat load cut size toss away without regard needing replaced not worry thing hanging strings not damage anything unless get sponge saturated leaks either squeeze excess water shake container sponge inside satisfied not drip humidifier not cause stress damage strings spreading wedge inside soundhole rough careless thoughtless stupid could possibly knock loose rub fall would worried guitar would take happen would extreme guitar humidifier harm could cause top snaps squeezing sides release little tabs stick top cover sponge inside quite small not much room much larger sponge device simple fairly solid treat gently last forever easily clean inside run dishwasher give inside quick rinse every fills sure would decade anything built require extensive cleaning replacement keep eye first days weeks get feel wetting sponge try keep sponge moist dry strongly suggest getting oasis case humidifier similar mini sized x costing around bucks take guesswork equation give fairly accurate readings inside guitar instrument case remember much humidity cause acoustic guitar warp dry shrink crack split soundboard top also leaving edges frets sticking like backbone fish quite abrasive spent one hundred dollars guitar live gets cold dry would negligent not careless spend pittance make sure baby ai not thirsty worse dead broken hope helps works fine much better noth',\n",
       " 'wish little longer lasting trick guitar would probably not happy without trick',\n",
       " 'upgraded version guitar humdifier first one green stuff florists use used plastic syringe ad water replaceable sponge take soak squeeze excess put back container would say gets humidity job',\n",
       " 'simple basic not think good job not really humidify much not extend far guitar simpl',\n",
       " 'simple system gettting humidity guitar price right simple use planet waves humidifi',\n",
       " 'simple humidifier guitars round sound hole would not work f hole archtop types instruments mandolin ukulele inside sturdy plastic case appears ordinary kitchen sponge use distilled water recommended last quite top comes gentle press sides dry sponge little difficult remove fingers tweezers needle nose pliers work perfectly not push way moistening not problem drip little distilled water sponge squeeze excess assembled case pops easily g strings suspended middle sound hole not seen photo small ridges side hold top place strings never one move left sponge not dripping wet never problem drops water guitar case humidity low less sponge dries days even case not opened humidifiers type check every days ever crack appear top favorite guitar not want see one use guitar humidifier especially winter heating house tends drop indoor humidity safe levels ideal guitars air conditioning especially valuable guitars would worth buying hygrometer keep case guitars one room keep guitar okay many reasons always best keep guitar case gig bag not use humidifier inexpensive extra precaution times year temperature humidity changes quickly good basic humidifier round hole acoustic guitar',\n",
       " 'bought product notion cheap no refills buy except distilled water actuality really simple design like design better one simple fact wood guitar already dry refill humidifier often initially would rather using distilled water hydration pack refills required guitar humidifiers guitar gets hydrated usually end wetting sponge every days definitely gets taken several time refills not much hassle overall good product could probably fashion bother try not douse sponge order avoid water damage guitar peace cheers j refill need distilled wat',\n",
       " 'fits nicely acoustic guitars requires dampen sponge distilled water luckily keep hand easy instal',\n",
       " 'bought guitar humidifier taylor received exactly purchased works product recommended many guitar players around simple design fits perfectly strings easy use really moisturize sponge keep plastic container price good essential guitar play',\n",
       " 'works splits two middle strings way peace mind allows comfortable made thinner not stretch strings much consequence fit thin sponge dries easy far arizona california concerned suggestion planet waves think make thicker instead splitting strings redesign mount say velcro still hangs sound hall attached strings possible attach product different way modified mine personal preference works without splitting screen advertis',\n",
       " 'one every one cases plastic sponge holder holes nothing special job planet waves acoustic guitar humidifi',\n",
       " 'good keeps guitar drying warping cracking money works recommend product good',\n",
       " 'know container sponge no biggie bought get super saver shipping something else plan keep solid acoustic guitar weekend place sit unused long periods time jamming guitar strings getting hooked onto feels bit rough strings job simple product kind inconveni',\n",
       " 'says complaint sponge small dry areas needs checked refilled times week hydration st',\n",
       " 'agree others reviews sponge small thin humidify small would not fit larger sponges okay price okay maybe not',\n",
       " 'cleans strings makes fingers go across strings little faster good long lasting product little goes long way safe guitar finishes great stuff',\n",
       " 'cloth included something not fall apart otherwise great use recommended container keeps strings nice conditioned people commented not really tell much stuff left inside good idea keep one around easy us',\n",
       " 'play bass electric acoustic love stuff bass different strings various reasons use every one wife uses acoustic electric guitars keep every case yup stays order list',\n",
       " 'no spill no mess one easiest use products cleaning strings necks use fast fret wipe rag not dry lasts years thing not like not fit accessory area guitar case led sharp edges put using cleaner used year',\n",
       " 'fast fret least kind string cleaner amust anyone plays guitar think strings get really dirty time product solves issue cannot go wrong ghs fast fret',\n",
       " 'stuff lube strings pretty well downside leaves tiny pieces fuzz strings times use comes little cloth assume meant little inconvenience love stuff',\n",
       " 'not much say product except works makes strings last longer sometimes get lazy owning many guitars minutes per well done restring adds great way put keep jamming long possible small conveniently stored recommend trying work',\n",
       " 'used fast fret number years think great product comes metal cap applicator versus old plastic no cap applicator much better way package product probably help retain lubricant longer great product',\n",
       " 'really love tends linty time still good product recommended fantast',\n",
       " 'agreement others state must battled fret noise recordings fingers dragging fingerboard really lowers friction makes much playable instrument supposedly protects wood used back neck well helps much fingerboard rub entire neck play makes guitar smell like came right shop suspect must using years never told though never ask foolish since recently gotten setups read many forums posters recommended figured heck less not waited whole lif',\n",
       " 'discovered string lubricant many years ago concur reviewers said although would not call string cleaner although indirectly clean strings use cloth like another reviewer stated also use cloth clean undersides strings well unfortunately live humid climate little equator strings short life anything prolong life real boon musician agree downside inability tell advance running low lubricant actually turns dry guess given price overall usefulness accessory one cannot complain much mine run dry going delay replacement purchase try something new discovered called swipe enables clean undersides topsides strings without chemicals works well advertised may still get fast fret lubricating properties really helps make playing lot comfortable recommended useful accessory string instrumentalist',\n",
       " 'name says fast fret fast fingers played live shows min sets hr sets year national stages strings take lot abuse slow sweat grime dirt flying air stuff honestly works well part regular arsenal best stuff ev',\n",
       " 'especially price great buy strings acoustic starting get bit loud would slide fretboard noticing quite bit lag sliding downside would much easier apply directly frets without strings appeal bring life back strings not shining like use take little extra time care get much oil onto fretboard make sure wiped thoroughly possible required folding provided rag inserting strings fretboard taking time went fret fret not big deal though result pleasing ease sliding tremendously improved strings sound feel better ever take minutes guitar favor glad made purchas',\n",
       " 'got yesterday not know long prolong string life noticed difference already lot easier play since strings feel lot smoother makes worth buying alone also cheap would give shot really happy discovered product fact already ordering really makes differ',\n",
       " 'fifth time buying stuff really like new container tin way nicer old plastic one stuff works great lasts forever play daily one stick last least year gets dirty dry use one swipe plenty strings time nut bridge fold cloth wipe clean makes moving power chords soloing much easier essential guitar play',\n",
       " 'using ghs fast fret six years amazing stuff apply tiny amount strings play wipe afterwards used change strings every one two months strings last year easy control home much put one stuff lasts year two not really reason soak everything not think mainly use clean strings really glad found stuff stuff great container lasts really long tim',\n",
       " 'nice product strings feel sound noticeably better plus white mineral oil smells really good applied neck nic',\n",
       " 'used bass guitar older strings made strings brighter lively try guitars prolong life strings like packaging small cloth comes use sections shirts clean strings put inside packaging along cloth must fingerpicking guitar bass player revived dirty bass strings great product',\n",
       " 'product great use every session keeps strings clean conditions fret board every guitar player keep case good product',\n",
       " 'not expert cheap simple cleans protects strings hope helps thank work',\n",
       " 'makes sliding bass real smooth also nice cleaning hard tell running low oil whatever liquid thing seem last fairly long time super easy apply even though not pro act like one slap stuff bass guitar play real smooth',\n",
       " 'product not seems cool name tool oil stinks tried best get use product learned much better ways going studio recording time away fast fret playing improved hardly ever change string gook not mention getting crap fingers nasty use old english guitars thank nose thanks fingers thank not serious play',\n",
       " 'seems work well though not know long supposed last sweaty hands done wipe guitar lil guy helps lot keep strings getting dirty cruddy works great think',\n",
       " 'agree reviews found another area use fast fret nut tuning strings especially lower wound strings hang nut causes string pop instead slide would roller nut dab fast fret onto nut tuning problem greatly reduced another us',\n",
       " 'got product clean condition guitar fretboards well duh work yes no first not appear anything coming bit rubbing notice slight bit solution turns mineral oil fretboard frets tried spread included cloth discovered cloth useless paper towel would hold better seriously used old tee shirt square spread oil around honestly took mins noticed no difference appearence playability guitar says use session thats mins time per guitar general play guitars durning course session still use occasionally would not spend money purchase not looking fret board cleaner meh',\n",
       " 'let cut chase less tight roll gauze soaked mineral oil exactly need clean protect fretboard lubricating feature nice plus best fretboard treatment ever us',\n",
       " 'used bass liked helps slide around fretboard easier friend tried acoustic guitar hated reason opinion simple stuff puts lot oil whatever would think unintended consequence oil making hard earned callouses soft playing guitar lead bleeding fingers pretty fast friend apply simply hold handle press running along string one string time highly suggest use one slide string first may not look like anything getting strings give minutes start see excess oil appear start pooling strings fretboard ok need wipe away excess telling accidentally get much excess oil may not come easily not least mine left little pools oil frets used one swipe thought little naturally product also makes fingers oily feeling friend hated part agree soft callouses no callouses good product idea like theory thick bass strings not severe problem w soft fingertips aware possibility problem says may not like else feels fingers good product idea could causes problems peopl',\n",
       " 'already posted fast fret love stuff mandatory inclusion every one guitar cases best',\n",
       " 'tips fingers often get pretty dry cracked especially playing lot problem least pieces dead skins sometimes catch guitar strings making slides bends pull offs less fluid strokes ghs makes fretboard give much smoother playing experience alternative would using vaseline fingers would probably terrible fretboard also sometimes use emory board smooth fingertips helps would rather little possible keep callouses strong ghs allows minimize use shread great cracked dry finger tip',\n",
       " 'patches greatly extend life bass drum heads even use felt beaters kick pedal pads greatly increase strength toughness bass drum head exact place needed far tel not change sound head much stay exactly put sure get right first time double bass kick pedal highly recommend either patch one another name brand company save hid',\n",
       " 'impact pads came fast job although one pad received ive already warn less weeks alright',\n",
       " 'saved bass drum head many holes also no affect sound bass drum would recommend works great',\n",
       " 'works really like evans got looked different looked cheap although using awhile hard use holding great saving kick drum head abuse works not great',\n",
       " ...]"
      ]
     },
     "execution_count": 100,
     "metadata": {},
     "output_type": "execute_result"
    }
   ],
   "source": [
    "preprocess_text(text)"
   ]
  },
  {
   "cell_type": "code",
   "execution_count": null,
   "metadata": {},
   "outputs": [],
   "source": []
  },
  {
   "cell_type": "markdown",
   "metadata": {},
   "source": [
    "# Featurization"
   ]
  },
  {
   "cell_type": "code",
   "execution_count": 101,
   "metadata": {},
   "outputs": [],
   "source": [
    "from sklearn.feature_extraction.text import TfidfTransformer\n",
    "from sklearn.feature_extraction.text import TfidfVectorizer\n",
    "from sklearn.feature_extraction.text import CountVectorizer"
   ]
  },
  {
   "cell_type": "markdown",
   "metadata": {},
   "source": [
    "# BOW"
   ]
  },
  {
   "cell_type": "code",
   "execution_count": 103,
   "metadata": {},
   "outputs": [
    {
     "name": "stdout",
     "output_type": "stream",
     "text": [
      "some feature names  ['aa', 'aaa', 'aaaand', 'ab', 'aback', 'abalone', 'abandon', 'abbe', 'abcd', 'abehringer']\n",
      "==============================\n",
      "the type of count vectorizer  <class 'scipy.sparse.csr.csr_matrix'>\n",
      "the shape of out text BOW vectorizer  (10227, 19543)\n",
      "the number of unique words  19543\n"
     ]
    }
   ],
   "source": [
    "#BoW\n",
    "count_vect = CountVectorizer() #in scikit-learn\n",
    "count_vect.fit(preprocessed_reviews)\n",
    "print(\"some feature names \", count_vect.get_feature_names()[:10])\n",
    "print('='*30)\n",
    "\n",
    "final_counts = count_vect.transform(preprocessed_reviews)\n",
    "print(\"the type of count vectorizer \",type(final_counts))\n",
    "print(\"the shape of out text BOW vectorizer \",final_counts.get_shape())\n",
    "print(\"the number of unique words \", final_counts.get_shape()[1])"
   ]
  },
  {
   "cell_type": "code",
   "execution_count": 106,
   "metadata": {},
   "outputs": [
    {
     "name": "stdout",
     "output_type": "stream",
     "text": [
      "<class 'scipy.sparse.csr.csr_matrix'>\n",
      "(10227, 19543)\n",
      "(10227, 19543)\n",
      "<class 'numpy.ndarray'>\n"
     ]
    },
    {
     "data": {
      "application/javascript": [
       "\n",
       "        if (window._pyforest_update_imports_cell) { window._pyforest_update_imports_cell('import numpy as np\\nimport pandas as pd'); }\n",
       "    "
      ],
      "text/plain": [
       "<IPython.core.display.Javascript object>"
      ]
     },
     "metadata": {},
     "output_type": "display_data"
    },
    {
     "name": "stdout",
     "output_type": "stream",
     "text": [
      "(10227,)\n"
     ]
    }
   ],
   "source": [
    "x = final_counts\n",
    "print(type(x))\n",
    "print(x.shape)\n",
    "x = x.toarray()\n",
    "print(x.shape)\n",
    "print(type(x))\n",
    "\n",
    "y =np.array( df['Sentiment'])\n",
    "print(y.shape)"
   ]
  },
  {
   "cell_type": "code",
   "execution_count": 107,
   "metadata": {},
   "outputs": [],
   "source": [
    "from sklearn.model_selection import StratifiedKFold"
   ]
  },
  {
   "cell_type": "code",
   "execution_count": 111,
   "metadata": {},
   "outputs": [],
   "source": [
    "skf = StratifiedKFold(n_splits=2)\n",
    "skf.get_n_splits(x, y)\n",
    "\n",
    "StratifiedKFold(n_splits=3, random_state=None, shuffle=False)\n",
    "for train_index, test_index in skf.split(x, y):\n",
    "  #  print(\"TRAIN:\", train_index, \"TEST:\", test_index)\n",
    "    X_train, X_test = x[train_index], x[test_index]\n",
    "    y_train, y_test = y[train_index], y[test_index]"
   ]
  },
  {
   "cell_type": "code",
   "execution_count": 112,
   "metadata": {},
   "outputs": [
    {
     "data": {
      "text/plain": [
       "(5114, 19543)"
      ]
     },
     "execution_count": 112,
     "metadata": {},
     "output_type": "execute_result"
    }
   ],
   "source": [
    "X_train.shape"
   ]
  },
  {
   "cell_type": "code",
   "execution_count": 115,
   "metadata": {},
   "outputs": [
    {
     "data": {
      "text/plain": [
       "(5113, 19543)"
      ]
     },
     "execution_count": 115,
     "metadata": {},
     "output_type": "execute_result"
    }
   ],
   "source": [
    "X_test.shape"
   ]
  },
  {
   "cell_type": "code",
   "execution_count": 116,
   "metadata": {},
   "outputs": [],
   "source": [
    "from sklearn.linear_model import LogisticRegression"
   ]
  },
  {
   "cell_type": "code",
   "execution_count": null,
   "metadata": {},
   "outputs": [],
   "source": []
  },
  {
   "cell_type": "markdown",
   "metadata": {},
   "source": [
    "# TF-IDF"
   ]
  },
  {
   "cell_type": "code",
   "execution_count": 104,
   "metadata": {},
   "outputs": [
    {
     "name": "stdout",
     "output_type": "stream",
     "text": [
      "some sample features(unique words in the corpus) ['aa', 'aaa', 'aaa batteries', 'ability', 'able', 'able find', 'able get', 'able play', 'able use', 'ableton']\n",
      "==================================================\n",
      "the type of count vectorizer  <class 'scipy.sparse.csr.csr_matrix'>\n",
      "the shape of out text TFIDF vectorizer  (10227, 7712)\n",
      "the number of unique words including both unigrams and bigrams  7712\n"
     ]
    }
   ],
   "source": [
    "tf_idf_vect = TfidfVectorizer(ngram_range=(1,2), min_df=10)\n",
    "tf_idf_vect.fit(preprocessed_reviews)\n",
    "print(\"some sample features(unique words in the corpus)\",tf_idf_vect.get_feature_names()[0:10])\n",
    "print('='*50)\n",
    "\n",
    "final_tf_idf = tf_idf_vect.transform(preprocessed_reviews)\n",
    "print(\"the type of count vectorizer \",type(final_tf_idf))\n",
    "print(\"the shape of out text TFIDF vectorizer \",final_tf_idf.get_shape())\n",
    "print(\"the number of unique words including both unigrams and bigrams \", final_tf_idf.get_shape()[1])"
   ]
  },
  {
   "cell_type": "code",
   "execution_count": null,
   "metadata": {},
   "outputs": [],
   "source": []
  }
 ],
 "metadata": {
  "kernelspec": {
   "display_name": "Python 3",
   "language": "python",
   "name": "python3"
  },
  "language_info": {
   "codemirror_mode": {
    "name": "ipython",
    "version": 3
   },
   "file_extension": ".py",
   "mimetype": "text/x-python",
   "name": "python",
   "nbconvert_exporter": "python",
   "pygments_lexer": "ipython3",
   "version": "3.7.3"
  }
 },
 "nbformat": 4,
 "nbformat_minor": 2
}
