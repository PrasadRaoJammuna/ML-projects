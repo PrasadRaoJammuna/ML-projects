{
 "cells": [
  {
   "cell_type": "markdown",
   "metadata": {},
   "source": [
    "# Business Problem"
   ]
  },
  {
   "cell_type": "markdown",
   "metadata": {},
   "source": [
    "Quora is a place to gain and share knowledge—about anything. It’s a platform to ask questions and connect with people who contribute unique insights and quality answers. This empowers people to learn from each other and to better understand the world.\n",
    "\n",
    "Over 100 million people visit Quora every month, so it's no surprise that many people ask similarly worded questions. Multiple questions with the same intent can cause seekers to spend more time finding the best answer to their question, and make writers feel they need to answer multiple versions of the same question. Quora values canonical questions because they provide a better experience to active seekers and writers, and offer more value to both of these groups in the long term.\n",
    "\n",
    "\n",
    "> Credits: Kaggle\n",
    "\n",
    "<li>Source :<a href=' https://www.kaggle.com/c/quora-question-pairs'>Dataset</a>\n",
    "    \n",
    "<li> METRIC: log-loss, Confusion matrix"
   ]
  },
  {
   "cell_type": "markdown",
   "metadata": {},
   "source": [
    "## Task:"
   ]
  },
  {
   "cell_type": "markdown",
   "metadata": {},
   "source": [
    "<b> We are tasked with predicting whether a pair of questions are duplicates or not."
   ]
  },
  {
   "cell_type": "code",
   "execution_count": 1,
   "metadata": {},
   "outputs": [],
   "source": [
    "import pandas as pd\n",
    "import numpy as np\n",
    "import seaborn as sns\n",
    "import matplotlib.pyplot as plt\n",
    "import re\n",
    "import nltk\n",
    "from nltk.corpus import stopwords\n",
    "from nltk.stem import PorterStemmer\n",
    "from bs4 import BeautifulSoup"
   ]
  },
  {
   "cell_type": "code",
   "execution_count": 2,
   "metadata": {},
   "outputs": [
    {
     "data": {
      "text/html": [
       "<div>\n",
       "<style scoped>\n",
       "    .dataframe tbody tr th:only-of-type {\n",
       "        vertical-align: middle;\n",
       "    }\n",
       "\n",
       "    .dataframe tbody tr th {\n",
       "        vertical-align: top;\n",
       "    }\n",
       "\n",
       "    .dataframe thead th {\n",
       "        text-align: right;\n",
       "    }\n",
       "</style>\n",
       "<table border=\"1\" class=\"dataframe\">\n",
       "  <thead>\n",
       "    <tr style=\"text-align: right;\">\n",
       "      <th></th>\n",
       "      <th>id</th>\n",
       "      <th>qid1</th>\n",
       "      <th>qid2</th>\n",
       "      <th>question1</th>\n",
       "      <th>question2</th>\n",
       "      <th>is_duplicate</th>\n",
       "    </tr>\n",
       "  </thead>\n",
       "  <tbody>\n",
       "    <tr>\n",
       "      <th>0</th>\n",
       "      <td>0</td>\n",
       "      <td>1</td>\n",
       "      <td>2</td>\n",
       "      <td>What is the step by step guide to invest in sh...</td>\n",
       "      <td>What is the step by step guide to invest in sh...</td>\n",
       "      <td>0</td>\n",
       "    </tr>\n",
       "    <tr>\n",
       "      <th>1</th>\n",
       "      <td>1</td>\n",
       "      <td>3</td>\n",
       "      <td>4</td>\n",
       "      <td>What is the story of Kohinoor (Koh-i-Noor) Dia...</td>\n",
       "      <td>What would happen if the Indian government sto...</td>\n",
       "      <td>0</td>\n",
       "    </tr>\n",
       "    <tr>\n",
       "      <th>2</th>\n",
       "      <td>2</td>\n",
       "      <td>5</td>\n",
       "      <td>6</td>\n",
       "      <td>How can I increase the speed of my internet co...</td>\n",
       "      <td>How can Internet speed be increased by hacking...</td>\n",
       "      <td>0</td>\n",
       "    </tr>\n",
       "  </tbody>\n",
       "</table>\n",
       "</div>"
      ],
      "text/plain": [
       "   id  qid1  qid2                                          question1  \\\n",
       "0   0     1     2  What is the step by step guide to invest in sh...   \n",
       "1   1     3     4  What is the story of Kohinoor (Koh-i-Noor) Dia...   \n",
       "2   2     5     6  How can I increase the speed of my internet co...   \n",
       "\n",
       "                                           question2  is_duplicate  \n",
       "0  What is the step by step guide to invest in sh...             0  \n",
       "1  What would happen if the Indian government sto...             0  \n",
       "2  How can Internet speed be increased by hacking...             0  "
      ]
     },
     "execution_count": 2,
     "metadata": {},
     "output_type": "execute_result"
    }
   ],
   "source": [
    "df = pd.read_csv('train.csv')\n",
    "df.head(3)"
   ]
  },
  {
   "cell_type": "code",
   "execution_count": 3,
   "metadata": {},
   "outputs": [
    {
     "data": {
      "text/plain": [
       "(404290, 6)"
      ]
     },
     "execution_count": 3,
     "metadata": {},
     "output_type": "execute_result"
    }
   ],
   "source": [
    "df.shape"
   ]
  },
  {
   "cell_type": "code",
   "execution_count": 4,
   "metadata": {},
   "outputs": [
    {
     "data": {
      "text/plain": [
       "Index(['id', 'qid1', 'qid2', 'question1', 'question2', 'is_duplicate'], dtype='object')"
      ]
     },
     "execution_count": 4,
     "metadata": {},
     "output_type": "execute_result"
    }
   ],
   "source": [
    "df.columns"
   ]
  },
  {
   "cell_type": "markdown",
   "metadata": {},
   "source": [
    "<li>id: Looks like a simple rowID\n",
    "<li>qid{1, 2}: The unique ID of each question in the pair\n",
    "<li>question{1, 2}: The actual textual contents of the questions.\n",
    "<li>is_duplicate: The label that we are trying to predict - whether the two questions are duplicates of each other."
   ]
  },
  {
   "cell_type": "code",
   "execution_count": 5,
   "metadata": {},
   "outputs": [
    {
     "name": "stdout",
     "output_type": "stream",
     "text": [
      "<class 'pandas.core.frame.DataFrame'>\n",
      "RangeIndex: 404290 entries, 0 to 404289\n",
      "Data columns (total 6 columns):\n",
      "id              404290 non-null int64\n",
      "qid1            404290 non-null int64\n",
      "qid2            404290 non-null int64\n",
      "question1       404289 non-null object\n",
      "question2       404288 non-null object\n",
      "is_duplicate    404290 non-null int64\n",
      "dtypes: int64(4), object(2)\n",
      "memory usage: 18.5+ MB\n"
     ]
    }
   ],
   "source": [
    "df.info()"
   ]
  },
  {
   "cell_type": "markdown",
   "metadata": {},
   "source": []
  },
  {
   "cell_type": "markdown",
   "metadata": {},
   "source": [
    "# EDA"
   ]
  },
  {
   "cell_type": "code",
   "execution_count": 6,
   "metadata": {},
   "outputs": [
    {
     "name": "stdout",
     "output_type": "stream",
     "text": [
      "0    255027\n",
      "1    149263\n",
      "Name: is_duplicate, dtype: int64\n"
     ]
    },
    {
     "data": {
      "text/plain": [
       "0    63.080215\n",
       "1    36.919785\n",
       "Name: is_duplicate, dtype: float64"
      ]
     },
     "execution_count": 6,
     "metadata": {},
     "output_type": "execute_result"
    },
    {
     "data": {
      "image/png": "[encoded data removed]",
      "text/plain": [
       "<Figure size 432x288 with 1 Axes>"
      ]
     },
     "metadata": {
      "needs_background": "light"
     },
     "output_type": "display_data"
    }
   ],
   "source": [
    "# Checking for class labels\n",
    "\n",
    "sns.countplot(df['is_duplicate'])\n",
    "print(df.is_duplicate.value_counts())\n",
    "df.is_duplicate.value_counts(normalize=True)*100\n",
    "\n",
    "# is_duplicate\n",
    "# 0 - No\n",
    "# 1 - Yes\n"
   ]
  },
  {
   "cell_type": "code",
   "execution_count": 7,
   "metadata": {},
   "outputs": [
    {
     "name": "stdout",
     "output_type": "stream",
     "text": [
      "~> Total number of question pairs for training:\n",
      "   404290\n"
     ]
    }
   ],
   "source": [
    "print('~> Total number of question pairs for training:\\n   {}'.format(len(df)))"
   ]
  },
  {
   "cell_type": "code",
   "execution_count": 8,
   "metadata": {},
   "outputs": [
    {
     "name": "stdout",
     "output_type": "stream",
     "text": [
      "The no.of nunique questions: 537933\n",
      "\n",
      "More than one time repeated questions: 111780\n",
      "\n",
      "maximum repeated question: 157\n"
     ]
    }
   ],
   "source": [
    "# No.of unique Questions\n",
    "qids  = pd.Series(df['qid1'].tolist() + df['qid2'].tolist())\n",
    "unique_qs  = len(np.unique(qids))\n",
    "print('The no.of nunique questions:',unique_qs)\n",
    "\n",
    "# More than one time\n",
    "print('\\nMore than one time repeated questions:',np.sum(qids.value_counts()>1))\n",
    "\n",
    "#Maximum repeated question\n",
    "print('\\nmaximum repeated question:',max(qids.value_counts()))"
   ]
  },
  {
   "cell_type": "code",
   "execution_count": 9,
   "metadata": {},
   "outputs": [
    {
     "data": {
      "image/png": "[encoded data removed]",
      "text/plain": [
       "<Figure size 720x504 with 1 Axes>"
      ]
     },
     "metadata": {
      "needs_background": "light"
     },
     "output_type": "display_data"
    }
   ],
   "source": [
    "x = ['unique_questions','Repeated questions']\n",
    "y = [ unique_qs, np.sum(qids.value_counts()>1)]\n",
    "\n",
    "\n",
    "plt.figure(figsize=(10,7))\n",
    "plt.title('Uniques Vs Repeated Questions')\n",
    "sns.barplot(x,y)\n",
    "plt.show()"
   ]
  },
  {
   "cell_type": "code",
   "execution_count": 47,
   "metadata": {},
   "outputs": [
    {
     "name": "stdout",
     "output_type": "stream",
     "text": [
      "No.of duplicates: 0\n"
     ]
    }
   ],
   "source": [
    "# check for duplicates\n",
    "\n",
    "print('No.of duplicates:',df.duplicated(['qid1','qid2','is_duplicate']).sum())"
   ]
  },
  {
   "cell_type": "code",
   "execution_count": null,
   "metadata": {},
   "outputs": [],
   "source": []
  },
  {
   "cell_type": "code",
   "execution_count": 50,
   "metadata": {},
   "outputs": [
    {
     "data": {
      "image/png": "[encoded data removed]",
      "text/plain": [
       "<Figure size 720x504 with 1 Axes>"
      ]
     },
     "metadata": {
      "needs_background": "light"
     },
     "output_type": "display_data"
    }
   ],
   "source": [
    "plt.figure(figsize=(10,7))\n",
    "sns.distplot(qids.value_counts(),color='g')\n",
    "plt.ylabel('No.of questions')\n",
    "plt.xlabel('No.of times')\n",
    "plt.yscale('log')\n",
    "plt.show()"
   ]
  },
  {
   "cell_type": "code",
   "execution_count": 61,
   "metadata": {},
   "outputs": [
    {
     "data": {
      "text/plain": [
       "id              0\n",
       "qid1            0\n",
       "qid2            0\n",
       "question1       1\n",
       "question2       2\n",
       "is_duplicate    0\n",
       "dtype: int64"
      ]
     },
     "execution_count": 61,
     "metadata": {},
     "output_type": "execute_result"
    }
   ],
   "source": [
    "df.isna().sum()"
   ]
  },
  {
   "cell_type": "code",
   "execution_count": 60,
   "metadata": {},
   "outputs": [
    {
     "data": {
      "text/html": [
       "<div>\n",
       "<style scoped>\n",
       "    .dataframe tbody tr th:only-of-type {\n",
       "        vertical-align: middle;\n",
       "    }\n",
       "\n",
       "    .dataframe tbody tr th {\n",
       "        vertical-align: top;\n",
       "    }\n",
       "\n",
       "    .dataframe thead th {\n",
       "        text-align: right;\n",
       "    }\n",
       "</style>\n",
       "<table border=\"1\" class=\"dataframe\">\n",
       "  <thead>\n",
       "    <tr style=\"text-align: right;\">\n",
       "      <th></th>\n",
       "      <th>id</th>\n",
       "      <th>qid1</th>\n",
       "      <th>qid2</th>\n",
       "      <th>question1</th>\n",
       "      <th>question2</th>\n",
       "      <th>is_duplicate</th>\n",
       "    </tr>\n",
       "  </thead>\n",
       "  <tbody>\n",
       "    <tr>\n",
       "      <th>105780</th>\n",
       "      <td>105780</td>\n",
       "      <td>174363</td>\n",
       "      <td>174364</td>\n",
       "      <td>How can I develop android app?</td>\n",
       "      <td>NaN</td>\n",
       "      <td>0</td>\n",
       "    </tr>\n",
       "    <tr>\n",
       "      <th>201841</th>\n",
       "      <td>201841</td>\n",
       "      <td>303951</td>\n",
       "      <td>174364</td>\n",
       "      <td>How can I create an Android app?</td>\n",
       "      <td>NaN</td>\n",
       "      <td>0</td>\n",
       "    </tr>\n",
       "    <tr>\n",
       "      <th>363362</th>\n",
       "      <td>363362</td>\n",
       "      <td>493340</td>\n",
       "      <td>493341</td>\n",
       "      <td>NaN</td>\n",
       "      <td>My Chinese name is Haichao Yu. What English na...</td>\n",
       "      <td>0</td>\n",
       "    </tr>\n",
       "  </tbody>\n",
       "</table>\n",
       "</div>"
      ],
      "text/plain": [
       "            id    qid1    qid2                         question1  \\\n",
       "105780  105780  174363  174364    How can I develop android app?   \n",
       "201841  201841  303951  174364  How can I create an Android app?   \n",
       "363362  363362  493340  493341                               NaN   \n",
       "\n",
       "                                                question2  is_duplicate  \n",
       "105780                                                NaN             0  \n",
       "201841                                                NaN             0  \n",
       "363362  My Chinese name is Haichao Yu. What English na...             0  "
      ]
     },
     "execution_count": 60,
     "metadata": {},
     "output_type": "execute_result"
    }
   ],
   "source": [
    "df[df.isna().any(1)]"
   ]
  },
  {
   "cell_type": "code",
   "execution_count": 62,
   "metadata": {},
   "outputs": [
    {
     "data": {
      "text/plain": [
       "id              0\n",
       "qid1            0\n",
       "qid2            0\n",
       "question1       0\n",
       "question2       0\n",
       "is_duplicate    0\n",
       "dtype: int64"
      ]
     },
     "execution_count": 62,
     "metadata": {},
     "output_type": "execute_result"
    }
   ],
   "source": [
    "df = df.fillna('')\n",
    "df.isna().sum()\n"
   ]
  },
  {
   "cell_type": "markdown",
   "metadata": {},
   "source": [
    "## Feature Extraction"
   ]
  },
  {
   "cell_type": "markdown",
   "metadata": {},
   "source": [
    "Let us now construct a few features like:\n",
    " - ____freq_qid1____ = Frequency of qid1's\n",
    " - ____freq_qid2____ = Frequency of qid2's \n",
    " - ____q1len____ = Length of q1\n",
    " - ____q2len____ = Length of q2\n",
    " - ____q1_n_words____ = Number of words in Question 1\n",
    " - ____q2_n_words____ = Number of words in Question 2\n",
    " - ____word_Common____ = (Number of common unique words in Question 1 and Question 2)\n",
    " - ____word_Total____ =(Total num of words in Question 1 + Total num of words in Question 2)\n",
    " - ____word_share____ = (word_common)/(word_Total)\n",
    " - ____freq_q1+freq_q2____ = sum total of frequency of qid1 and qid2 \n",
    " - ____freq_q1-freq_q2____ = absolute difference of frequency of qid1 and qid2 "
   ]
  },
  {
   "cell_type": "code",
   "execution_count": 72,
   "metadata": {},
   "outputs": [],
   "source": [
    "df['freq_qid1'] = df.groupby('qid1')['qid1'].transform('count')\n",
    "df['freq_qid2']= df.groupby('qid2')['qid2'].transform('count')\n",
    "df['q1_len'] = df['question1'].str.len()\n",
    "df['q2_len'] = df['question2'].str.len()\n",
    "df['q1_n_words'] = df['question1'].apply(lambda row: len(row.split(' ')))\n",
    "df['q2_n_words'] = df['question2'].apply(lambda row: len(row.split(' ')))"
   ]
  },
  {
   "cell_type": "code",
   "execution_count": 73,
   "metadata": {},
   "outputs": [],
   "source": [
    "def word_common(row):\n",
    "    w1 = set(map(lambda word: word.lower().strip(),row['question1'].split(' ')))\n",
    "    w2  = set(map(lambda word: word.lower().strip(),row['question2'].split(' ')))\n",
    "    return 1.0 * len(w1&w2)\n",
    "\n",
    "df['word_common'] = df.apply(word_common,axis=1)"
   ]
  },
  {
   "cell_type": "code",
   "execution_count": 74,
   "metadata": {},
   "outputs": [],
   "source": [
    "def word_total(row):\n",
    "    w1 = set(map(lambda word: word.lower().strip(), row['question1'].split(' ')))\n",
    "    w2 = set(map(lambda word: word.lower().strip(), row['question2'].split(' ')))\n",
    "    return 1.0 * (len(w1)+len(w2))\n",
    "\n",
    "df['word_total'] = df.apply(word_total,axis=1)"
   ]
  },
  {
   "cell_type": "code",
   "execution_count": 75,
   "metadata": {},
   "outputs": [],
   "source": [
    "def word_share(row):\n",
    "    w1 = set(map(lambda word: word.lower().strip(), row['question1'].split(' ')))\n",
    "    w2 = set(map(lambda word: word.lower().strip(),row['question2'].split(' ')))\n",
    "    return 1.0* len(w1&w2)/(len(w1)+len(w2))\n",
    "\n",
    "df['word_share'] = df.apply(word_share,axis=1)"
   ]
  },
  {
   "cell_type": "code",
   "execution_count": 76,
   "metadata": {},
   "outputs": [],
   "source": [
    "df['freq_q1+q2'] = df['freq_qid1']+df['freq_qid2']\n",
    "df['freq_q1-q2'] = abs(df['freq_qid1']-df['freq_qid2'])"
   ]
  },
  {
   "cell_type": "code",
   "execution_count": 77,
   "metadata": {},
   "outputs": [
    {
     "name": "stdout",
     "output_type": "stream",
     "text": [
      "<class 'pandas.core.frame.DataFrame'>\n",
      "RangeIndex: 404290 entries, 0 to 404289\n",
      "Data columns (total 17 columns):\n",
      "id              404290 non-null int64\n",
      "qid1            404290 non-null int64\n",
      "qid2            404290 non-null int64\n",
      "question1       404290 non-null object\n",
      "question2       404290 non-null object\n",
      "is_duplicate    404290 non-null int64\n",
      "freq_qid1       404290 non-null int64\n",
      "freq_qid2       404290 non-null int64\n",
      "q1_len          404290 non-null int64\n",
      "q2_len          404290 non-null int64\n",
      "q1_n_words      404290 non-null int64\n",
      "q2_n_words      404290 non-null int64\n",
      "word_common     404290 non-null float64\n",
      "word_total      404290 non-null float64\n",
      "word_share      404290 non-null float64\n",
      "freq_q1+q2      404290 non-null int64\n",
      "freq_q1-q2      404290 non-null int64\n",
      "dtypes: float64(3), int64(12), object(2)\n",
      "memory usage: 52.4+ MB\n"
     ]
    }
   ],
   "source": [
    "df.info()"
   ]
  },
  {
   "cell_type": "code",
   "execution_count": 78,
   "metadata": {},
   "outputs": [
    {
     "data": {
      "text/plain": [
       "id              0\n",
       "qid1            0\n",
       "qid2            0\n",
       "question1       0\n",
       "question2       0\n",
       "is_duplicate    0\n",
       "freq_qid1       0\n",
       "freq_qid2       0\n",
       "q1_len          0\n",
       "q2_len          0\n",
       "q1_n_words      0\n",
       "q2_n_words      0\n",
       "word_common     0\n",
       "word_total      0\n",
       "word_share      0\n",
       "freq_q1+q2      0\n",
       "freq_q1-q2      0\n",
       "dtype: int64"
      ]
     },
     "execution_count": 78,
     "metadata": {},
     "output_type": "execute_result"
    }
   ],
   "source": [
    "df.isna().sum()"
   ]
  },
  {
   "cell_type": "code",
   "execution_count": 79,
   "metadata": {},
   "outputs": [
    {
     "name": "stdout",
     "output_type": "stream",
     "text": [
      "Minimum length of the questions in question1 :  1\n",
      "Minimum length of the questions in question2 :  1\n",
      "Number of Questions with minimum length [question1] : 67\n",
      "Number of Questions with minimum length [question2] : 24\n"
     ]
    }
   ],
   "source": [
    "print (\"Minimum length of the questions in question1 : \" , min(df['q1_n_words']))\n",
    "\n",
    "print (\"Minimum length of the questions in question2 : \" , min(df['q2_n_words']))\n",
    "\n",
    "print (\"Number of Questions with minimum length [question1] :\", df[df['q1_n_words']== 1].shape[0])\n",
    "print (\"Number of Questions with minimum length [question2] :\", df[df['q2_n_words']== 1].shape[0])"
   ]
  },
  {
   "cell_type": "code",
   "execution_count": 80,
   "metadata": {},
   "outputs": [
    {
     "data": {
      "text/html": [
       "<div>\n",
       "<style scoped>\n",
       "    .dataframe tbody tr th:only-of-type {\n",
       "        vertical-align: middle;\n",
       "    }\n",
       "\n",
       "    .dataframe tbody tr th {\n",
       "        vertical-align: top;\n",
       "    }\n",
       "\n",
       "    .dataframe thead th {\n",
       "        text-align: right;\n",
       "    }\n",
       "</style>\n",
       "<table border=\"1\" class=\"dataframe\">\n",
       "  <thead>\n",
       "    <tr style=\"text-align: right;\">\n",
       "      <th></th>\n",
       "      <th>id</th>\n",
       "      <th>qid1</th>\n",
       "      <th>qid2</th>\n",
       "      <th>is_duplicate</th>\n",
       "      <th>freq_qid1</th>\n",
       "      <th>freq_qid2</th>\n",
       "      <th>q1_len</th>\n",
       "      <th>q2_len</th>\n",
       "      <th>q1_n_words</th>\n",
       "      <th>q2_n_words</th>\n",
       "      <th>word_common</th>\n",
       "      <th>word_total</th>\n",
       "      <th>word_share</th>\n",
       "      <th>freq_q1+q2</th>\n",
       "      <th>freq_q1-q2</th>\n",
       "    </tr>\n",
       "  </thead>\n",
       "  <tbody>\n",
       "    <tr>\n",
       "      <th>id</th>\n",
       "      <td>1.000000</td>\n",
       "      <td>0.629373</td>\n",
       "      <td>0.641993</td>\n",
       "      <td>-0.008784</td>\n",
       "      <td>-0.002686</td>\n",
       "      <td>-0.001308</td>\n",
       "      <td>0.003901</td>\n",
       "      <td>0.001620</td>\n",
       "      <td>0.003560</td>\n",
       "      <td>0.001131</td>\n",
       "      <td>-0.000014</td>\n",
       "      <td>0.003099</td>\n",
       "      <td>-0.002292</td>\n",
       "      <td>-0.002193</td>\n",
       "      <td>0.000252</td>\n",
       "    </tr>\n",
       "    <tr>\n",
       "      <th>qid1</th>\n",
       "      <td>0.629373</td>\n",
       "      <td>1.000000</td>\n",
       "      <td>0.700140</td>\n",
       "      <td>-0.247072</td>\n",
       "      <td>-0.383712</td>\n",
       "      <td>-0.235651</td>\n",
       "      <td>0.054494</td>\n",
       "      <td>0.026781</td>\n",
       "      <td>0.043720</td>\n",
       "      <td>0.023785</td>\n",
       "      <td>-0.088050</td>\n",
       "      <td>0.037325</td>\n",
       "      <td>-0.107337</td>\n",
       "      <td>-0.345627</td>\n",
       "      <td>-0.211861</td>\n",
       "    </tr>\n",
       "    <tr>\n",
       "      <th>qid2</th>\n",
       "      <td>0.641993</td>\n",
       "      <td>0.700140</td>\n",
       "      <td>1.000000</td>\n",
       "      <td>-0.260101</td>\n",
       "      <td>-0.310959</td>\n",
       "      <td>-0.345283</td>\n",
       "      <td>0.050025</td>\n",
       "      <td>0.065495</td>\n",
       "      <td>0.041854</td>\n",
       "      <td>0.062887</td>\n",
       "      <td>-0.084594</td>\n",
       "      <td>0.061109</td>\n",
       "      <td>-0.112508</td>\n",
       "      <td>-0.382395</td>\n",
       "      <td>-0.271850</td>\n",
       "    </tr>\n",
       "    <tr>\n",
       "      <th>is_duplicate</th>\n",
       "      <td>-0.008784</td>\n",
       "      <td>-0.247072</td>\n",
       "      <td>-0.260101</td>\n",
       "      <td>1.000000</td>\n",
       "      <td>0.339718</td>\n",
       "      <td>0.234760</td>\n",
       "      <td>-0.171079</td>\n",
       "      <td>-0.161969</td>\n",
       "      <td>-0.154320</td>\n",
       "      <td>-0.160445</td>\n",
       "      <td>0.232289</td>\n",
       "      <td>-0.183264</td>\n",
       "      <td>0.385486</td>\n",
       "      <td>0.323320</td>\n",
       "      <td>0.127099</td>\n",
       "    </tr>\n",
       "    <tr>\n",
       "      <th>freq_qid1</th>\n",
       "      <td>-0.002686</td>\n",
       "      <td>-0.383712</td>\n",
       "      <td>-0.310959</td>\n",
       "      <td>0.339718</td>\n",
       "      <td>1.000000</td>\n",
       "      <td>0.484144</td>\n",
       "      <td>-0.031979</td>\n",
       "      <td>-0.010354</td>\n",
       "      <td>-0.021064</td>\n",
       "      <td>-0.009126</td>\n",
       "      <td>0.098958</td>\n",
       "      <td>-0.013337</td>\n",
       "      <td>0.096194</td>\n",
       "      <td>0.814568</td>\n",
       "      <td>0.438490</td>\n",
       "    </tr>\n",
       "    <tr>\n",
       "      <th>freq_qid2</th>\n",
       "      <td>-0.001308</td>\n",
       "      <td>-0.235651</td>\n",
       "      <td>-0.345283</td>\n",
       "      <td>0.234760</td>\n",
       "      <td>0.484144</td>\n",
       "      <td>1.000000</td>\n",
       "      <td>-0.015635</td>\n",
       "      <td>-0.033177</td>\n",
       "      <td>-0.008158</td>\n",
       "      <td>-0.034834</td>\n",
       "      <td>0.068583</td>\n",
       "      <td>-0.022518</td>\n",
       "      <td>0.062568</td>\n",
       "      <td>0.901921</td>\n",
       "      <td>0.827815</td>\n",
       "    </tr>\n",
       "    <tr>\n",
       "      <th>q1_len</th>\n",
       "      <td>0.003901</td>\n",
       "      <td>0.054494</td>\n",
       "      <td>0.050025</td>\n",
       "      <td>-0.171079</td>\n",
       "      <td>-0.031979</td>\n",
       "      <td>-0.015635</td>\n",
       "      <td>1.000000</td>\n",
       "      <td>0.484568</td>\n",
       "      <td>0.958003</td>\n",
       "      <td>0.458559</td>\n",
       "      <td>0.312436</td>\n",
       "      <td>0.807141</td>\n",
       "      <td>-0.163481</td>\n",
       "      <td>-0.026150</td>\n",
       "      <td>-0.008632</td>\n",
       "    </tr>\n",
       "    <tr>\n",
       "      <th>q2_len</th>\n",
       "      <td>0.001620</td>\n",
       "      <td>0.026781</td>\n",
       "      <td>0.065495</td>\n",
       "      <td>-0.161969</td>\n",
       "      <td>-0.010354</td>\n",
       "      <td>-0.033177</td>\n",
       "      <td>0.484568</td>\n",
       "      <td>1.000000</td>\n",
       "      <td>0.461712</td>\n",
       "      <td>0.967470</td>\n",
       "      <td>0.311281</td>\n",
       "      <td>0.841717</td>\n",
       "      <td>-0.156076</td>\n",
       "      <td>-0.027105</td>\n",
       "      <td>-0.011979</td>\n",
       "    </tr>\n",
       "    <tr>\n",
       "      <th>q1_n_words</th>\n",
       "      <td>0.003560</td>\n",
       "      <td>0.043720</td>\n",
       "      <td>0.041854</td>\n",
       "      <td>-0.154320</td>\n",
       "      <td>-0.021064</td>\n",
       "      <td>-0.008158</td>\n",
       "      <td>0.958003</td>\n",
       "      <td>0.461712</td>\n",
       "      <td>1.000000</td>\n",
       "      <td>0.471247</td>\n",
       "      <td>0.328411</td>\n",
       "      <td>0.832359</td>\n",
       "      <td>-0.155392</td>\n",
       "      <td>-0.015806</td>\n",
       "      <td>-0.000267</td>\n",
       "    </tr>\n",
       "    <tr>\n",
       "      <th>q2_n_words</th>\n",
       "      <td>0.001131</td>\n",
       "      <td>0.023785</td>\n",
       "      <td>0.062887</td>\n",
       "      <td>-0.160445</td>\n",
       "      <td>-0.009126</td>\n",
       "      <td>-0.034834</td>\n",
       "      <td>0.458559</td>\n",
       "      <td>0.967470</td>\n",
       "      <td>0.471247</td>\n",
       "      <td>1.000000</td>\n",
       "      <td>0.309454</td>\n",
       "      <td>0.860794</td>\n",
       "      <td>-0.161765</td>\n",
       "      <td>-0.027598</td>\n",
       "      <td>-0.013654</td>\n",
       "    </tr>\n",
       "    <tr>\n",
       "      <th>word_common</th>\n",
       "      <td>-0.000014</td>\n",
       "      <td>-0.088050</td>\n",
       "      <td>-0.084594</td>\n",
       "      <td>0.232289</td>\n",
       "      <td>0.098958</td>\n",
       "      <td>0.068583</td>\n",
       "      <td>0.312436</td>\n",
       "      <td>0.311281</td>\n",
       "      <td>0.328411</td>\n",
       "      <td>0.309454</td>\n",
       "      <td>1.000000</td>\n",
       "      <td>0.381336</td>\n",
       "      <td>0.773825</td>\n",
       "      <td>0.094313</td>\n",
       "      <td>0.048734</td>\n",
       "    </tr>\n",
       "    <tr>\n",
       "      <th>word_total</th>\n",
       "      <td>0.003099</td>\n",
       "      <td>0.037325</td>\n",
       "      <td>0.061109</td>\n",
       "      <td>-0.183264</td>\n",
       "      <td>-0.013337</td>\n",
       "      <td>-0.022518</td>\n",
       "      <td>0.807141</td>\n",
       "      <td>0.841717</td>\n",
       "      <td>0.832359</td>\n",
       "      <td>0.860794</td>\n",
       "      <td>0.381336</td>\n",
       "      <td>1.000000</td>\n",
       "      <td>-0.187858</td>\n",
       "      <td>-0.021512</td>\n",
       "      <td>-0.005050</td>\n",
       "    </tr>\n",
       "    <tr>\n",
       "      <th>word_share</th>\n",
       "      <td>-0.002292</td>\n",
       "      <td>-0.107337</td>\n",
       "      <td>-0.112508</td>\n",
       "      <td>0.385486</td>\n",
       "      <td>0.096194</td>\n",
       "      <td>0.062568</td>\n",
       "      <td>-0.163481</td>\n",
       "      <td>-0.156076</td>\n",
       "      <td>-0.155392</td>\n",
       "      <td>-0.161765</td>\n",
       "      <td>0.773825</td>\n",
       "      <td>-0.187858</td>\n",
       "      <td>1.000000</td>\n",
       "      <td>0.088961</td>\n",
       "      <td>0.031444</td>\n",
       "    </tr>\n",
       "    <tr>\n",
       "      <th>freq_q1+q2</th>\n",
       "      <td>-0.002193</td>\n",
       "      <td>-0.345627</td>\n",
       "      <td>-0.382395</td>\n",
       "      <td>0.323320</td>\n",
       "      <td>0.814568</td>\n",
       "      <td>0.901921</td>\n",
       "      <td>-0.026150</td>\n",
       "      <td>-0.027105</td>\n",
       "      <td>-0.015806</td>\n",
       "      <td>-0.027598</td>\n",
       "      <td>0.094313</td>\n",
       "      <td>-0.021512</td>\n",
       "      <td>0.088961</td>\n",
       "      <td>1.000000</td>\n",
       "      <td>0.765237</td>\n",
       "    </tr>\n",
       "    <tr>\n",
       "      <th>freq_q1-q2</th>\n",
       "      <td>0.000252</td>\n",
       "      <td>-0.211861</td>\n",
       "      <td>-0.271850</td>\n",
       "      <td>0.127099</td>\n",
       "      <td>0.438490</td>\n",
       "      <td>0.827815</td>\n",
       "      <td>-0.008632</td>\n",
       "      <td>-0.011979</td>\n",
       "      <td>-0.000267</td>\n",
       "      <td>-0.013654</td>\n",
       "      <td>0.048734</td>\n",
       "      <td>-0.005050</td>\n",
       "      <td>0.031444</td>\n",
       "      <td>0.765237</td>\n",
       "      <td>1.000000</td>\n",
       "    </tr>\n",
       "  </tbody>\n",
       "</table>\n",
       "</div>"
      ],
      "text/plain": [
       "                    id      qid1      qid2  is_duplicate  freq_qid1  \\\n",
       "id            1.000000  0.629373  0.641993     -0.008784  -0.002686   \n",
       "qid1          0.629373  1.000000  0.700140     -0.247072  -0.383712   \n",
       "qid2          0.641993  0.700140  1.000000     -0.260101  -0.310959   \n",
       "is_duplicate -0.008784 -0.247072 -0.260101      1.000000   0.339718   \n",
       "freq_qid1    -0.002686 -0.383712 -0.310959      0.339718   1.000000   \n",
       "freq_qid2    -0.001308 -0.235651 -0.345283      0.234760   0.484144   \n",
       "q1_len        0.003901  0.054494  0.050025     -0.171079  -0.031979   \n",
       "q2_len        0.001620  0.026781  0.065495     -0.161969  -0.010354   \n",
       "q1_n_words    0.003560  0.043720  0.041854     -0.154320  -0.021064   \n",
       "q2_n_words    0.001131  0.023785  0.062887     -0.160445  -0.009126   \n",
       "word_common  -0.000014 -0.088050 -0.084594      0.232289   0.098958   \n",
       "word_total    0.003099  0.037325  0.061109     -0.183264  -0.013337   \n",
       "word_share   -0.002292 -0.107337 -0.112508      0.385486   0.096194   \n",
       "freq_q1+q2   -0.002193 -0.345627 -0.382395      0.323320   0.814568   \n",
       "freq_q1-q2    0.000252 -0.211861 -0.271850      0.127099   0.438490   \n",
       "\n",
       "              freq_qid2    q1_len    q2_len  q1_n_words  q2_n_words  \\\n",
       "id            -0.001308  0.003901  0.001620    0.003560    0.001131   \n",
       "qid1          -0.235651  0.054494  0.026781    0.043720    0.023785   \n",
       "qid2          -0.345283  0.050025  0.065495    0.041854    0.062887   \n",
       "is_duplicate   0.234760 -0.171079 -0.161969   -0.154320   -0.160445   \n",
       "freq_qid1      0.484144 -0.031979 -0.010354   -0.021064   -0.009126   \n",
       "freq_qid2      1.000000 -0.015635 -0.033177   -0.008158   -0.034834   \n",
       "q1_len        -0.015635  1.000000  0.484568    0.958003    0.458559   \n",
       "q2_len        -0.033177  0.484568  1.000000    0.461712    0.967470   \n",
       "q1_n_words    -0.008158  0.958003  0.461712    1.000000    0.471247   \n",
       "q2_n_words    -0.034834  0.458559  0.967470    0.471247    1.000000   \n",
       "word_common    0.068583  0.312436  0.311281    0.328411    0.309454   \n",
       "word_total    -0.022518  0.807141  0.841717    0.832359    0.860794   \n",
       "word_share     0.062568 -0.163481 -0.156076   -0.155392   -0.161765   \n",
       "freq_q1+q2     0.901921 -0.026150 -0.027105   -0.015806   -0.027598   \n",
       "freq_q1-q2     0.827815 -0.008632 -0.011979   -0.000267   -0.013654   \n",
       "\n",
       "              word_common  word_total  word_share  freq_q1+q2  freq_q1-q2  \n",
       "id              -0.000014    0.003099   -0.002292   -0.002193    0.000252  \n",
       "qid1            -0.088050    0.037325   -0.107337   -0.345627   -0.211861  \n",
       "qid2            -0.084594    0.061109   -0.112508   -0.382395   -0.271850  \n",
       "is_duplicate     0.232289   -0.183264    0.385486    0.323320    0.127099  \n",
       "freq_qid1        0.098958   -0.013337    0.096194    0.814568    0.438490  \n",
       "freq_qid2        0.068583   -0.022518    0.062568    0.901921    0.827815  \n",
       "q1_len           0.312436    0.807141   -0.163481   -0.026150   -0.008632  \n",
       "q2_len           0.311281    0.841717   -0.156076   -0.027105   -0.011979  \n",
       "q1_n_words       0.328411    0.832359   -0.155392   -0.015806   -0.000267  \n",
       "q2_n_words       0.309454    0.860794   -0.161765   -0.027598   -0.013654  \n",
       "word_common      1.000000    0.381336    0.773825    0.094313    0.048734  \n",
       "word_total       0.381336    1.000000   -0.187858   -0.021512   -0.005050  \n",
       "word_share       0.773825   -0.187858    1.000000    0.088961    0.031444  \n",
       "freq_q1+q2       0.094313   -0.021512    0.088961    1.000000    0.765237  \n",
       "freq_q1-q2       0.048734   -0.005050    0.031444    0.765237    1.000000  "
      ]
     },
     "execution_count": 80,
     "metadata": {},
     "output_type": "execute_result"
    }
   ],
   "source": [
    "df.corr()"
   ]
  },
  {
   "cell_type": "code",
   "execution_count": 94,
   "metadata": {},
   "outputs": [
    {
     "data": {
      "image/png": "[encoded data removed]",
      "text/plain": [
       "<Figure size 1152x720 with 2 Axes>"
      ]
     },
     "metadata": {
      "needs_background": "light"
     },
     "output_type": "display_data"
    }
   ],
   "source": [
    "plt.figure(figsize=(16,10))\n",
    "cor = df.corr()\n",
    "sns.heatmap(cor, annot=True, cmap=plt.cm.Greens)\n",
    "plt.show()"
   ]
  },
  {
   "cell_type": "code",
   "execution_count": 92,
   "metadata": {},
   "outputs": [
    {
     "data": {
      "text/plain": [
       "id              False\n",
       "qid1            False\n",
       "qid2            False\n",
       "is_duplicate     True\n",
       "freq_qid1        True\n",
       "freq_qid2        True\n",
       "q1_len          False\n",
       "q2_len          False\n",
       "q1_n_words      False\n",
       "q2_n_words      False\n",
       "word_common      True\n",
       "word_total      False\n",
       "word_share       True\n",
       "freq_q1+q2       True\n",
       "freq_q1-q2       True\n",
       "Name: is_duplicate, dtype: bool"
      ]
     },
     "execution_count": 92,
     "metadata": {},
     "output_type": "execute_result"
    }
   ],
   "source": [
    "cor['is_duplicate']>0"
   ]
  },
  {
   "cell_type": "raw",
   "metadata": {},
   "source": [
    "# Best features: According to correlation; but we need to convert question_1 and question_2\n",
    "\n",
    "\n",
    "freq_qid1\n",
    "freq_qid2\n",
    "word_common\n",
    "word_share\n",
    "freq_q1+q2\n",
    "freq_q1-q2"
   ]
  },
  {
   "cell_type": "code",
   "execution_count": 95,
   "metadata": {},
   "outputs": [],
   "source": [
    "df.to_csv('train_features.csv',index=False)"
   ]
  },
  {
   "cell_type": "code",
   "execution_count": null,
   "metadata": {},
   "outputs": [],
   "source": []
  },
  {
   "cell_type": "code",
   "execution_count": 10,
   "metadata": {},
   "outputs": [
    {
     "data": {
      "text/html": [
       "<div>\n",
       "<style scoped>\n",
       "    .dataframe tbody tr th:only-of-type {\n",
       "        vertical-align: middle;\n",
       "    }\n",
       "\n",
       "    .dataframe tbody tr th {\n",
       "        vertical-align: top;\n",
       "    }\n",
       "\n",
       "    .dataframe thead th {\n",
       "        text-align: right;\n",
       "    }\n",
       "</style>\n",
       "<table border=\"1\" class=\"dataframe\">\n",
       "  <thead>\n",
       "    <tr style=\"text-align: right;\">\n",
       "      <th></th>\n",
       "      <th>id</th>\n",
       "      <th>qid1</th>\n",
       "      <th>qid2</th>\n",
       "      <th>question1</th>\n",
       "      <th>question2</th>\n",
       "      <th>is_duplicate</th>\n",
       "      <th>freq_qid1</th>\n",
       "      <th>freq_qid2</th>\n",
       "      <th>q1_len</th>\n",
       "      <th>q2_len</th>\n",
       "      <th>q1_n_words</th>\n",
       "      <th>q2_n_words</th>\n",
       "      <th>word_common</th>\n",
       "      <th>word_total</th>\n",
       "      <th>word_share</th>\n",
       "      <th>freq_q1+q2</th>\n",
       "      <th>freq_q1-q2</th>\n",
       "    </tr>\n",
       "  </thead>\n",
       "  <tbody>\n",
       "    <tr>\n",
       "      <th>0</th>\n",
       "      <td>0</td>\n",
       "      <td>1</td>\n",
       "      <td>2</td>\n",
       "      <td>What is the step by step guide to invest in sh...</td>\n",
       "      <td>What is the step by step guide to invest in sh...</td>\n",
       "      <td>0</td>\n",
       "      <td>1</td>\n",
       "      <td>1</td>\n",
       "      <td>66</td>\n",
       "      <td>57</td>\n",
       "      <td>14</td>\n",
       "      <td>12</td>\n",
       "      <td>10.0</td>\n",
       "      <td>23.0</td>\n",
       "      <td>0.434783</td>\n",
       "      <td>2</td>\n",
       "      <td>0</td>\n",
       "    </tr>\n",
       "    <tr>\n",
       "      <th>1</th>\n",
       "      <td>1</td>\n",
       "      <td>3</td>\n",
       "      <td>4</td>\n",
       "      <td>What is the story of Kohinoor (Koh-i-Noor) Dia...</td>\n",
       "      <td>What would happen if the Indian government sto...</td>\n",
       "      <td>0</td>\n",
       "      <td>4</td>\n",
       "      <td>1</td>\n",
       "      <td>51</td>\n",
       "      <td>88</td>\n",
       "      <td>8</td>\n",
       "      <td>13</td>\n",
       "      <td>4.0</td>\n",
       "      <td>20.0</td>\n",
       "      <td>0.200000</td>\n",
       "      <td>5</td>\n",
       "      <td>3</td>\n",
       "    </tr>\n",
       "  </tbody>\n",
       "</table>\n",
       "</div>"
      ],
      "text/plain": [
       "   id  qid1  qid2                                          question1  \\\n",
       "0   0     1     2  What is the step by step guide to invest in sh...   \n",
       "1   1     3     4  What is the story of Kohinoor (Koh-i-Noor) Dia...   \n",
       "\n",
       "                                           question2  is_duplicate  freq_qid1  \\\n",
       "0  What is the step by step guide to invest in sh...             0          1   \n",
       "1  What would happen if the Indian government sto...             0          4   \n",
       "\n",
       "   freq_qid2  q1_len  q2_len  q1_n_words  q2_n_words  word_common  word_total  \\\n",
       "0          1      66      57          14          12         10.0        23.0   \n",
       "1          1      51      88           8          13          4.0        20.0   \n",
       "\n",
       "   word_share  freq_q1+q2  freq_q1-q2  \n",
       "0    0.434783           2           0  \n",
       "1    0.200000           5           3  "
      ]
     },
     "execution_count": 10,
     "metadata": {},
     "output_type": "execute_result"
    }
   ],
   "source": [
    "df = pd.read_csv('train_features.csv')\n",
    "df.head(2)"
   ]
  },
  {
   "cell_type": "markdown",
   "metadata": {},
   "source": [
    "### Preprocessing of Text \n"
   ]
  },
  {
   "cell_type": "raw",
   "metadata": {},
   "source": [
    "Removing html tags\n",
    "Removing Punctuations\n",
    "Performing stemming\n",
    "Removing Stopwords\n",
    "Expanding contractions etc."
   ]
  },
  {
   "cell_type": "code",
   "execution_count": 11,
   "metadata": {},
   "outputs": [],
   "source": [
    "STOP_WORDS = stopwords.words(\"english\")\n",
    "\n",
    "def preprocess(x):\n",
    "    x = str(x).lower()\n",
    "    x = x.replace(\",000,000\", \"m\").replace(\",000\", \"k\").replace(\"′\", \"'\").replace(\"’\", \"'\")\\\n",
    "                           .replace(\"won't\", \"will not\").replace(\"cannot\", \"can not\").replace(\"can't\", \"can not\")\\\n",
    "                           .replace(\"n't\", \" not\").replace(\"what's\", \"what is\").replace(\"it's\", \"it is\")\\\n",
    "                           .replace(\"'ve\", \" have\").replace(\"i'm\", \"i am\").replace(\"'re\", \" are\")\\\n",
    "                           .replace(\"he's\", \"he is\").replace(\"she's\", \"she is\").replace(\"'s\", \" own\")\\\n",
    "                           .replace(\"%\", \" percent \").replace(\"₹\", \" rupee \").replace(\"$\", \" dollar \")\\\n",
    "                           .replace(\"€\", \" euro \").replace(\"'ll\", \" will\")\n",
    "    x = re.sub(r\"([0-9]+)000000\", r\"\\1m\", x)\n",
    "    x = re.sub(r\"([0-9]+)000\", r\"\\1k\", x)\n",
    "    \n",
    "    \n",
    "    porter = PorterStemmer()\n",
    "    pattern = re.compile('\\W')\n",
    "    \n",
    "    if type(x) == type(''):\n",
    "        x = re.sub(pattern, ' ', x)\n",
    "    \n",
    "    \n",
    "    if type(x) == type(''):\n",
    "        x = porter.stem(x)\n",
    "        example1 = BeautifulSoup(x)\n",
    "        x = example1.get_text()\n",
    "               \n",
    "    \n",
    "    return x"
   ]
  },
  {
   "cell_type": "code",
   "execution_count": 12,
   "metadata": {},
   "outputs": [],
   "source": [
    "df[\"question1\"] = df[\"question1\"].apply(preprocess)\n",
    "df[\"question2\"] = df[\"question2\"].apply(preprocess)"
   ]
  },
  {
   "cell_type": "code",
   "execution_count": 13,
   "metadata": {},
   "outputs": [
    {
     "data": {
      "text/plain": [
       "'how can i increase the speed of my internet connection while using a vpn '"
      ]
     },
     "execution_count": 13,
     "metadata": {},
     "output_type": "execute_result"
    }
   ],
   "source": [
    "df['question1'][2]"
   ]
  },
  {
   "cell_type": "code",
   "execution_count": 14,
   "metadata": {},
   "outputs": [
    {
     "data": {
      "text/plain": [
       "'how can internet speed be increased by hacking through dns '"
      ]
     },
     "execution_count": 14,
     "metadata": {},
     "output_type": "execute_result"
    }
   ],
   "source": [
    "df['question2'][2]"
   ]
  },
  {
   "cell_type": "markdown",
   "metadata": {},
   "source": [
    "### Converting Texts"
   ]
  },
  {
   "cell_type": "code",
   "execution_count": 15,
   "metadata": {},
   "outputs": [],
   "source": [
    "# merge texts\n",
    "questions = list(df['question1']) + list(df['question2'])"
   ]
  },
  {
   "cell_type": "code",
   "execution_count": 19,
   "metadata": {},
   "outputs": [],
   "source": [
    "from sklearn.feature_extraction.text import TfidfVectorizer\n",
    "from sklearn.feature_extraction.text import CountVectorizer\n",
    "\n",
    "import spacy\n",
    "from tqdm import tqdm"
   ]
  },
  {
   "cell_type": "markdown",
   "metadata": {},
   "source": [
    "After we find TF-IDF scores, we convert each question to a weighted average of word2vec vectors by these scores.\n",
    "here we use a pre-trained GLOVE model which comes free with \"Spacy\". https://spacy.io/usage/vectors-similarity\n",
    "It is trained on Wikipedia and therefore, it is stronger in terms of word semantics."
   ]
  },
  {
   "cell_type": "code",
   "execution_count": 18,
   "metadata": {},
   "outputs": [],
   "source": [
    "tfidf = TfidfVectorizer(lowercase=False, )\n",
    "tfidf.fit_transform(questions)\n",
    "\n",
    "word2tfidf = dict(zip(tfidf.get_feature_names(),tfidf.idf_)) ## dict key:word and value:tf-idf score"
   ]
  },
  {
   "cell_type": "code",
   "execution_count": 29,
   "metadata": {},
   "outputs": [
    {
     "ename": "OSError",
     "evalue": "[E050] Can't find model 'en_core_web_sm'. It doesn't seem to be a shortcut link, a Python package or a valid path to a data directory.",
     "output_type": "error",
     "traceback": [
      "\u001b[1;31m---------------------------------------------------------------------------\u001b[0m",
      "\u001b[1;31mOSError\u001b[0m                                   Traceback (most recent call last)",
      "\u001b[1;32m<ipython-input-29-585fb25f263e>\u001b[0m in \u001b[0;36m<module>\u001b[1;34m\u001b[0m\n\u001b[0;32m      1\u001b[0m \u001b[1;31m#python -m spacy download en_core_web_sm\u001b[0m\u001b[1;33m\u001b[0m\u001b[1;33m\u001b[0m\u001b[1;33m\u001b[0m\u001b[0m\n\u001b[0;32m      2\u001b[0m \u001b[1;33m\u001b[0m\u001b[0m\n\u001b[1;32m----> 3\u001b[1;33m \u001b[0mnlp\u001b[0m  \u001b[1;33m=\u001b[0m \u001b[0mspacy\u001b[0m\u001b[1;33m.\u001b[0m\u001b[0mload\u001b[0m\u001b[1;33m(\u001b[0m\u001b[1;34m'en_core_web_sm'\u001b[0m\u001b[1;33m)\u001b[0m\u001b[1;33m\u001b[0m\u001b[1;33m\u001b[0m\u001b[0m\n\u001b[0m\u001b[0;32m      4\u001b[0m \u001b[1;33m\u001b[0m\u001b[0m\n\u001b[0;32m      5\u001b[0m \u001b[0mvecs1\u001b[0m \u001b[1;33m=\u001b[0m \u001b[1;33m[\u001b[0m\u001b[1;33m]\u001b[0m\u001b[1;33m\u001b[0m\u001b[1;33m\u001b[0m\u001b[0m\n",
      "\u001b[1;32m~\\AppData\\Roaming\\Python\\Python37\\site-packages\\spacy\\__init__.py\u001b[0m in \u001b[0;36mload\u001b[1;34m(name, **overrides)\u001b[0m\n\u001b[0;32m     28\u001b[0m     \u001b[1;32mif\u001b[0m \u001b[0mdepr_path\u001b[0m \u001b[1;32mnot\u001b[0m \u001b[1;32min\u001b[0m \u001b[1;33m(\u001b[0m\u001b[1;32mTrue\u001b[0m\u001b[1;33m,\u001b[0m \u001b[1;32mFalse\u001b[0m\u001b[1;33m,\u001b[0m \u001b[1;32mNone\u001b[0m\u001b[1;33m)\u001b[0m\u001b[1;33m:\u001b[0m\u001b[1;33m\u001b[0m\u001b[1;33m\u001b[0m\u001b[0m\n\u001b[0;32m     29\u001b[0m         \u001b[0mdeprecation_warning\u001b[0m\u001b[1;33m(\u001b[0m\u001b[0mWarnings\u001b[0m\u001b[1;33m.\u001b[0m\u001b[0mW001\u001b[0m\u001b[1;33m.\u001b[0m\u001b[0mformat\u001b[0m\u001b[1;33m(\u001b[0m\u001b[0mpath\u001b[0m\u001b[1;33m=\u001b[0m\u001b[0mdepr_path\u001b[0m\u001b[1;33m)\u001b[0m\u001b[1;33m)\u001b[0m\u001b[1;33m\u001b[0m\u001b[1;33m\u001b[0m\u001b[0m\n\u001b[1;32m---> 30\u001b[1;33m     \u001b[1;32mreturn\u001b[0m \u001b[0mutil\u001b[0m\u001b[1;33m.\u001b[0m\u001b[0mload_model\u001b[0m\u001b[1;33m(\u001b[0m\u001b[0mname\u001b[0m\u001b[1;33m,\u001b[0m \u001b[1;33m**\u001b[0m\u001b[0moverrides\u001b[0m\u001b[1;33m)\u001b[0m\u001b[1;33m\u001b[0m\u001b[1;33m\u001b[0m\u001b[0m\n\u001b[0m\u001b[0;32m     31\u001b[0m \u001b[1;33m\u001b[0m\u001b[0m\n\u001b[0;32m     32\u001b[0m \u001b[1;33m\u001b[0m\u001b[0m\n",
      "\u001b[1;32m~\\AppData\\Roaming\\Python\\Python37\\site-packages\\spacy\\util.py\u001b[0m in \u001b[0;36mload_model\u001b[1;34m(name, **overrides)\u001b[0m\n\u001b[0;32m    167\u001b[0m     \u001b[1;32melif\u001b[0m \u001b[0mhasattr\u001b[0m\u001b[1;33m(\u001b[0m\u001b[0mname\u001b[0m\u001b[1;33m,\u001b[0m \u001b[1;34m\"exists\"\u001b[0m\u001b[1;33m)\u001b[0m\u001b[1;33m:\u001b[0m  \u001b[1;31m# Path or Path-like to model data\u001b[0m\u001b[1;33m\u001b[0m\u001b[1;33m\u001b[0m\u001b[0m\n\u001b[0;32m    168\u001b[0m         \u001b[1;32mreturn\u001b[0m \u001b[0mload_model_from_path\u001b[0m\u001b[1;33m(\u001b[0m\u001b[0mname\u001b[0m\u001b[1;33m,\u001b[0m \u001b[1;33m**\u001b[0m\u001b[0moverrides\u001b[0m\u001b[1;33m)\u001b[0m\u001b[1;33m\u001b[0m\u001b[1;33m\u001b[0m\u001b[0m\n\u001b[1;32m--> 169\u001b[1;33m     \u001b[1;32mraise\u001b[0m \u001b[0mIOError\u001b[0m\u001b[1;33m(\u001b[0m\u001b[0mErrors\u001b[0m\u001b[1;33m.\u001b[0m\u001b[0mE050\u001b[0m\u001b[1;33m.\u001b[0m\u001b[0mformat\u001b[0m\u001b[1;33m(\u001b[0m\u001b[0mname\u001b[0m\u001b[1;33m=\u001b[0m\u001b[0mname\u001b[0m\u001b[1;33m)\u001b[0m\u001b[1;33m)\u001b[0m\u001b[1;33m\u001b[0m\u001b[1;33m\u001b[0m\u001b[0m\n\u001b[0m\u001b[0;32m    170\u001b[0m \u001b[1;33m\u001b[0m\u001b[0m\n\u001b[0;32m    171\u001b[0m \u001b[1;33m\u001b[0m\u001b[0m\n",
      "\u001b[1;31mOSError\u001b[0m: [E050] Can't find model 'en_core_web_sm'. It doesn't seem to be a shortcut link, a Python package or a valid path to a data directory."
     ]
    }
   ],
   "source": [
    "#python -m spacy download en_core_web_sm\n",
    "\n",
    "nlp  = spacy.load('en_core_web_sm')\n",
    "\n",
    "vecs1 = []\n",
    "\n",
    "for q1 in tqdm(list(df['question1'])):\n",
    "    doc1 = nlp(q1)\n",
    "    \n",
    "    mean_vec1 = np.zeros([len(doc1),len(doc1[0].vector)])\n",
    "    \n",
    "    for word1 in doc1:\n",
    "        vec1 = word1.vector\n",
    "        \n",
    "        try:\n",
    "            idf = word2tfidf[str(word)]\n",
    "        except:\n",
    "            idf =0\n",
    "            \n",
    "        mean_vec1 += vec1*idf\n",
    "        \n",
    "    mean_vec1 = mean_vec1.mean(axis=0)\n",
    "    vecs1.append(mean_vec1)\n",
    "\n",
    "df['q1_feats_m'] = list(vecs1)\n",
    "        "
   ]
  },
  {
   "cell_type": "code",
   "execution_count": null,
   "metadata": {},
   "outputs": [],
   "source": []
  }
 ],
 "metadata": {
  "kernelspec": {
   "display_name": "Python 3",
   "language": "python",
   "name": "python3"
  },
  "language_info": {
   "codemirror_mode": {
    "name": "ipython",
    "version": 3
   },
   "file_extension": ".py",
   "mimetype": "text/x-python",
   "name": "python",
   "nbconvert_exporter": "python",
   "pygments_lexer": "ipython3",
   "version": "3.7.3"
  }
 },
 "nbformat": 4,
 "nbformat_minor": 2
}
